{
 "cells": [
  {
   "cell_type": "markdown",
   "metadata": {
    "colab_type": "text",
    "id": "Qx2vMycCWEcH"
   },
   "source": [
    "# Mobilenetv2 Object detection using Custom dataset "
   ]
  },
  {
   "cell_type": "markdown",
   "metadata": {
    "colab_type": "text",
    "id": "FvoQ4s_TWLai"
   },
   "source": [
    "##  Important Note\n",
    "\n",
    "**For the code to work without any issue it is preferred to run it in the  [object detection file](https://github.com/osman-95/Project_Progress_2/tree/master/Project_tasks/Mobilenet/models_Tf/research/object_detection) directory of tensorflow API repository. ALL the directory location needed to set according to your setup configuration to test the working code**\n",
    "\n",
    "The object detection file contains all the essential libraries and packages required for training and evaluation such as.\n",
    "\n",
    "- train.py\n",
    "- eval.py\n",
    "- xml_to csv.py\n",
    "- generate_tfrecords\n",
    "- setup.py (to install object detection library and need to be executed when the directory is set to object detection file in tensflow API) \n",
    "\n",
    "\n",
    "\n",
    "\n",
    "\n",
    "##  Essential files not available on github \n",
    "The following folders are not uploaded on github and are included in **[drive](https://drive.google.com/drive/folders/1yfKKVxpYeO937jPCwaGL4C0D4id7lsrs?usp=sharing)** due its large size.\n",
    "\n",
    "- The **training files** used to record the checkpoints of the training process,\n",
    "- **images file** that incorporate the images and their respective annotation csv file and tfrecords,\n",
    "- **inference graph files** that contain the inference graph of the trained models ready to be evaluated."
   ]
  },
  {
   "cell_type": "markdown",
   "metadata": {
    "colab_type": "text",
    "id": "jRc0HCweWLkq"
   },
   "source": [
    "## Description of the code\n",
    "\n",
    "The code below covers the following\n",
    "\n",
    "- setting up the environment with all prerequisites packages that are needed to be installed for the API to work efficiently\n",
    "- The preprocessing of the image dataset\n",
    "- generation of tf.records\n",
    "- generation of csv annotation file \n",
    "- Configuring the model with respect to the custom dataset\n",
    "- Training of custom model \n",
    "- Evaluating the model\n",
    "- generating of inference graph of the trained model"
   ]
  },
  {
   "cell_type": "markdown",
   "metadata": {
    "colab_type": "text",
    "id": "tLzM283iHJ1Q"
   },
   "source": [
    "## **colab prerequisites and mounting it to drive**"
   ]
  },
  {
   "cell_type": "code",
   "execution_count": null,
   "metadata": {
    "colab": {
     "base_uri": "https://localhost:8080/",
     "height": 121
    },
    "colab_type": "code",
    "executionInfo": {
     "elapsed": 58636,
     "status": "ok",
     "timestamp": 1593408201752,
     "user": {
      "displayName": "technical tasks",
      "photoUrl": "",
      "userId": "05927116453551536656"
     },
     "user_tz": 240
    },
    "id": "qSr37WRURPZr",
    "outputId": "c2536253-4bd0-44dc-d9ed-db3ec561c9a2"
   },
   "outputs": [
    {
     "name": "stdout",
     "output_type": "stream",
     "text": [
      "E: Package 'python-software-properties' has no installation candidate\n",
      "Please, open the following URL in a web browser: https://accounts.google.com/o/oauth2/auth?client_id=32555940559.apps.googleusercontent.com&redirect_uri=urn%3Aietf%3Awg%3Aoauth%3A2.0%3Aoob&scope=https%3A%2F%2Fwww.googleapis.com%2Fauth%2Fdrive&response_type=code&access_type=offline&approval_prompt=force\n",
      "··········\n",
      "Please, open the following URL in a web browser: https://accounts.google.com/o/oauth2/auth?client_id=32555940559.apps.googleusercontent.com&redirect_uri=urn%3Aietf%3Awg%3Aoauth%3A2.0%3Aoob&scope=https%3A%2F%2Fwww.googleapis.com%2Fauth%2Fdrive&response_type=code&access_type=offline&approval_prompt=force\n",
      "Please enter the verification code: Access token retrieved correctly.\n"
     ]
    }
   ],
   "source": [
    "!apt-get install -y -qq software-properties-common python-software-properties module-init-tools\n",
    "!add-apt-repository -y ppa:alessandro-strada/ppa 2>&1 > /dev/null\n",
    "!apt-get update -qq 2>&1 > /dev/null\n",
    "!apt-get -y install -qq google-drive-ocamlfuse fuse\n",
    "from google.colab import auth\n",
    "auth.authenticate_user()\n",
    "from oauth2client.client import GoogleCredentials\n",
    "creds = GoogleCredentials.get_application_default()\n",
    "import getpass\n",
    "!google-drive-ocamlfuse -headless -id={creds.client_id} -secret={creds.client_secret} < /dev/null 2>&1 | grep URL\n",
    "vcode = getpass.getpass()\n",
    "!echo {vcode} | google-drive-ocamlfuse -headless -id={creds.client_id} -secret={creds.client_secret}"
   ]
  },
  {
   "cell_type": "code",
   "execution_count": null,
   "metadata": {
    "colab": {
     "base_uri": "https://localhost:8080/",
     "height": 34
    },
    "colab_type": "code",
    "executionInfo": {
     "elapsed": 4325,
     "status": "ok",
     "timestamp": 1593408108735,
     "user": {
      "displayName": "technical tasks",
      "photoUrl": "",
      "userId": "05927116453551536656"
     },
     "user_tz": 240
    },
    "id": "mRHISZNsRzQ9",
    "outputId": "74345e98-710e-455d-c310-7d24a5edb00d"
   },
   "outputs": [
    {
     "name": "stdout",
     "output_type": "stream",
     "text": [
      "/bin/bash: google-drive-ocamlfuse: command not found\n"
     ]
    }
   ],
   "source": [
    "!mkdir -p drive\n",
    "!google-drive-ocamlfuse drive"
   ]
  },
  {
   "cell_type": "markdown",
   "metadata": {
    "colab_type": "text",
    "id": "b5hdJ_qsHuiG"
   },
   "source": [
    "## **Change directory**"
   ]
  },
  {
   "cell_type": "code",
   "execution_count": null,
   "metadata": {
    "colab": {
     "base_uri": "https://localhost:8080/",
     "height": 34
    },
    "colab_type": "code",
    "executionInfo": {
     "elapsed": 357,
     "status": "ok",
     "timestamp": 1595914479136,
     "user": {
      "displayName": "technical tasks",
      "photoUrl": "",
      "userId": "05927116453551536656"
     },
     "user_tz": 240
    },
    "id": "SsRA0-FNyDWF",
    "outputId": "625cd56d-e6b1-4ab2-c1bd-071526123c1a"
   },
   "outputs": [
    {
     "name": "stdout",
     "output_type": "stream",
     "text": [
      "/content/drive/My Drive/Final_Model/Mobilenet/models_Tf/research/object_detection\n"
     ]
    }
   ],
   "source": [
    "cd /content/drive/My Drive/Final_Model/Mobilenet/models_Tf/research/object_detection/"
   ]
  },
  {
   "cell_type": "code",
   "execution_count": 1,
   "metadata": {
    "colab": {
     "base_uri": "https://localhost:8080/",
     "height": 35
    },
    "colab_type": "code",
    "executionInfo": {
     "elapsed": 494,
     "status": "ok",
     "timestamp": 1595960810764,
     "user": {
      "displayName": "technical tasks",
      "photoUrl": "",
      "userId": "05927116453551536656"
     },
     "user_tz": 240
    },
    "id": "Li-5YDZywwhY",
    "outputId": "0c1b4874-784d-481a-8fea-540c8b9f8ffb"
   },
   "outputs": [
    {
     "data": {
      "application/vnd.google.colaboratory.intrinsic+json": {
       "type": "string"
      },
      "text/plain": [
       "'/content'"
      ]
     },
     "execution_count": 1,
     "metadata": {
      "tags": []
     },
     "output_type": "execute_result"
    }
   ],
   "source": [
    "pwd"
   ]
  },
  {
   "cell_type": "code",
   "execution_count": null,
   "metadata": {
    "colab": {
     "base_uri": "https://localhost:8080/",
     "height": 34
    },
    "colab_type": "code",
    "executionInfo": {
     "elapsed": 320,
     "status": "ok",
     "timestamp": 1595917014591,
     "user": {
      "displayName": "technical tasks",
      "photoUrl": "",
      "userId": "05927116453551536656"
     },
     "user_tz": 240
    },
    "id": "pIBDk7wXCILY",
    "outputId": "0c076a50-5d8e-45ff-9c3d-1d0810557235"
   },
   "outputs": [
    {
     "name": "stdout",
     "output_type": "stream",
     "text": [
      "/content/drive/My Drive/Final_Model/Mobilenet/models_Tf/research\n"
     ]
    }
   ],
   "source": [
    "cd /content/drive/My Drive/Final_Model/Mobilenet/models_Tf/research/"
   ]
  },
  {
   "cell_type": "markdown",
   "metadata": {
    "colab_type": "text",
    "id": "SFlmc5c0H1uN"
   },
   "source": [
    "## **Check tensorflow version**"
   ]
  },
  {
   "cell_type": "code",
   "execution_count": null,
   "metadata": {
    "colab": {},
    "colab_type": "code",
    "id": "IaHCEuqo82xu"
   },
   "outputs": [],
   "source": [
    "! python -c 'import tensorflow as tf; print(tf.__version__)' "
   ]
  },
  {
   "cell_type": "code",
   "execution_count": null,
   "metadata": {
    "colab": {},
    "colab_type": "code",
    "id": "YYz7_sw3KEQi"
   },
   "outputs": [],
   "source": [
    "import tensorflow as tf\n",
    "tf.test.is_gpu_available()\n",
    "#tf.config.list_physical_devices('GPU')"
   ]
  },
  {
   "cell_type": "markdown",
   "metadata": {
    "colab_type": "text",
    "id": "AWFudFCAGkgl"
   },
   "source": [
    "### Changing tensorflow version from 2.0.0 to 1.15.2"
   ]
  },
  {
   "cell_type": "code",
   "execution_count": null,
   "metadata": {
    "colab": {
     "base_uri": "https://localhost:8080/",
     "height": 50
    },
    "colab_type": "code",
    "executionInfo": {
     "elapsed": 5344,
     "status": "ok",
     "timestamp": 1595914491881,
     "user": {
      "displayName": "technical tasks",
      "photoUrl": "",
      "userId": "05927116453551536656"
     },
     "user_tz": 240
    },
    "id": "6rUJ67yDl4D_",
    "outputId": "0f97345a-d86c-4e39-d4eb-292f97576a42"
   },
   "outputs": [
    {
     "name": "stdout",
     "output_type": "stream",
     "text": [
      "TensorFlow 1.x selected.\n",
      "1.15.2\n"
     ]
    }
   ],
   "source": [
    "%tensorflow_version 1.x\n",
    "import tensorflow as tf\n",
    "print(tf.__version__)"
   ]
  },
  {
   "cell_type": "markdown",
   "metadata": {
    "colab_type": "text",
    "id": "sMil9CSxG_od"
   },
   "source": [
    "## **Cloning the tensorflow repository**"
   ]
  },
  {
   "cell_type": "code",
   "execution_count": null,
   "metadata": {
    "colab": {
     "base_uri": "https://localhost:8080/",
     "height": 118
    },
    "colab_type": "code",
    "executionInfo": {
     "elapsed": 44144,
     "status": "ok",
     "timestamp": 1589607261559,
     "user": {
      "displayName": "technical tasks",
      "photoUrl": "",
      "userId": "05927116453551536656"
     },
     "user_tz": 240
    },
    "id": "S1ODpkQO-D9u",
    "outputId": "8797561a-15af-4df5-8ea4-4ccfde5d415f"
   },
   "outputs": [
    {
     "name": "stdout",
     "output_type": "stream",
     "text": [
      "Cloning into 'models'...\n",
      "remote: Enumerating objects: 35066, done.\u001b[K\n",
      "remote: Total 35066 (delta 0), reused 0 (delta 0), pack-reused 35066\u001b[K\n",
      "Receiving objects: 100% (35066/35066), 512.86 MiB | 18.92 MiB/s, done.\n",
      "Resolving deltas: 100% (22765/22765), done.\n",
      "Checking out files: 100% (2512/2512), done.\n"
     ]
    }
   ],
   "source": [
    "! git clone https://github.com/osman-95/models.git\n"
   ]
  },
  {
   "cell_type": "markdown",
   "metadata": {
    "colab_type": "text",
    "id": "pKn5iTVLH6Rg"
   },
   "source": [
    "## **install prerequisites libraries**"
   ]
  },
  {
   "cell_type": "markdown",
   "metadata": {
    "colab_type": "text",
    "id": "jjPYKUlAy-Q9"
   },
   "source": [
    "### **prerequisites libraries**"
   ]
  },
  {
   "cell_type": "code",
   "execution_count": null,
   "metadata": {
    "colab": {},
    "colab_type": "code",
    "id": "WK7mpRkTKYiN"
   },
   "outputs": [],
   "source": [
    "! pip install --user Cython\n",
    "! pip install --user contextlib2\n",
    "! pip install --user pillow\n",
    "! pip install --user lxml\n",
    "! pip install --user jupyter\n",
    "! pip install --user matplotlib"
   ]
  },
  {
   "cell_type": "markdown",
   "metadata": {
    "colab_type": "text",
    "id": "zpShpLkbcnE-"
   },
   "source": [
    "### **Installing cocoapi prerequisites**"
   ]
  },
  {
   "cell_type": "code",
   "execution_count": null,
   "metadata": {
    "cellView": "both",
    "colab": {},
    "colab_type": "code",
    "id": "Ha6uKUw3LNzA"
   },
   "outputs": [],
   "source": [
    "#@title \n",
    "! pip install \"git+https://github.com/philferriere/cocoapi.git#egg=pycocotools&subdirectory=PythonAPI\""
   ]
  },
  {
   "cell_type": "markdown",
   "metadata": {
    "colab_type": "text",
    "id": "Ytm-8jN_g-fh"
   },
   "source": [
    "\n",
    "## **Converting the protos files to py**"
   ]
  },
  {
   "cell_type": "code",
   "execution_count": null,
   "metadata": {
    "colab": {},
    "colab_type": "code",
    "id": "YSnh1_6GgtKq"
   },
   "outputs": [],
   "source": [
    "! protoc --python_out=. ./object_detection/protos/*.proto  "
   ]
  },
  {
   "cell_type": "code",
   "execution_count": null,
   "metadata": {
    "colab": {},
    "colab_type": "code",
    "id": "w5CfizHXf1W3"
   },
   "outputs": [],
   "source": [
    "! protoc --python_out=. ./object_detection/protos/anchor_generator.proto "
   ]
  },
  {
   "cell_type": "markdown",
   "metadata": {
    "colab_type": "text",
    "id": "HafKx6SUGw6Y"
   },
   "source": [
    "## **Converting xml files of image annotations to csv files**"
   ]
  },
  {
   "cell_type": "code",
   "execution_count": null,
   "metadata": {
    "colab": {
     "base_uri": "https://localhost:8080/",
     "height": 34
    },
    "colab_type": "code",
    "executionInfo": {
     "elapsed": 836068,
     "status": "ok",
     "timestamp": 1593641875705,
     "user": {
      "displayName": "technical tasks",
      "photoUrl": "",
      "userId": "05927116453551536656"
     },
     "user_tz": 240
    },
    "id": "LVrG7tYiaDKB",
    "outputId": "83b6d148-a76b-44e4-9685-75d27048de89"
   },
   "outputs": [
    {
     "name": "stdout",
     "output_type": "stream",
     "text": [
      "Successfully converted xml to csv.\n"
     ]
    }
   ],
   "source": [
    "! python xml_to_csv.py"
   ]
  },
  {
   "cell_type": "code",
   "execution_count": null,
   "metadata": {
    "colab": {},
    "colab_type": "code",
    "id": "kc5iIOKkneP7"
   },
   "outputs": [],
   "source": [
    "! python test_xml_to_csv.py"
   ]
  },
  {
   "cell_type": "code",
   "execution_count": null,
   "metadata": {
    "colab": {},
    "colab_type": "code",
    "id": "uDv2ZFyy7TX5"
   },
   "outputs": [],
   "source": [
    "! python xml_to_csv_2.py"
   ]
  },
  {
   "cell_type": "code",
   "execution_count": null,
   "metadata": {
    "colab": {
     "base_uri": "https://localhost:8080/",
     "height": 34
    },
    "colab_type": "code",
    "executionInfo": {
     "elapsed": 790,
     "status": "ok",
     "timestamp": 1595909177283,
     "user": {
      "displayName": "technical tasks",
      "photoUrl": "",
      "userId": "05927116453551536656"
     },
     "user_tz": 240
    },
    "id": "yvOc_rh_0xem",
    "outputId": "fc91d3bf-edd6-48e4-8e18-b3bb60e6e335"
   },
   "outputs": [
    {
     "name": "stdout",
     "output_type": "stream",
     "text": [
      "/content/drive/My Drive/Final_Model/Mobilenet/models_Tf/research\n"
     ]
    }
   ],
   "source": [
    "cd /content/drive/My Drive/Final_Model/Mobilenet/models_Tf/research/"
   ]
  },
  {
   "cell_type": "markdown",
   "metadata": {
    "colab_type": "text",
    "id": "36PIfsCLGVT2"
   },
   "source": [
    "## **Building object detection prerequisites**"
   ]
  },
  {
   "cell_type": "code",
   "execution_count": null,
   "metadata": {
    "colab": {},
    "colab_type": "code",
    "id": "AbKBEFEUie3F"
   },
   "outputs": [],
   "source": [
    "# From within TensorFlow/models/research/\n",
    "! python setup.py build\n",
    "! python setup.py install"
   ]
  },
  {
   "cell_type": "code",
   "execution_count": null,
   "metadata": {
    "colab": {},
    "colab_type": "code",
    "id": "2UAiol2DjuLu"
   },
   "outputs": [],
   "source": [
    "import object_detection"
   ]
  },
  {
   "cell_type": "code",
   "execution_count": null,
   "metadata": {
    "colab": {},
    "colab_type": "code",
    "id": "Z9LA_1VE07DE"
   },
   "outputs": [],
   "source": [
    "cd /content/drive/My Drive/Final_Model/Mobilenet/models_Tf/research/object_detection/"
   ]
  },
  {
   "cell_type": "markdown",
   "metadata": {
    "colab_type": "text",
    "id": "R7A19-xMyZcv"
   },
   "source": [
    "## **TF records**\n",
    "\n",
    "Building Tf records for each train and test datasets.\n"
   ]
  },
  {
   "cell_type": "markdown",
   "metadata": {
    "colab_type": "text",
    "id": "DN6pA86MF6Ut"
   },
   "source": [
    "### **TF records for train and test (first set of images (600))**"
   ]
  },
  {
   "cell_type": "code",
   "execution_count": null,
   "metadata": {
    "colab": {
     "base_uri": "https://localhost:8080/",
     "height": 222
    },
    "colab_type": "code",
    "collapsed": true,
    "executionInfo": {
     "elapsed": 459473,
     "status": "ok",
     "timestamp": 1593465273705,
     "user": {
      "displayName": "technical tasks",
      "photoUrl": "",
      "userId": "05927116453551536656"
     },
     "user_tz": 240
    },
    "id": "Mwarq1Jf-o26",
    "outputId": "7e712d74-10cf-47ea-a1f0-ea0da98f51c3"
   },
   "outputs": [
    {
     "name": "stdout",
     "output_type": "stream",
     "text": [
      "WARNING:tensorflow:From generate_tfrecord.py:148: The name tf.app.run is deprecated. Please use tf.compat.v1.app.run instead.\n",
      "\n",
      "WARNING:tensorflow:From generate_tfrecord.py:134: The name tf.python_io.TFRecordWriter is deprecated. Please use tf.io.TFRecordWriter instead.\n",
      "\n",
      "W0629 21:06:55.941634 139921927149440 module_wrapper.py:139] From generate_tfrecord.py:134: The name tf.python_io.TFRecordWriter is deprecated. Please use tf.io.TFRecordWriter instead.\n",
      "\n",
      "WARNING:tensorflow:From generate_tfrecord.py:93: The name tf.gfile.GFile is deprecated. Please use tf.io.gfile.GFile instead.\n",
      "\n",
      "W0629 21:06:56.106540 139921927149440 module_wrapper.py:139] From generate_tfrecord.py:93: The name tf.gfile.GFile is deprecated. Please use tf.io.gfile.GFile instead.\n",
      "\n",
      "Successfully created the TFRecords: /content/drive/My Drive/Final_Model/Mobilenet/models_Tf/research/object_detection/images/train.record\n"
     ]
    }
   ],
   "source": [
    "! python generate_tfrecord.py --csv_input=images/Train_annot_labels.csv  --image_dir=images/train --output_path=images/train.record"
   ]
  },
  {
   "cell_type": "code",
   "execution_count": null,
   "metadata": {
    "colab": {
     "base_uri": "https://localhost:8080/",
     "height": 222
    },
    "colab_type": "code",
    "collapsed": true,
    "executionInfo": {
     "elapsed": 82532,
     "status": "ok",
     "timestamp": 1593417589408,
     "user": {
      "displayName": "technical tasks",
      "photoUrl": "",
      "userId": "05927116453551536656"
     },
     "user_tz": 240
    },
    "id": "wcq3gbD1lMfY",
    "outputId": "9a37e2cc-1445-4da8-b553-c2d9221101a2"
   },
   "outputs": [
    {
     "name": "stdout",
     "output_type": "stream",
     "text": [
      "WARNING:tensorflow:From generate_tfrecord.py:148: The name tf.app.run is deprecated. Please use tf.compat.v1.app.run instead.\n",
      "\n",
      "WARNING:tensorflow:From generate_tfrecord.py:134: The name tf.python_io.TFRecordWriter is deprecated. Please use tf.io.TFRecordWriter instead.\n",
      "\n",
      "W0629 07:58:28.836865 140529563744128 module_wrapper.py:139] From generate_tfrecord.py:134: The name tf.python_io.TFRecordWriter is deprecated. Please use tf.io.TFRecordWriter instead.\n",
      "\n",
      "WARNING:tensorflow:From generate_tfrecord.py:93: The name tf.gfile.GFile is deprecated. Please use tf.io.gfile.GFile instead.\n",
      "\n",
      "W0629 07:58:28.914928 140529563744128 module_wrapper.py:139] From generate_tfrecord.py:93: The name tf.gfile.GFile is deprecated. Please use tf.io.gfile.GFile instead.\n",
      "\n",
      "Successfully created the TFRecords: /content/drive/My Drive/Final_Model/Mobilenet/models_Tf/research/object_detection/images/test.record\n"
     ]
    }
   ],
   "source": [
    "\n",
    "! python generate_tfrecord.py --csv_input=images/Test_annot_labels.csv  --image_dir=images/test --output_path=images/test.record"
   ]
  },
  {
   "cell_type": "markdown",
   "metadata": {
    "colab_type": "text",
    "id": "Vgb5Zqg5vZBb"
   },
   "source": [
    "### **TF records for train and test (Second set of images (1500))**"
   ]
  },
  {
   "cell_type": "code",
   "execution_count": null,
   "metadata": {
    "colab": {
     "base_uri": "https://localhost:8080/",
     "height": 222
    },
    "colab_type": "code",
    "collapsed": true,
    "executionInfo": {
     "elapsed": 201577,
     "status": "ok",
     "timestamp": 1593647465506,
     "user": {
      "displayName": "technical tasks",
      "photoUrl": "",
      "userId": "05927116453551536656"
     },
     "user_tz": 240
    },
    "id": "Q1zBtuZMvT1J",
    "outputId": "7083b96f-3c94-4013-f2fa-f48ec9dbd41a"
   },
   "outputs": [
    {
     "name": "stdout",
     "output_type": "stream",
     "text": [
      "WARNING:tensorflow:From generate_tfrecord.py:148: The name tf.app.run is deprecated. Please use tf.compat.v1.app.run instead.\n",
      "\n",
      "WARNING:tensorflow:From generate_tfrecord.py:134: The name tf.python_io.TFRecordWriter is deprecated. Please use tf.io.TFRecordWriter instead.\n",
      "\n",
      "W0701 23:47:46.310220 139705979041664 module_wrapper.py:139] From generate_tfrecord.py:134: The name tf.python_io.TFRecordWriter is deprecated. Please use tf.io.TFRecordWriter instead.\n",
      "\n",
      "WARNING:tensorflow:From generate_tfrecord.py:93: The name tf.gfile.GFile is deprecated. Please use tf.io.gfile.GFile instead.\n",
      "\n",
      "W0701 23:47:46.728677 139705979041664 module_wrapper.py:139] From generate_tfrecord.py:93: The name tf.gfile.GFile is deprecated. Please use tf.io.gfile.GFile instead.\n",
      "\n",
      "Successfully created the TFRecords: /content/drive/My Drive/Final_Model/Mobilenet/models_Tf/research/object_detection/images_extra/train.record\n"
     ]
    }
   ],
   "source": [
    "! python generate_tfrecord.py --csv_input=images_extra/Train_annot_labels.csv  --image_dir=images_extra/train --output_path=images_extra/train.record"
   ]
  },
  {
   "cell_type": "code",
   "execution_count": null,
   "metadata": {
    "colab": {
     "base_uri": "https://localhost:8080/",
     "height": 222
    },
    "colab_type": "code",
    "collapsed": true,
    "executionInfo": {
     "elapsed": 336074,
     "status": "ok",
     "timestamp": 1593645034829,
     "user": {
      "displayName": "technical tasks",
      "photoUrl": "",
      "userId": "05927116453551536656"
     },
     "user_tz": 240
    },
    "id": "Q-U067p7vUFY",
    "outputId": "b6225b94-04da-413a-ec4f-cefaeb0a9971"
   },
   "outputs": [
    {
     "name": "stdout",
     "output_type": "stream",
     "text": [
      "WARNING:tensorflow:From generate_tfrecord.py:148: The name tf.app.run is deprecated. Please use tf.compat.v1.app.run instead.\n",
      "\n",
      "WARNING:tensorflow:From generate_tfrecord.py:134: The name tf.python_io.TFRecordWriter is deprecated. Please use tf.io.TFRecordWriter instead.\n",
      "\n",
      "W0701 23:08:39.287793 139941674121088 module_wrapper.py:139] From generate_tfrecord.py:134: The name tf.python_io.TFRecordWriter is deprecated. Please use tf.io.TFRecordWriter instead.\n",
      "\n",
      "WARNING:tensorflow:From generate_tfrecord.py:93: The name tf.gfile.GFile is deprecated. Please use tf.io.gfile.GFile instead.\n",
      "\n",
      "W0701 23:08:39.366583 139941674121088 module_wrapper.py:139] From generate_tfrecord.py:93: The name tf.gfile.GFile is deprecated. Please use tf.io.gfile.GFile instead.\n",
      "\n",
      "Successfully created the TFRecords: /content/drive/My Drive/Final_Model/Mobilenet/models_Tf/research/object_detection/images_extra/test.record\n"
     ]
    }
   ],
   "source": [
    "! python generate_tfrecord.py --csv_input=images_extra/Test_annot_labels.csv  --image_dir=images_extra/test --output_path=images_extra/test.record"
   ]
  },
  {
   "cell_type": "markdown",
   "metadata": {
    "colab_type": "text",
    "id": "02K3e4_uucxM"
   },
   "source": [
    "### **TF records for train and test (third set of images (2500))**"
   ]
  },
  {
   "cell_type": "code",
   "execution_count": null,
   "metadata": {
    "colab": {
     "base_uri": "https://localhost:8080/",
     "height": 222
    },
    "colab_type": "code",
    "collapsed": true,
    "executionInfo": {
     "elapsed": 980514,
     "status": "ok",
     "timestamp": 1595543902257,
     "user": {
      "displayName": "technical tasks",
      "photoUrl": "",
      "userId": "05927116453551536656"
     },
     "user_tz": 240
    },
    "id": "9Ty5CZnLubvg",
    "outputId": "bb7f8016-a58a-4651-8ac6-ebeee7efd82e"
   },
   "outputs": [
    {
     "name": "stdout",
     "output_type": "stream",
     "text": [
      "WARNING:tensorflow:From generate_tfrecord.py:148: The name tf.app.run is deprecated. Please use tf.compat.v1.app.run instead.\n",
      "\n",
      "WARNING:tensorflow:From generate_tfrecord.py:134: The name tf.python_io.TFRecordWriter is deprecated. Please use tf.io.TFRecordWriter instead.\n",
      "\n",
      "W0723 22:22:09.121037 139664413865856 module_wrapper.py:139] From generate_tfrecord.py:134: The name tf.python_io.TFRecordWriter is deprecated. Please use tf.io.TFRecordWriter instead.\n",
      "\n",
      "WARNING:tensorflow:From generate_tfrecord.py:93: The name tf.gfile.GFile is deprecated. Please use tf.io.gfile.GFile instead.\n",
      "\n",
      "W0723 22:22:09.933734 139664413865856 module_wrapper.py:139] From generate_tfrecord.py:93: The name tf.gfile.GFile is deprecated. Please use tf.io.gfile.GFile instead.\n",
      "\n",
      "Successfully created the TFRecords: /content/drive/My Drive/Final_Model/Mobilenet/models_Tf/research/object_detection/images_2500/train.record\n"
     ]
    }
   ],
   "source": [
    "! python generate_tfrecord.py --csv_input=images_2500/Train_annot_labels.csv  --image_dir=images_2500/train --output_path=images_2500/train.record"
   ]
  },
  {
   "cell_type": "code",
   "execution_count": null,
   "metadata": {
    "colab": {
     "base_uri": "https://localhost:8080/",
     "height": 34
    },
    "colab_type": "code",
    "executionInfo": {
     "elapsed": 944,
     "status": "ok",
     "timestamp": 1593465342266,
     "user": {
      "displayName": "technical tasks",
      "photoUrl": "",
      "userId": "05927116453551536656"
     },
     "user_tz": 240
    },
    "id": "5eFq24nj4SDu",
    "outputId": "782ef4a1-b105-421a-a532-bfe1d75a810c"
   },
   "outputs": [
    {
     "name": "stdout",
     "output_type": "stream",
     "text": [
      "/content/drive/My Drive/Final_Model/Mobilenet/models_Tf/research/object_detection\n"
     ]
    }
   ],
   "source": [
    "cd /content/drive/My Drive/Final_Model/Mobilenet/models_Tf/research/object_detection/"
   ]
  },
  {
   "cell_type": "markdown",
   "metadata": {
    "colab_type": "text",
    "id": "AmoFHIymBTS9"
   },
   "source": [
    "### **TF records for train and test (All datasets combined (4600 images))**"
   ]
  },
  {
   "cell_type": "code",
   "execution_count": null,
   "metadata": {
    "colab": {
     "base_uri": "https://localhost:8080/",
     "height": 222
    },
    "colab_type": "code",
    "collapsed": true,
    "executionInfo": {
     "elapsed": 1473922,
     "status": "ok",
     "timestamp": 1595918617348,
     "user": {
      "displayName": "technical tasks",
      "photoUrl": "",
      "userId": "05927116453551536656"
     },
     "user_tz": 240
    },
    "id": "6H53pleDBjDE",
    "outputId": "41c0a4f5-b88e-4b95-bca2-cb40ae05dcd0"
   },
   "outputs": [
    {
     "name": "stdout",
     "output_type": "stream",
     "text": [
      "WARNING:tensorflow:From generate_tfrecord.py:148: The name tf.app.run is deprecated. Please use tf.compat.v1.app.run instead.\n",
      "\n",
      "WARNING:tensorflow:From generate_tfrecord.py:134: The name tf.python_io.TFRecordWriter is deprecated. Please use tf.io.TFRecordWriter instead.\n",
      "\n",
      "W0728 06:19:05.955130 140273610209152 module_wrapper.py:139] From generate_tfrecord.py:134: The name tf.python_io.TFRecordWriter is deprecated. Please use tf.io.TFRecordWriter instead.\n",
      "\n",
      "WARNING:tensorflow:From generate_tfrecord.py:93: The name tf.gfile.GFile is deprecated. Please use tf.io.gfile.GFile instead.\n",
      "\n",
      "W0728 06:19:07.357242 140273610209152 module_wrapper.py:139] From generate_tfrecord.py:93: The name tf.gfile.GFile is deprecated. Please use tf.io.gfile.GFile instead.\n",
      "\n",
      "Successfully created the TFRecords: /content/drive/My Drive/Final_Model/Mobilenet/models_Tf/research/object_detection/images_4k/train.record\n"
     ]
    }
   ],
   "source": [
    "! python generate_tfrecord.py --csv_input=images_4k/Train_annot_labels.csv  --image_dir=images_4k/train --output_path=images_4k/train.record"
   ]
  },
  {
   "cell_type": "markdown",
   "metadata": {
    "colab_type": "text",
    "id": "ED64Ze_EIlRA"
   },
   "source": [
    "## **setting python path** "
   ]
  },
  {
   "cell_type": "code",
   "execution_count": null,
   "metadata": {
    "colab": {},
    "colab_type": "code",
    "id": "tzNk9hCUvQ-D"
   },
   "outputs": [],
   "source": [
    "\n",
    "import os\n",
    "os.environ['PYTHONPATH'] += ':/content/drive/My Drive/Project_tasks/Mobilenet/models/research/:/content/drive/My Drive/Project_tasks/Mobilenet/models/research/slim/'"
   ]
  },
  {
   "cell_type": "markdown",
   "metadata": {
    "colab_type": "text",
    "id": "ClOZUWgBIQ6S"
   },
   "source": [
    "## **Training of the object detection model with our custom images**"
   ]
  },
  {
   "cell_type": "markdown",
   "metadata": {
    "colab_type": "text",
    "id": "bsauhR5u9Lvy"
   },
   "source": [
    "Through out the course of the project Datasets were built and labelled \n",
    "\n",
    "- Dataset 1: a set of 600 images\n",
    "- Dataset 2: a set of 1500 images\n",
    "- Dataset 3: a set of 2500 images\n",
    "\n",
    "These datasets were in different combinations (individually as well as cascaded) and the performance was evaluated for each combination\n",
    "\n",
    "Currently the best performance was achieved by model trained on 2500 images on a pretrained model trained on 1500 images.\n",
    "(Model_1: Mobilenetv2 trained on 1500 images, \n",
    "Model_2: Model_1 trained on 2500 images)\n",
    "\n",
    "The training process was attempted with different combination of dataset and different configurations and the model with the best performance was used for classification. Each training process was trained between 100k to 200k steps based the learning curve output.\n",
    "\n"
   ]
  },
  {
   "cell_type": "markdown",
   "metadata": {
    "colab_type": "text",
    "id": "WnGE3qqy8c0f"
   },
   "source": [
    "### Training with Dataset 1 (600 images)"
   ]
  },
  {
   "cell_type": "code",
   "execution_count": null,
   "metadata": {
    "colab": {},
    "colab_type": "code",
    "id": "cHBN2pcWpAqE"
   },
   "outputs": [],
   "source": [
    "! python train.py --logtostderr --train_dir=training/ --pipeline_config_path=training/ssd_mobilenet_v2_coco.config"
   ]
  },
  {
   "cell_type": "markdown",
   "metadata": {
    "colab_type": "text",
    "id": "RzBNOK0g8nwX"
   },
   "source": [
    "### Training with Dataset 2 over the above pretrained model (600x1500 images)"
   ]
  },
  {
   "cell_type": "code",
   "execution_count": null,
   "metadata": {
    "colab": {},
    "colab_type": "code",
    "id": "TEDmK1s4zDuf"
   },
   "outputs": [],
   "source": [
    "! python train.py --logtostderr --train_dir=training_extra/ --pipeline_config_path=training_extra/ssd_mobilenet_v2_coco.config"
   ]
  },
  {
   "cell_type": "markdown",
   "metadata": {
    "colab_type": "text",
    "id": "jW_sRDGp81y9"
   },
   "source": [
    "### Training with Dataset 2 (1500 images)"
   ]
  },
  {
   "cell_type": "code",
   "execution_count": null,
   "metadata": {
    "colab": {},
    "colab_type": "code",
    "id": "RQDWDtx0dlFZ"
   },
   "outputs": [],
   "source": [
    "! python train.py --logtostderr --train_dir=training_fresh/ --pipeline_config_path=training_fresh/ssd_mobilenet_v2_coco.config"
   ]
  },
  {
   "cell_type": "code",
   "execution_count": null,
   "metadata": {
    "colab": {},
    "colab_type": "code",
    "id": "FgB7YSxENPN7"
   },
   "outputs": [],
   "source": [
    "! python train.py --logtostderr --train_dir=training_23/ --pipeline_config_path=training_23/ssd_mobilenet_v2_coco.config"
   ]
  },
  {
   "cell_type": "code",
   "execution_count": null,
   "metadata": {
    "colab": {},
    "colab_type": "code",
    "id": "uc3HDJzI3dyb"
   },
   "outputs": [],
   "source": [
    "! python train.py --logtostderr --train_dir=training_23_1/ --pipeline_config_path=training_23_1/ssd_mobilenet_v2_coco.config"
   ]
  },
  {
   "cell_type": "markdown",
   "metadata": {
    "colab_type": "text",
    "id": "ToFDcuev8662"
   },
   "source": [
    "### Training with Dataset 3 over the pretrained model trained on Dataset 2 (1500x2500 images)"
   ]
  },
  {
   "cell_type": "code",
   "execution_count": null,
   "metadata": {
    "colab": {},
    "colab_type": "code",
    "id": "mSjw9tngvGZq"
   },
   "outputs": [],
   "source": [
    "! python train.py --logtostderr --train_dir=training_2500/ --pipeline_config_path=training_2500/ssd_mobilenet_v2_coco.config"
   ]
  },
  {
   "cell_type": "markdown",
   "metadata": {
    "colab_type": "text",
    "id": "NPx3QaMb9DHZ"
   },
   "source": [
    "### Training with Dataset 1 over the pretrained model trained on Dataset 2 and 3 (1500x2500x600 images)"
   ]
  },
  {
   "cell_type": "code",
   "execution_count": null,
   "metadata": {
    "colab": {},
    "colab_type": "code",
    "id": "-c12xPq6t8MK"
   },
   "outputs": [],
   "source": [
    "! python train.py --logtostderr --train_dir=training_600/ --pipeline_config_path=training_600/ssd_mobilenet_v2_coco.config"
   ]
  },
  {
   "cell_type": "markdown",
   "metadata": {
    "colab_type": "text",
    "id": "dF39edIm_d3o"
   },
   "source": [
    "### Training with 4600 images (600+1500+2500)"
   ]
  },
  {
   "cell_type": "code",
   "execution_count": null,
   "metadata": {
    "colab": {},
    "colab_type": "code",
    "id": "l13wcNan_bw_"
   },
   "outputs": [],
   "source": [
    "! python train.py --logtostderr --train_dir=training_4k/ --pipeline_config_path=training_4k/ssd_mobilenet_v2_coco.config"
   ]
  },
  {
   "cell_type": "markdown",
   "metadata": {
    "colab_type": "text",
    "id": "Z9EGQixKIqSj"
   },
   "source": [
    "## **Evaluate the model**"
   ]
  },
  {
   "cell_type": "markdown",
   "metadata": {
    "colab_type": "text",
    "id": "nH651qDFw0gX"
   },
   "source": [
    "Each model built was evaluated by calculating the **average precision (AP)** and **average recall(AR)** of both the training dataset as well as testing dataset.\n"
   ]
  },
  {
   "cell_type": "markdown",
   "metadata": {},
   "source": [
    "### Evaluation of model trained on Dataset 1 (600 images)"
   ]
  },
  {
   "cell_type": "code",
   "execution_count": null,
   "metadata": {
    "colab": {},
    "colab_type": "code",
    "id": "jIdvGD9jHfxG"
   },
   "outputs": [],
   "source": [
    "! python model_main.py --alsologtostderr --run_once --checkpoint_dir=training/ --model_dir=eval/ --pipeline_config_path=training/ssd_mobilenet_v2_coco.config"
   ]
  },
  {
   "cell_type": "code",
   "execution_count": null,
   "metadata": {
    "colab": {},
    "colab_type": "code",
    "id": "9tvZgpkAKiBW"
   },
   "outputs": [],
   "source": [
    "! python model_main.py --alsologtostderr --run_once --checkpoint_dir=training/ --model_dir=eval/ --pipeline_config_path=training/ssd_mobilenet_v2_coco.config --eval_training_data=True"
   ]
  },
  {
   "cell_type": "markdown",
   "metadata": {},
   "source": [
    "### Evaluation of model trained on Dataset 2 (1500 images)"
   ]
  },
  {
   "cell_type": "code",
   "execution_count": null,
   "metadata": {
    "colab": {},
    "colab_type": "code",
    "id": "Me0Eyc3CpKdS"
   },
   "outputs": [],
   "source": [
    "! python model_main.py --alsologtostderr --run_once --checkpoint_dir=training_23_1/ --model_dir=eval/ --pipeline_config_path=training_23_1/ssd_mobilenet_v2_coco.config"
   ]
  },
  {
   "cell_type": "code",
   "execution_count": null,
   "metadata": {
    "colab": {},
    "colab_type": "code",
    "id": "-HIwCB7spbR4"
   },
   "outputs": [],
   "source": [
    "! python model_main.py --alsologtostderr --run_once --checkpoint_dir=training_23_1/ --model_dir=eval/ --pipeline_config_path=training_23_1/ssd_mobilenet_v2_coco.config --eval_training_data=True"
   ]
  },
  {
   "cell_type": "markdown",
   "metadata": {},
   "source": [
    "### Evaluation of model trained on Dataset 2 and 3 (1500x2500 images)"
   ]
  },
  {
   "cell_type": "code",
   "execution_count": null,
   "metadata": {
    "colab": {},
    "colab_type": "code",
    "id": "UE0go1sYvPUt"
   },
   "outputs": [],
   "source": [
    "! python model_main.py --alsologtostderr --run_once --checkpoint_dir=training_2500/ --model_dir=eval/ --pipeline_config_path=training_2500/ssd_mobilenet_v2_coco.config"
   ]
  },
  {
   "cell_type": "code",
   "execution_count": null,
   "metadata": {
    "colab": {},
    "colab_type": "code",
    "id": "ZeRquRKAvPmF"
   },
   "outputs": [],
   "source": [
    "! python model_main.py --alsologtostderr --run_once --checkpoint_dir=training_2500/ --model_dir=eval/ --pipeline_config_path=training_2500/ssd_mobilenet_v2_coco.config --eval_training_data=True"
   ]
  },
  {
   "cell_type": "markdown",
   "metadata": {},
   "source": [
    "### Evaluation of model trained on Dataset 1,2 and 3 (600x1500x 2500 images)"
   ]
  },
  {
   "cell_type": "code",
   "execution_count": null,
   "metadata": {
    "colab": {},
    "colab_type": "code",
    "id": "geC2yq-KVhos"
   },
   "outputs": [],
   "source": [
    "! python model_main.py --alsologtostderr --run_once --checkpoint_dir=training_600/ --model_dir=eval/ --pipeline_config_path=training_600/ssd_mobilenet_v2_coco.config"
   ]
  },
  {
   "cell_type": "code",
   "execution_count": null,
   "metadata": {
    "colab": {},
    "colab_type": "code",
    "id": "XVhltkvWVoOk"
   },
   "outputs": [],
   "source": [
    "! python model_main.py --alsologtostderr --run_once --checkpoint_dir=training_600/ --model_dir=eval/ --pipeline_config_path=training_600/ssd_mobilenet_v2_coco.config --eval_training_data=True"
   ]
  },
  {
   "cell_type": "markdown",
   "metadata": {},
   "source": [
    "### Evaluation of model trained on Dataset 1, 2 and 3 combined (4800 images)"
   ]
  },
  {
   "cell_type": "code",
   "execution_count": null,
   "metadata": {
    "colab": {},
    "colab_type": "code",
    "id": "qmMcIbMEvPIF"
   },
   "outputs": [],
   "source": [
    "! python model_main.py --alsologtostderr --run_once --checkpoint_dir=training_4k/ --model_dir=eval/ --pipeline_config_path=training_4k/ssd_mobilenet_v2_coco.config"
   ]
  },
  {
   "cell_type": "code",
   "execution_count": null,
   "metadata": {
    "colab": {},
    "colab_type": "code",
    "id": "3yQteoNKvT6c"
   },
   "outputs": [],
   "source": [
    "! python model_main.py --alsologtostderr --run_once --checkpoint_dir=training_4k/ --model_dir=eval/ --pipeline_config_path=training_4k/ssd_mobilenet_v2_coco.config --eval_training_data=True"
   ]
  },
  {
   "cell_type": "markdown",
   "metadata": {
    "colab_type": "text",
    "id": "Q0n_1tXLIdhx"
   },
   "source": [
    "## **Exporting the inference graph**"
   ]
  },
  {
   "cell_type": "markdown",
   "metadata": {
    "colab_type": "text",
    "id": "SFLh14DmxkAn"
   },
   "source": [
    "The trained exported as an inference graph so that it can be used later for either object detection implementation or further training of a model by keeping the currently trained model as a base model for training "
   ]
  },
  {
   "cell_type": "code",
   "execution_count": null,
   "metadata": {
    "colab": {},
    "colab_type": "code",
    "id": "eNKJL3Diwwqs"
   },
   "outputs": [],
   "source": [
    "! python export_inference_graph.py --input_type image_tensor --pipeline_config_path training/ssd_mobilenet_v2_coco.config --trained_checkpoint_prefix training/model.ckpt-20000 --output_directory inference_graph"
   ]
  },
  {
   "cell_type": "code",
   "execution_count": null,
   "metadata": {
    "colab": {},
    "colab_type": "code",
    "id": "QJg-gRSpzlsN"
   },
   "outputs": [],
   "source": [
    "! python export_inference_graph.py --input_type image_tensor --pipeline_config_path training_extra/ssd_mobilenet_v2_coco.config --trained_checkpoint_prefix training_extra/model.ckpt-20000 --output_directory inference_graph_extra"
   ]
  },
  {
   "cell_type": "code",
   "execution_count": null,
   "metadata": {
    "colab": {},
    "colab_type": "code",
    "id": "KqkyWf03eDSz"
   },
   "outputs": [],
   "source": [
    "! python export_inference_graph.py --input_type image_tensor --pipeline_config_path training_fresh/ssd_mobilenet_v2_coco.config --trained_checkpoint_prefix training_fresh/model.ckpt-100000 --output_directory inference_graph_fresh"
   ]
  },
  {
   "cell_type": "code",
   "execution_count": null,
   "metadata": {
    "colab": {},
    "colab_type": "code",
    "id": "LFtWmMZtNbjH"
   },
   "outputs": [],
   "source": [
    "! python export_inference_graph.py --input_type image_tensor --pipeline_config_path training_23/ssd_mobilenet_v2_coco.config --trained_checkpoint_prefix training_23/model.ckpt-100000 --output_directory inference_graph_23"
   ]
  },
  {
   "cell_type": "code",
   "execution_count": null,
   "metadata": {
    "colab": {},
    "colab_type": "code",
    "id": "-fDJCUxdAKn7"
   },
   "outputs": [],
   "source": [
    "! python export_inference_graph.py --input_type image_tensor --pipeline_config_path training_23_1/ssd_mobilenet_v2_coco.config --trained_checkpoint_prefix training_23_1/model.ckpt-200000 --output_directory inference_graph_23_1"
   ]
  },
  {
   "cell_type": "code",
   "execution_count": null,
   "metadata": {
    "colab": {},
    "colab_type": "code",
    "id": "G_1qZVP9vwH5"
   },
   "outputs": [],
   "source": [
    "! python export_inference_graph.py --input_type image_tensor --pipeline_config_path training_2500/ssd_mobilenet_v2_coco.config --trained_checkpoint_prefix training_2500/model.ckpt-150000 --output_directory inference_graph_2500"
   ]
  },
  {
   "cell_type": "code",
   "execution_count": null,
   "metadata": {
    "colab": {},
    "colab_type": "code",
    "id": "KJtosY9h26dV"
   },
   "outputs": [],
   "source": [
    "! python export_inference_graph.py --input_type image_tensor --pipeline_config_path training_4k/ssd_mobilenet_v2_coco.config --trained_checkpoint_prefix training_4k/model.ckpt-100000 --output_directory inference_graph_4k"
   ]
  }
 ],
 "metadata": {
  "accelerator": "GPU",
  "colab": {
   "authorship_tag": "ABX9TyNMPob1IdxtWtnWPG3qDkCp",
   "mount_file_id": "1Uk8wF-xYu-cEzYfKfe-iOXjvNW-Z1uzN",
   "name": "Copy of Main_model.ipynb",
   "provenance": [
    {
     "file_id": "1Uk8wF-xYu-cEzYfKfe-iOXjvNW-Z1uzN",
     "timestamp": 1595960711719
    },
    {
     "file_id": "14ubg35XSVe4PcGDTKPtUYgm0EK99cTTC",
     "timestamp": 1593407981633
    }
   ],
   "toc_visible": true
  },
  "kernelspec": {
   "display_name": "Python 3",
   "language": "python",
   "name": "python3"
  },
  "language_info": {
   "codemirror_mode": {
    "name": "ipython",
    "version": 3
   },
   "file_extension": ".py",
   "mimetype": "text/x-python",
   "name": "python",
   "nbconvert_exporter": "python",
   "pygments_lexer": "ipython3",
   "version": "3.7.3"
  }
 },
 "nbformat": 4,
 "nbformat_minor": 1
}
