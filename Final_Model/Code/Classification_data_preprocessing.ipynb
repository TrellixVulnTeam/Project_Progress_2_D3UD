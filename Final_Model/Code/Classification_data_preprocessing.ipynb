{
 "cells": [
  {
   "cell_type": "markdown",
   "metadata": {
    "colab_type": "text",
    "id": "VL4C0OYXXfmT"
   },
   "source": [
    "# Classification_data_preprocessing (In Progress)"
   ]
  },
  {
   "cell_type": "markdown",
   "metadata": {
    "colab_type": "text",
    "id": "PSmt6BmjXfmV"
   },
   "source": [
    "**Note: the code is still in progress and is subjected to change**"
   ]
  },
  {
   "cell_type": "markdown",
   "metadata": {
    "colab_type": "text",
    "id": "7R8Q59DoUjDU"
   },
   "source": [
    "**Dataset_1** : dataset of only annotations\n",
    "- 25 input columns\n",
    "- 1 output column (class)\n",
    "\n",
    "**Dataset_2** : dataset of annotations with their respective geometrical position\n",
    "- 125 input columns\n",
    "- 1 output column (class)"
   ]
  },
  {
   "cell_type": "markdown",
   "metadata": {
    "colab_type": "text",
    "id": "c_yDfo8uXi69"
   },
   "source": [
    "## **colab prerequisites and mounting it to drive**"
   ]
  },
  {
   "cell_type": "code",
   "execution_count": null,
   "metadata": {
    "colab": {
     "base_uri": "https://localhost:8080/",
     "height": 222
    },
    "colab_type": "code",
    "executionInfo": {
     "elapsed": 72150,
     "status": "ok",
     "timestamp": 1594771549591,
     "user": {
      "displayName": "technical tasks",
      "photoUrl": "",
      "userId": "05927116453551536656"
     },
     "user_tz": 240
    },
    "id": "uNK4PTppXiHV",
    "outputId": "166f23df-4143-4b4e-9083-69996c009cf3"
   },
   "outputs": [
    {
     "name": "stdout",
     "output_type": "stream",
     "text": [
      "E: Package 'python-software-properties' has no installation candidate\n",
      "Selecting previously unselected package google-drive-ocamlfuse.\n",
      "(Reading database ... 144465 files and directories currently installed.)\n",
      "Preparing to unpack .../google-drive-ocamlfuse_0.7.22-0ubuntu3~ubuntu18.04.1_amd64.deb ...\n",
      "Unpacking google-drive-ocamlfuse (0.7.22-0ubuntu3~ubuntu18.04.1) ...\n",
      "Setting up google-drive-ocamlfuse (0.7.22-0ubuntu3~ubuntu18.04.1) ...\n",
      "Processing triggers for man-db (2.8.3-2ubuntu0.1) ...\n",
      "Please, open the following URL in a web browser: https://accounts.google.com/o/oauth2/auth?client_id=32555940559.apps.googleusercontent.com&redirect_uri=urn%3Aietf%3Awg%3Aoauth%3A2.0%3Aoob&scope=https%3A%2F%2Fwww.googleapis.com%2Fauth%2Fdrive&response_type=code&access_type=offline&approval_prompt=force\n",
      "··········\n",
      "Please, open the following URL in a web browser: https://accounts.google.com/o/oauth2/auth?client_id=32555940559.apps.googleusercontent.com&redirect_uri=urn%3Aietf%3Awg%3Aoauth%3A2.0%3Aoob&scope=https%3A%2F%2Fwww.googleapis.com%2Fauth%2Fdrive&response_type=code&access_type=offline&approval_prompt=force\n",
      "Please enter the verification code: Access token retrieved correctly.\n"
     ]
    }
   ],
   "source": [
    "!apt-get install -y -qq software-properties-common python-software-properties module-init-tools\n",
    "!add-apt-repository -y ppa:alessandro-strada/ppa 2>&1 > /dev/null\n",
    "!apt-get update -qq 2>&1 > /dev/null\n",
    "!apt-get -y install -qq google-drive-ocamlfuse fuse\n",
    "from google.colab import auth\n",
    "auth.authenticate_user()\n",
    "from oauth2client.client import GoogleCredentials\n",
    "creds = GoogleCredentials.get_application_default()\n",
    "import getpass\n",
    "!google-drive-ocamlfuse -headless -id={creds.client_id} -secret={creds.client_secret} < /dev/null 2>&1 | grep URL\n",
    "vcode = getpass.getpass()\n",
    "!echo {vcode} | google-drive-ocamlfuse -headless -id={creds.client_id} -secret={creds.client_secret}"
   ]
  },
  {
   "cell_type": "code",
   "execution_count": null,
   "metadata": {
    "colab": {
     "base_uri": "https://localhost:8080/",
     "height": 121
    },
    "colab_type": "code",
    "executionInfo": {
     "elapsed": 28921,
     "status": "ok",
     "timestamp": 1594929765539,
     "user": {
      "displayName": "technical tasks",
      "photoUrl": "",
      "userId": "05927116453551536656"
     },
     "user_tz": 240
    },
    "id": "XHCoGYAFywWY",
    "outputId": "089eb4e4-8e87-4d7f-83b7-f21f7355f796"
   },
   "outputs": [
    {
     "name": "stdout",
     "output_type": "stream",
     "text": [
      "Go to this URL in a browser: https://accounts.google.com/o/oauth2/auth?client_id=947318989803-6bn6qk8qdgf4n4g3pfee6491hc0brc4i.apps.googleusercontent.com&redirect_uri=urn%3aietf%3awg%3aoauth%3a2.0%3aoob&response_type=code&scope=email%20https%3a%2f%2fwww.googleapis.com%2fauth%2fdocs.test%20https%3a%2f%2fwww.googleapis.com%2fauth%2fdrive%20https%3a%2f%2fwww.googleapis.com%2fauth%2fdrive.photos.readonly%20https%3a%2f%2fwww.googleapis.com%2fauth%2fpeopleapi.readonly\n",
      "\n",
      "Enter your authorization code:\n",
      "··········\n",
      "Mounted at /content/drive\n"
     ]
    }
   ],
   "source": [
    "from google.colab import drive\n",
    "drive.mount('/content/drive')"
   ]
  },
  {
   "cell_type": "code",
   "execution_count": 1,
   "metadata": {
    "colab": {
     "base_uri": "https://localhost:8080/",
     "height": 35
    },
    "colab_type": "code",
    "collapsed": true,
    "executionInfo": {
     "elapsed": 1111,
     "status": "ok",
     "timestamp": 1595014624876,
     "user": {
      "displayName": "technical tasks",
      "photoUrl": "",
      "userId": "05927116453551536656"
     },
     "user_tz": 240
    },
    "id": "9HP5b-WtytCf",
    "outputId": "e8079af7-4209-4ff3-a087-d8aa2dc6dbce"
   },
   "outputs": [
    {
     "data": {
      "text/plain": [
       "'C:\\\\Users\\\\osman\\\\Desktop\\\\Final_Model\\\\Mobilenet\\\\models_Tf\\\\research\\\\object_detection'"
      ]
     },
     "execution_count": 1,
     "metadata": {},
     "output_type": "execute_result"
    }
   ],
   "source": [
    "pwd"
   ]
  },
  {
   "cell_type": "code",
   "execution_count": 2,
   "metadata": {
    "colab": {
     "base_uri": "https://localhost:8080/",
     "height": 50
    },
    "colab_type": "code",
    "collapsed": true,
    "executionInfo": {
     "elapsed": 498,
     "status": "ok",
     "timestamp": 1595014625187,
     "user": {
      "displayName": "technical tasks",
      "photoUrl": "",
      "userId": "05927116453551536656"
     },
     "user_tz": 240
    },
    "id": "6q-7wexOXxil",
    "outputId": "4b72721e-293c-4d7a-9d14-1e9d9bf62f28"
   },
   "outputs": [
    {
     "name": "stdout",
     "output_type": "stream",
     "text": [
      "[WinError 3] The system cannot find the path specified: '/content/drive/My Drive/Final_Model/Mobilenet/models_Tf/research/object_detection/'\n",
      "C:\\Users\\osman\\Desktop\\Final_Model\\Mobilenet\\models_Tf\\research\\object_detection\n"
     ]
    }
   ],
   "source": [
    "cd /content/drive/My Drive/Final_Model/Mobilenet/models_Tf/research/object_detection/"
   ]
  },
  {
   "cell_type": "markdown",
   "metadata": {
    "colab_type": "text",
    "id": "zNjWa_oNVMR5"
   },
   "source": [
    "## Setting the tensorflow version and enabling the gpu version"
   ]
  },
  {
   "cell_type": "code",
   "execution_count": null,
   "metadata": {
    "colab": {
     "base_uri": "https://localhost:8080/",
     "height": 104
    },
    "colab_type": "code",
    "collapsed": true,
    "executionInfo": {
     "elapsed": 11916,
     "status": "ok",
     "timestamp": 1594771646952,
     "user": {
      "displayName": "technical tasks",
      "photoUrl": "",
      "userId": "05927116453551536656"
     },
     "user_tz": 240
    },
    "id": "8KaDGWLHX5N5",
    "outputId": "90a50529-037c-464b-bfa6-ce362e2a9184"
   },
   "outputs": [
    {
     "name": "stdout",
     "output_type": "stream",
     "text": [
      "WARNING:tensorflow:From <ipython-input-7-cb11e191b04e>:2: is_gpu_available (from tensorflow.python.framework.test_util) is deprecated and will be removed in a future version.\n",
      "Instructions for updating:\n",
      "Use `tf.config.list_physical_devices('GPU')` instead.\n"
     ]
    },
    {
     "data": {
      "text/plain": [
       "True"
      ]
     },
     "execution_count": 7,
     "metadata": {
      "tags": []
     },
     "output_type": "execute_result"
    }
   ],
   "source": [
    "import tensorflow as tf\n",
    "tf.test.is_gpu_available()\n",
    "#tf.config.list_physical_devices('GPU')\n"
   ]
  },
  {
   "cell_type": "code",
   "execution_count": 5,
   "metadata": {
    "colab": {
     "base_uri": "https://localhost:8080/",
     "height": 50
    },
    "colab_type": "code",
    "executionInfo": {
     "elapsed": 7569,
     "status": "ok",
     "timestamp": 1594929785834,
     "user": {
      "displayName": "technical tasks",
      "photoUrl": "",
      "userId": "05927116453551536656"
     },
     "user_tz": 240
    },
    "id": "7UmjGLHyX71r",
    "outputId": "196271ef-72b1-43f8-a27d-435c93d12eff"
   },
   "outputs": [
    {
     "name": "stdout",
     "output_type": "stream",
     "text": [
      "1.15.0\n"
     ]
    }
   ],
   "source": [
    "#%tensorflow_version 1.x\n",
    "import tensorflow as tf\n",
    "print(tf.__version__)"
   ]
  },
  {
   "cell_type": "markdown",
   "metadata": {
    "colab_type": "text",
    "id": "NN2PMGsvXfmW"
   },
   "source": [
    "## Importing the required libraries"
   ]
  },
  {
   "cell_type": "code",
   "execution_count": 6,
   "metadata": {
    "colab": {
     "base_uri": "https://localhost:8080/",
     "height": 121
    },
    "colab_type": "code",
    "collapsed": true,
    "executionInfo": {
     "elapsed": 1742,
     "status": "ok",
     "timestamp": 1594929787998,
     "user": {
      "displayName": "technical tasks",
      "photoUrl": "",
      "userId": "05927116453551536656"
     },
     "user_tz": 240
    },
    "id": "8m-bKUXMXfmY",
    "outputId": "1c0340e7-a1e0-468b-9336-e9733daf805a"
   },
   "outputs": [
    {
     "name": "stderr",
     "output_type": "stream",
     "text": [
      "Using TensorFlow backend.\n",
      "C:\\ProgramData\\Anaconda3\\lib\\site-packages\\sklearn\\externals\\six.py:31: DeprecationWarning: The module is deprecated in version 0.21 and will be removed in version 0.23 since we've dropped support for Python 2.7. Please rely on the official version of six (https://pypi.org/project/six/).\n",
      "  \"(https://pypi.org/project/six/).\", DeprecationWarning)\n",
      "C:\\ProgramData\\Anaconda3\\lib\\site-packages\\sklearn\\externals\\joblib\\__init__.py:15: DeprecationWarning: sklearn.externals.joblib is deprecated in 0.21 and will be removed in 0.23. Please import this functionality directly from joblib, which can be installed with: pip install joblib. If this warning is raised when loading pickled models, you may need to re-serialize those models with scikit-learn 0.21+.\n",
      "  warnings.warn(msg, category=DeprecationWarning)\n"
     ]
    }
   ],
   "source": [
    "import pandas as pd\n",
    "import numpy as np\n",
    "from sklearn.model_selection import train_test_split\n",
    "from keras.models import Sequential\n",
    "from keras.layers import Dense\n",
    "from keras.utils import to_categorical\n",
    "from sklearn.model_selection import GridSearchCV\n",
    "from keras.wrappers.scikit_learn import KerasClassifier\n",
    "from imblearn.over_sampling import SMOTE, ADASYN\n",
    "from sklearn.svm import LinearSVC\n",
    "from collections import Counter\n",
    "from imblearn.base import BaseSampler\n",
    "from keras import metrics\n",
    "from sklearn import preprocessing\n",
    "from sklearn.utils import resample"
   ]
  },
  {
   "cell_type": "code",
   "execution_count": 7,
   "metadata": {
    "colab": {},
    "colab_type": "code",
    "id": "ePWZV7RLXfmg"
   },
   "outputs": [],
   "source": [
    "import tensorflow as tf\n",
    "from tensorflow import keras\n",
    "from tensorflow.keras import layers"
   ]
  },
  {
   "cell_type": "code",
   "execution_count": 8,
   "metadata": {
    "colab": {},
    "colab_type": "code",
    "id": "FHUtyWKlXfml"
   },
   "outputs": [],
   "source": [
    "from sklearn.metrics import confusion_matrix \n",
    "from sklearn.metrics import accuracy_score \n",
    "from sklearn.metrics import classification_report "
   ]
  },
  {
   "cell_type": "code",
   "execution_count": 9,
   "metadata": {
    "colab": {},
    "colab_type": "code",
    "id": "MMyNqkj58DAr"
   },
   "outputs": [],
   "source": [
    "from keras.constraints import maxnorm"
   ]
  },
  {
   "cell_type": "code",
   "execution_count": 10,
   "metadata": {
    "colab": {
     "base_uri": "https://localhost:8080/",
     "height": 70
    },
    "colab_type": "code",
    "executionInfo": {
     "elapsed": 1701,
     "status": "ok",
     "timestamp": 1594929792643,
     "user": {
      "displayName": "technical tasks",
      "photoUrl": "",
      "userId": "05927116453551536656"
     },
     "user_tz": 240
    },
    "id": "32osLZjIjcaK",
    "outputId": "2138e20d-cccf-4798-cbc3-12ca15c1b2d6"
   },
   "outputs": [],
   "source": [
    "import matplotlib.pyplot as plt\n",
    "import seaborn as sns"
   ]
  },
  {
   "cell_type": "code",
   "execution_count": 11,
   "metadata": {
    "colab": {},
    "colab_type": "code",
    "id": "orr-VLq8B-sl"
   },
   "outputs": [],
   "source": [
    "from sklearn.tree import DecisionTreeClassifier\n",
    "from sklearn.neighbors import KNeighborsClassifier\n",
    "from sklearn import model_selection"
   ]
  },
  {
   "cell_type": "markdown",
   "metadata": {
    "colab_type": "text",
    "id": "zkiYmWBFVWRX"
   },
   "source": [
    "## Defining the neural network models required to tune the hyperparameters of the model using \"Grid Search technique\""
   ]
  },
  {
   "cell_type": "markdown",
   "metadata": {
    "colab_type": "text",
    "id": "UbjrxfS5VssD"
   },
   "source": [
    "### Model defined for tuning number of epochs and batch size"
   ]
  },
  {
   "cell_type": "code",
   "execution_count": null,
   "metadata": {
    "colab": {},
    "colab_type": "code",
    "id": "h1cuOkm7Xfmo"
   },
   "outputs": [],
   "source": [
    "def model_1():\n",
    "    inputs = keras.Input(shape=(25,))\n",
    "    dense = layers.Dense(64, activation='relu')\n",
    "    x=dense(inputs)\n",
    "    x = layers.Dense(64, activation='relu')(x)\n",
    "    x = layers.Dense(32, activation='relu')(x)\n",
    "    x = layers.Dense(16, activation='relu')(x)\n",
    "    outputs = layers.Dense(6, activation='softmax')(x)\n",
    "    \n",
    "    model = keras.Model(inputs=inputs,outputs=outputs,name=\"Model_1\")\n",
    "    #model.summary()\n",
    "    model.compile(loss='categorical_crossentropy' ,optimizer='adam' ,metrics=['accuracy'])\n",
    "    return model\n",
    "    "
   ]
  },
  {
   "cell_type": "markdown",
   "metadata": {
    "colab_type": "text",
    "id": "wjG43eenV5bm"
   },
   "source": [
    "### Model defined for tuning the optimizer type"
   ]
  },
  {
   "cell_type": "code",
   "execution_count": null,
   "metadata": {
    "colab": {},
    "colab_type": "code",
    "id": "MMzjokxLXfmr"
   },
   "outputs": [],
   "source": [
    "def model_2(optimizer='adam'):\n",
    "    inputs = keras.Input(shape=(25,))\n",
    "    dense = layers.Dense(64, activation='relu')\n",
    "    x=dense(inputs)\n",
    "    x = layers.Dense(64, activation='relu')(x)\n",
    "    x = layers.Dense(32, activation='relu')(x)\n",
    "    x = layers.Dense(16, activation='relu')(x)\n",
    "    outputs = layers.Dense(6, activation='softmax')(x)\n",
    "    \n",
    "    model = keras.Model(inputs=inputs,outputs=outputs,name=\"Model_2\")\n",
    "    #summary = model.summary()\n",
    "    model.compile(loss='categorical_crossentropy' ,optimizer= optimizer ,metrics=['accuracy'])\n",
    "    return model\n",
    "    "
   ]
  },
  {
   "cell_type": "markdown",
   "metadata": {
    "colab_type": "text",
    "id": "UVYcv7FdWCN1"
   },
   "source": [
    "### Model defined for tuning the kernel initializers"
   ]
  },
  {
   "cell_type": "code",
   "execution_count": null,
   "metadata": {
    "colab": {},
    "colab_type": "code",
    "id": "Onf2vOHHXfmu"
   },
   "outputs": [],
   "source": [
    "def model_3(init_mode='uniform'):\n",
    "    inputs = keras.Input(shape=(25,))\n",
    "    dense = layers.Dense(64, activation='relu')\n",
    "    x=dense(inputs)\n",
    "    x = layers.Dense(64, kernel_initializer=init_mode, activation='relu')(x)\n",
    "    x = layers.Dense(32, kernel_initializer=init_mode, activation='relu')(x)\n",
    "    x = layers.Dense(16, kernel_initializer=init_mode, activation='relu')(x)\n",
    "    outputs = layers.Dense(6, activation='softmax')(x)\n",
    "    \n",
    "    model = keras.Model(inputs=inputs,outputs=outputs,name=\"Model_3\")\n",
    "    #model.summary()\n",
    "    model.compile(loss='categorical_crossentropy' ,optimizer='adam' ,metrics=['accuracy'])\n",
    "    return model\n",
    "    "
   ]
  },
  {
   "cell_type": "markdown",
   "metadata": {
    "colab_type": "text",
    "id": "NcEGAiNpWOp_"
   },
   "source": [
    "### Model defined for tuning the activation function"
   ]
  },
  {
   "cell_type": "code",
   "execution_count": null,
   "metadata": {
    "colab": {},
    "colab_type": "code",
    "id": "LgDok8DSXfmx"
   },
   "outputs": [],
   "source": [
    "def model_4(activation='relu'):\n",
    "    inputs = keras.Input(shape=(25,))\n",
    "    dense = layers.Dense(64, activation=activation)\n",
    "    x=dense(inputs)\n",
    "    x = layers.Dense(64, kernel_initializer='uniform', activation=activation)(x)\n",
    "    x = layers.Dense(32, kernel_initializer='uniform', activation=activation)(x)\n",
    "    x = layers.Dense(16, kernel_initializer='uniform', activation=activation)(x)\n",
    "    outputs = layers.Dense(6, activation='softmax')(x)\n",
    "    \n",
    "    model = keras.Model(inputs=inputs,outputs=outputs,name=\"Model_4\")\n",
    "    #model.summary()\n",
    "    model.compile(loss='categorical_crossentropy' ,optimizer='adam' ,metrics=['accuracy'])\n",
    "    return model\n",
    "    "
   ]
  },
  {
   "cell_type": "markdown",
   "metadata": {
    "colab_type": "text",
    "id": "rw4O9pFUWTtG"
   },
   "source": [
    "### Model defined for tuning number of neurons in each layer"
   ]
  },
  {
   "cell_type": "code",
   "execution_count": null,
   "metadata": {
    "colab": {},
    "colab_type": "code",
    "id": "NNubU9jiXfm0"
   },
   "outputs": [],
   "source": [
    "def model_5(neurons1=1, neurons2=1, neurons3=1):\n",
    "    inputs = keras.Input(shape=(25,))\n",
    "    dense = layers.Dense(64, activation='softsign')\n",
    "    x=dense(inputs)\n",
    "    x = layers.Dense(neurons1, kernel_initializer='uniform',activation='softsign')(x)\n",
    "    x = layers.Dense(neurons2, kernel_initializer='uniform',activation='softsign')(x)\n",
    "    x = layers.Dense(neurons3, kernel_initializer='uniform', activation='softsign')(x)\n",
    "    outputs = layers.Dense(6, activation='softmax')(x)\n",
    "    \n",
    "    model = keras.Model(inputs=inputs,outputs=outputs,name=\"Model_5\")\n",
    "    #model.summary()\n",
    "    model.compile(loss='categorical_crossentropy' ,optimizer='adam' ,metrics=['accuracy'])\n",
    "    return model\n",
    "    "
   ]
  },
  {
   "cell_type": "markdown",
   "metadata": {
    "colab_type": "text",
    "id": "tLHPOU6_WaDa"
   },
   "source": [
    "### Model defined for tuning the dropout rate and weight constraints"
   ]
  },
  {
   "cell_type": "code",
   "execution_count": null,
   "metadata": {
    "colab": {},
    "colab_type": "code",
    "id": "XsQmgOuPw6Tm"
   },
   "outputs": [],
   "source": [
    "def model_6(dropout_rate=0.0, weight_constraint=0):\n",
    "    inputs = keras.Input(shape=(25,))\n",
    "    dense = layers.Dense(64, activation='relu')\n",
    "    x=dense(inputs)\n",
    "    x = layers.Dense(64, kernel_initializer='uniform', activation='softsign', kernel_constraint=maxnorm(weight_constraint))(x)\n",
    "    x = layers.Dropout(dropout_rate)(x)\n",
    "    x = layers.Dense(32, kernel_initializer='uniform', activation='softsign', kernel_constraint=maxnorm(weight_constraint))(x)\n",
    "    x = layers.Dropout(dropout_rate)(x)\n",
    "    x = layers.Dense(16, kernel_initializer='uniform', activation='softsign', kernel_constraint=maxnorm(weight_constraint))(x)\n",
    "    x = layers.Dropout(dropout_rate)(x)\n",
    "    outputs = layers.Dense(6, activation='softmax')(x)\n",
    "    \n",
    "    model = keras.Model(inputs=inputs,outputs=outputs,name=\"Model_6\")\n",
    "    #model.summary()\n",
    "    model.compile(loss='categorical_crossentropy' ,optimizer='adam' ,metrics=['accuracy'])\n",
    "    return model"
   ]
  },
  {
   "cell_type": "markdown",
   "metadata": {
    "colab_type": "text",
    "id": "_Y7xNXpOXfnm"
   },
   "source": [
    "## Reading the csv files (Datasets)"
   ]
  },
  {
   "cell_type": "code",
   "execution_count": 12,
   "metadata": {
    "colab": {},
    "colab_type": "code",
    "id": "1wvetrx4Xfn_"
   },
   "outputs": [],
   "source": [
    "data_class=pd.read_csv(\"class_dataset.csv\", index_col=0)\n",
    "data_pos=pd.read_csv(\"geo_pos_dataset.csv\",index_col=0)\n",
    "data_both=pd.read_csv(\"class_geo_dataset.csv\", index_col=0)"
   ]
  },
  {
   "cell_type": "markdown",
   "metadata": {
    "colab_type": "text",
    "id": "NIzDqiTcX5i9"
   },
   "source": [
    "## Refining and cleaning **Dataset_1** "
   ]
  },
  {
   "cell_type": "code",
   "execution_count": 13,
   "metadata": {
    "colab": {
     "base_uri": "https://localhost:8080/",
     "height": 455
    },
    "colab_type": "code",
    "executionInfo": {
     "elapsed": 1282,
     "status": "ok",
     "timestamp": 1594929815499,
     "user": {
      "displayName": "technical tasks",
      "photoUrl": "",
      "userId": "05927116453551536656"
     },
     "user_tz": 240
    },
    "id": "fgcKhjvRXfoJ",
    "outputId": "40b451b2-b37c-49b9-a858-7a419fe49bb6",
    "scrolled": true
   },
   "outputs": [
    {
     "data": {
      "text/html": [
       "<div>\n",
       "<style scoped>\n",
       "    .dataframe tbody tr th:only-of-type {\n",
       "        vertical-align: middle;\n",
       "    }\n",
       "\n",
       "    .dataframe tbody tr th {\n",
       "        vertical-align: top;\n",
       "    }\n",
       "\n",
       "    .dataframe thead th {\n",
       "        text-align: right;\n",
       "    }\n",
       "</style>\n",
       "<table border=\"1\" class=\"dataframe\">\n",
       "  <thead>\n",
       "    <tr style=\"text-align: right;\">\n",
       "      <th></th>\n",
       "      <th>mirror</th>\n",
       "      <th>sink</th>\n",
       "      <th>toilet seat</th>\n",
       "      <th>bath tub</th>\n",
       "      <th>towel</th>\n",
       "      <th>bed</th>\n",
       "      <th>dresser cabinet</th>\n",
       "      <th>night table</th>\n",
       "      <th>table lamp</th>\n",
       "      <th>Tv screen</th>\n",
       "      <th>...</th>\n",
       "      <th>oven</th>\n",
       "      <th>range hood</th>\n",
       "      <th>chair</th>\n",
       "      <th>printer</th>\n",
       "      <th>computer</th>\n",
       "      <th>Monitor</th>\n",
       "      <th>Desk</th>\n",
       "      <th>keyboard</th>\n",
       "      <th>Class</th>\n",
       "      <th>image</th>\n",
       "    </tr>\n",
       "  </thead>\n",
       "  <tbody>\n",
       "    <tr>\n",
       "      <th>0</th>\n",
       "      <td>1</td>\n",
       "      <td>1</td>\n",
       "      <td>1</td>\n",
       "      <td>1</td>\n",
       "      <td>1</td>\n",
       "      <td>0</td>\n",
       "      <td>0</td>\n",
       "      <td>0</td>\n",
       "      <td>0</td>\n",
       "      <td>0</td>\n",
       "      <td>...</td>\n",
       "      <td>0</td>\n",
       "      <td>0</td>\n",
       "      <td>0</td>\n",
       "      <td>0</td>\n",
       "      <td>0</td>\n",
       "      <td>0</td>\n",
       "      <td>0</td>\n",
       "      <td>0</td>\n",
       "      <td>bathroom</td>\n",
       "      <td>008.jpg</td>\n",
       "    </tr>\n",
       "    <tr>\n",
       "      <th>1</th>\n",
       "      <td>1</td>\n",
       "      <td>1</td>\n",
       "      <td>0</td>\n",
       "      <td>0</td>\n",
       "      <td>1</td>\n",
       "      <td>0</td>\n",
       "      <td>0</td>\n",
       "      <td>0</td>\n",
       "      <td>0</td>\n",
       "      <td>0</td>\n",
       "      <td>...</td>\n",
       "      <td>0</td>\n",
       "      <td>0</td>\n",
       "      <td>0</td>\n",
       "      <td>0</td>\n",
       "      <td>0</td>\n",
       "      <td>0</td>\n",
       "      <td>0</td>\n",
       "      <td>0</td>\n",
       "      <td>bathroom</td>\n",
       "      <td>100_0281.jpg</td>\n",
       "    </tr>\n",
       "    <tr>\n",
       "      <th>2</th>\n",
       "      <td>1</td>\n",
       "      <td>1</td>\n",
       "      <td>0</td>\n",
       "      <td>0</td>\n",
       "      <td>2</td>\n",
       "      <td>0</td>\n",
       "      <td>0</td>\n",
       "      <td>0</td>\n",
       "      <td>0</td>\n",
       "      <td>0</td>\n",
       "      <td>...</td>\n",
       "      <td>0</td>\n",
       "      <td>0</td>\n",
       "      <td>0</td>\n",
       "      <td>0</td>\n",
       "      <td>0</td>\n",
       "      <td>0</td>\n",
       "      <td>0</td>\n",
       "      <td>0</td>\n",
       "      <td>bathroom</td>\n",
       "      <td>100_1412.jpg</td>\n",
       "    </tr>\n",
       "    <tr>\n",
       "      <th>3</th>\n",
       "      <td>1</td>\n",
       "      <td>1</td>\n",
       "      <td>0</td>\n",
       "      <td>0</td>\n",
       "      <td>0</td>\n",
       "      <td>0</td>\n",
       "      <td>0</td>\n",
       "      <td>0</td>\n",
       "      <td>0</td>\n",
       "      <td>0</td>\n",
       "      <td>...</td>\n",
       "      <td>0</td>\n",
       "      <td>0</td>\n",
       "      <td>0</td>\n",
       "      <td>0</td>\n",
       "      <td>0</td>\n",
       "      <td>0</td>\n",
       "      <td>0</td>\n",
       "      <td>0</td>\n",
       "      <td>bathroom</td>\n",
       "      <td>14_master_bathroom_jl.jpg</td>\n",
       "    </tr>\n",
       "    <tr>\n",
       "      <th>4</th>\n",
       "      <td>1</td>\n",
       "      <td>1</td>\n",
       "      <td>0</td>\n",
       "      <td>1</td>\n",
       "      <td>0</td>\n",
       "      <td>0</td>\n",
       "      <td>0</td>\n",
       "      <td>0</td>\n",
       "      <td>0</td>\n",
       "      <td>0</td>\n",
       "      <td>...</td>\n",
       "      <td>0</td>\n",
       "      <td>0</td>\n",
       "      <td>0</td>\n",
       "      <td>0</td>\n",
       "      <td>0</td>\n",
       "      <td>0</td>\n",
       "      <td>0</td>\n",
       "      <td>0</td>\n",
       "      <td>bathroom</td>\n",
       "      <td>b1.jpg</td>\n",
       "    </tr>\n",
       "    <tr>\n",
       "      <th>...</th>\n",
       "      <td>...</td>\n",
       "      <td>...</td>\n",
       "      <td>...</td>\n",
       "      <td>...</td>\n",
       "      <td>...</td>\n",
       "      <td>...</td>\n",
       "      <td>...</td>\n",
       "      <td>...</td>\n",
       "      <td>...</td>\n",
       "      <td>...</td>\n",
       "      <td>...</td>\n",
       "      <td>...</td>\n",
       "      <td>...</td>\n",
       "      <td>...</td>\n",
       "      <td>...</td>\n",
       "      <td>...</td>\n",
       "      <td>...</td>\n",
       "      <td>...</td>\n",
       "      <td>...</td>\n",
       "      <td>...</td>\n",
       "      <td>...</td>\n",
       "    </tr>\n",
       "    <tr>\n",
       "      <th>564</th>\n",
       "      <td>0</td>\n",
       "      <td>0</td>\n",
       "      <td>0</td>\n",
       "      <td>0</td>\n",
       "      <td>0</td>\n",
       "      <td>0</td>\n",
       "      <td>0</td>\n",
       "      <td>0</td>\n",
       "      <td>0</td>\n",
       "      <td>0</td>\n",
       "      <td>...</td>\n",
       "      <td>0</td>\n",
       "      <td>0</td>\n",
       "      <td>0</td>\n",
       "      <td>1</td>\n",
       "      <td>0</td>\n",
       "      <td>1</td>\n",
       "      <td>0</td>\n",
       "      <td>2</td>\n",
       "      <td>office</td>\n",
       "      <td>office_10.jpg</td>\n",
       "    </tr>\n",
       "    <tr>\n",
       "      <th>565</th>\n",
       "      <td>0</td>\n",
       "      <td>0</td>\n",
       "      <td>0</td>\n",
       "      <td>0</td>\n",
       "      <td>0</td>\n",
       "      <td>0</td>\n",
       "      <td>0</td>\n",
       "      <td>0</td>\n",
       "      <td>0</td>\n",
       "      <td>0</td>\n",
       "      <td>...</td>\n",
       "      <td>0</td>\n",
       "      <td>0</td>\n",
       "      <td>0</td>\n",
       "      <td>1</td>\n",
       "      <td>0</td>\n",
       "      <td>2</td>\n",
       "      <td>0</td>\n",
       "      <td>2</td>\n",
       "      <td>office</td>\n",
       "      <td>office_13.jpg</td>\n",
       "    </tr>\n",
       "    <tr>\n",
       "      <th>566</th>\n",
       "      <td>0</td>\n",
       "      <td>0</td>\n",
       "      <td>0</td>\n",
       "      <td>0</td>\n",
       "      <td>0</td>\n",
       "      <td>0</td>\n",
       "      <td>0</td>\n",
       "      <td>0</td>\n",
       "      <td>0</td>\n",
       "      <td>0</td>\n",
       "      <td>...</td>\n",
       "      <td>0</td>\n",
       "      <td>0</td>\n",
       "      <td>2</td>\n",
       "      <td>0</td>\n",
       "      <td>0</td>\n",
       "      <td>0</td>\n",
       "      <td>0</td>\n",
       "      <td>0</td>\n",
       "      <td>office</td>\n",
       "      <td>or_02_03_0212_11_l.jpg</td>\n",
       "    </tr>\n",
       "    <tr>\n",
       "      <th>567</th>\n",
       "      <td>0</td>\n",
       "      <td>0</td>\n",
       "      <td>0</td>\n",
       "      <td>0</td>\n",
       "      <td>0</td>\n",
       "      <td>0</td>\n",
       "      <td>0</td>\n",
       "      <td>0</td>\n",
       "      <td>0</td>\n",
       "      <td>0</td>\n",
       "      <td>...</td>\n",
       "      <td>0</td>\n",
       "      <td>0</td>\n",
       "      <td>1</td>\n",
       "      <td>0</td>\n",
       "      <td>0</td>\n",
       "      <td>0</td>\n",
       "      <td>1</td>\n",
       "      <td>0</td>\n",
       "      <td>office</td>\n",
       "      <td>or_02_05_0479_11_l.jpg</td>\n",
       "    </tr>\n",
       "    <tr>\n",
       "      <th>568</th>\n",
       "      <td>0</td>\n",
       "      <td>0</td>\n",
       "      <td>0</td>\n",
       "      <td>0</td>\n",
       "      <td>0</td>\n",
       "      <td>0</td>\n",
       "      <td>0</td>\n",
       "      <td>0</td>\n",
       "      <td>0</td>\n",
       "      <td>0</td>\n",
       "      <td>...</td>\n",
       "      <td>0</td>\n",
       "      <td>0</td>\n",
       "      <td>0</td>\n",
       "      <td>0</td>\n",
       "      <td>0</td>\n",
       "      <td>0</td>\n",
       "      <td>1</td>\n",
       "      <td>0</td>\n",
       "      <td>office</td>\n",
       "      <td>ph_02_03_4680_35_l.jpg</td>\n",
       "    </tr>\n",
       "  </tbody>\n",
       "</table>\n",
       "<p>569 rows × 27 columns</p>\n",
       "</div>"
      ],
      "text/plain": [
       "     mirror  sink  toilet seat  bath tub  towel  bed  dresser cabinet  \\\n",
       "0         1     1            1         1      1    0                0   \n",
       "1         1     1            0         0      1    0                0   \n",
       "2         1     1            0         0      2    0                0   \n",
       "3         1     1            0         0      0    0                0   \n",
       "4         1     1            0         1      0    0                0   \n",
       "..      ...   ...          ...       ...    ...  ...              ...   \n",
       "564       0     0            0         0      0    0                0   \n",
       "565       0     0            0         0      0    0                0   \n",
       "566       0     0            0         0      0    0                0   \n",
       "567       0     0            0         0      0    0                0   \n",
       "568       0     0            0         0      0    0                0   \n",
       "\n",
       "     night table  table lamp  Tv screen  ...  oven  range hood  chair  \\\n",
       "0              0           0          0  ...     0           0      0   \n",
       "1              0           0          0  ...     0           0      0   \n",
       "2              0           0          0  ...     0           0      0   \n",
       "3              0           0          0  ...     0           0      0   \n",
       "4              0           0          0  ...     0           0      0   \n",
       "..           ...         ...        ...  ...   ...         ...    ...   \n",
       "564            0           0          0  ...     0           0      0   \n",
       "565            0           0          0  ...     0           0      0   \n",
       "566            0           0          0  ...     0           0      2   \n",
       "567            0           0          0  ...     0           0      1   \n",
       "568            0           0          0  ...     0           0      0   \n",
       "\n",
       "     printer  computer  Monitor  Desk  keyboard     Class  \\\n",
       "0          0         0        0     0         0  bathroom   \n",
       "1          0         0        0     0         0  bathroom   \n",
       "2          0         0        0     0         0  bathroom   \n",
       "3          0         0        0     0         0  bathroom   \n",
       "4          0         0        0     0         0  bathroom   \n",
       "..       ...       ...      ...   ...       ...       ...   \n",
       "564        1         0        1     0         2    office   \n",
       "565        1         0        2     0         2    office   \n",
       "566        0         0        0     0         0    office   \n",
       "567        0         0        0     1         0    office   \n",
       "568        0         0        0     1         0    office   \n",
       "\n",
       "                         image  \n",
       "0                      008.jpg  \n",
       "1                 100_0281.jpg  \n",
       "2                 100_1412.jpg  \n",
       "3    14_master_bathroom_jl.jpg  \n",
       "4                       b1.jpg  \n",
       "..                         ...  \n",
       "564              office_10.jpg  \n",
       "565              office_13.jpg  \n",
       "566     or_02_03_0212_11_l.jpg  \n",
       "567     or_02_05_0479_11_l.jpg  \n",
       "568     ph_02_03_4680_35_l.jpg  \n",
       "\n",
       "[569 rows x 27 columns]"
      ]
     },
     "execution_count": 13,
     "metadata": {},
     "output_type": "execute_result"
    }
   ],
   "source": [
    "data_class"
   ]
  },
  {
   "cell_type": "code",
   "execution_count": 14,
   "metadata": {
    "colab": {
     "base_uri": "https://localhost:8080/",
     "height": 50
    },
    "colab_type": "code",
    "executionInfo": {
     "elapsed": 435,
     "status": "ok",
     "timestamp": 1594929816344,
     "user": {
      "displayName": "technical tasks",
      "photoUrl": "",
      "userId": "05927116453551536656"
     },
     "user_tz": 240
    },
    "id": "6E5uNhc9XfoN",
    "outputId": "c0d5b1e1-47ae-48cf-d87f-1db664fb3438"
   },
   "outputs": [
    {
     "data": {
      "text/plain": [
       "0    97\n",
       "Name: night table, dtype: int64"
      ]
     },
     "execution_count": 14,
     "metadata": {},
     "output_type": "execute_result"
    }
   ],
   "source": [
    "df4 = data_class[ data_class['Class'] == 'bathroom' ]\n",
    "df4['night table'].value_counts()\n",
    "#for data in df4:\n",
    " #   data_class['chair']\n",
    "        "
   ]
  },
  {
   "cell_type": "code",
   "execution_count": 15,
   "metadata": {
    "colab": {},
    "colab_type": "code",
    "id": "B0t5AxeeXfoR"
   },
   "outputs": [],
   "source": [
    "\n",
    "df4 = data_class[ data_class['Class'] == 'bed' ].index\n",
    "for data in df4:\n",
    "    data_class.loc[data,'Class']='bedroom'\n",
    "    "
   ]
  },
  {
   "cell_type": "code",
   "execution_count": 16,
   "metadata": {
    "colab": {
     "base_uri": "https://localhost:8080/",
     "height": 134
    },
    "colab_type": "code",
    "executionInfo": {
     "elapsed": 1214,
     "status": "ok",
     "timestamp": 1594929818543,
     "user": {
      "displayName": "technical tasks",
      "photoUrl": "",
      "userId": "05927116453551536656"
     },
     "user_tz": 240
    },
    "id": "32bgNb7hXfoU",
    "outputId": "a160ba49-0317-437f-98c2-4900924103bc"
   },
   "outputs": [
    {
     "data": {
      "text/plain": [
       "dining room       100\n",
       "bowling_lounge     98\n",
       "bedroom            98\n",
       "bathroom           97\n",
       "office             97\n",
       "kitchen            79\n",
       "Name: Class, dtype: int64"
      ]
     },
     "execution_count": 16,
     "metadata": {},
     "output_type": "execute_result"
    }
   ],
   "source": [
    "data_class.Class.value_counts()"
   ]
  },
  {
   "cell_type": "code",
   "execution_count": 17,
   "metadata": {
    "colab": {
     "base_uri": "https://localhost:8080/",
     "height": 50
    },
    "colab_type": "code",
    "executionInfo": {
     "elapsed": 1096,
     "status": "ok",
     "timestamp": 1594929819280,
     "user": {
      "displayName": "technical tasks",
      "photoUrl": "",
      "userId": "05927116453551536656"
     },
     "user_tz": 240
    },
    "id": "wly_LIauXfoX",
    "outputId": "5fe7e373-3d6b-4632-9a67-efe608365465"
   },
   "outputs": [
    {
     "data": {
      "text/plain": [
       "0    98\n",
       "Name: chair, dtype: int64"
      ]
     },
     "execution_count": 17,
     "metadata": {},
     "output_type": "execute_result"
    }
   ],
   "source": [
    "df4= data_class[data_class['Class']=='bedroom'].chair.value_counts()\n",
    "df4"
   ]
  },
  {
   "cell_type": "code",
   "execution_count": 18,
   "metadata": {
    "colab": {},
    "colab_type": "code",
    "id": "UkCyU55FXfoa"
   },
   "outputs": [],
   "source": [
    "df4 = data_class[ data_class['Class'] == 'bedroom' ].index\n",
    "counter=0\n",
    "for data in df4:\n",
    "    if counter%10==0:\n",
    "        data_class.loc[data,'chair']+=1\n",
    "    counter+=1    "
   ]
  },
  {
   "cell_type": "code",
   "execution_count": 19,
   "metadata": {
    "colab": {
     "base_uri": "https://localhost:8080/",
     "height": 67
    },
    "colab_type": "code",
    "executionInfo": {
     "elapsed": 2295,
     "status": "ok",
     "timestamp": 1594929822472,
     "user": {
      "displayName": "technical tasks",
      "photoUrl": "",
      "userId": "05927116453551536656"
     },
     "user_tz": 240
    },
    "id": "h_w7S0IaXfoc",
    "outputId": "1930f27d-0dcc-41e7-9a3f-bb68349783d3"
   },
   "outputs": [
    {
     "data": {
      "text/plain": [
       "0    88\n",
       "1    10\n",
       "Name: chair, dtype: int64"
      ]
     },
     "execution_count": 19,
     "metadata": {},
     "output_type": "execute_result"
    }
   ],
   "source": [
    "df4= data_class[data_class['Class']=='bedroom'].chair.value_counts()\n",
    "df4"
   ]
  },
  {
   "cell_type": "code",
   "execution_count": 20,
   "metadata": {
    "colab": {
     "base_uri": "https://localhost:8080/",
     "height": 50
    },
    "colab_type": "code",
    "executionInfo": {
     "elapsed": 1619,
     "status": "ok",
     "timestamp": 1594929822475,
     "user": {
      "displayName": "technical tasks",
      "photoUrl": "",
      "userId": "05927116453551536656"
     },
     "user_tz": 240
    },
    "id": "H-lx8o-QXfof",
    "outputId": "b8be7ea6-77f0-4d5d-f752-5e21f12423cb"
   },
   "outputs": [
    {
     "data": {
      "text/plain": [
       "0    100\n",
       "Name: chair, dtype: int64"
      ]
     },
     "execution_count": 20,
     "metadata": {},
     "output_type": "execute_result"
    }
   ],
   "source": [
    "df4= data_class[data_class['Class']=='dining room'].chair.value_counts()\n",
    "df4"
   ]
  },
  {
   "cell_type": "code",
   "execution_count": 21,
   "metadata": {
    "colab": {},
    "colab_type": "code",
    "id": "vm-DpbvFXfoj"
   },
   "outputs": [],
   "source": [
    "df4 = data_class[ data_class['Class'] == 'dining room' ].index\n",
    "counter=0\n",
    "for data in df4:\n",
    "    if counter%20==0:\n",
    "        data_class.loc[data,'chair']+=1\n",
    "    counter+=1 "
   ]
  },
  {
   "cell_type": "code",
   "execution_count": 22,
   "metadata": {
    "colab": {},
    "colab_type": "code",
    "id": "Li9kozmcXfom"
   },
   "outputs": [],
   "source": [
    "df4 = data_class[ data_class['Class'] == 'dining room' ].index\n",
    "counter=0\n",
    "for data in df4:\n",
    "    if counter%5==0:\n",
    "        data_class.loc[data,'chair']+=1\n",
    "    counter+=1 "
   ]
  },
  {
   "cell_type": "code",
   "execution_count": 23,
   "metadata": {
    "colab": {
     "base_uri": "https://localhost:8080/",
     "height": 84
    },
    "colab_type": "code",
    "executionInfo": {
     "elapsed": 1261,
     "status": "ok",
     "timestamp": 1594929824547,
     "user": {
      "displayName": "technical tasks",
      "photoUrl": "",
      "userId": "05927116453551536656"
     },
     "user_tz": 240
    },
    "id": "p8SMM-oPXfop",
    "outputId": "7de3d357-f527-48d3-cefa-de33622aa66a"
   },
   "outputs": [
    {
     "data": {
      "text/plain": [
       "0    80\n",
       "1    15\n",
       "2     5\n",
       "Name: chair, dtype: int64"
      ]
     },
     "execution_count": 23,
     "metadata": {},
     "output_type": "execute_result"
    }
   ],
   "source": [
    "df4= data_class[data_class['Class']=='dining room'].chair.value_counts()\n",
    "df4"
   ]
  },
  {
   "cell_type": "markdown",
   "metadata": {
    "colab_type": "text",
    "id": "AFdHauUBYSiE"
   },
   "source": [
    "## Refining and cleaning **Dataset_2**"
   ]
  },
  {
   "cell_type": "code",
   "execution_count": 24,
   "metadata": {
    "colab": {
     "base_uri": "https://localhost:8080/",
     "height": 455
    },
    "colab_type": "code",
    "executionInfo": {
     "elapsed": 1274,
     "status": "ok",
     "timestamp": 1594929828874,
     "user": {
      "displayName": "technical tasks",
      "photoUrl": "",
      "userId": "05927116453551536656"
     },
     "user_tz": 240
    },
    "id": "tYcbz9yFXfor",
    "outputId": "2e42b848-83c5-4fac-c9da-0c4d56c4129d",
    "scrolled": true
   },
   "outputs": [
    {
     "data": {
      "text/html": [
       "<div>\n",
       "<style scoped>\n",
       "    .dataframe tbody tr th:only-of-type {\n",
       "        vertical-align: middle;\n",
       "    }\n",
       "\n",
       "    .dataframe tbody tr th {\n",
       "        vertical-align: top;\n",
       "    }\n",
       "\n",
       "    .dataframe thead th {\n",
       "        text-align: right;\n",
       "    }\n",
       "</style>\n",
       "<table border=\"1\" class=\"dataframe\">\n",
       "  <thead>\n",
       "    <tr style=\"text-align: right;\">\n",
       "      <th></th>\n",
       "      <th>mirror</th>\n",
       "      <th>sink</th>\n",
       "      <th>toilet seat</th>\n",
       "      <th>bath tub</th>\n",
       "      <th>towel</th>\n",
       "      <th>bed</th>\n",
       "      <th>dresser cabinet</th>\n",
       "      <th>night table</th>\n",
       "      <th>table lamp</th>\n",
       "      <th>Tv screen</th>\n",
       "      <th>...</th>\n",
       "      <th>val_91</th>\n",
       "      <th>val_92</th>\n",
       "      <th>val_93</th>\n",
       "      <th>val_94</th>\n",
       "      <th>val_95</th>\n",
       "      <th>val_96</th>\n",
       "      <th>val_97</th>\n",
       "      <th>val_98</th>\n",
       "      <th>val_99</th>\n",
       "      <th>Class</th>\n",
       "    </tr>\n",
       "  </thead>\n",
       "  <tbody>\n",
       "    <tr>\n",
       "      <th>0</th>\n",
       "      <td>1</td>\n",
       "      <td>1</td>\n",
       "      <td>1</td>\n",
       "      <td>1</td>\n",
       "      <td>1</td>\n",
       "      <td>0</td>\n",
       "      <td>0</td>\n",
       "      <td>0</td>\n",
       "      <td>0</td>\n",
       "      <td>0</td>\n",
       "      <td>...</td>\n",
       "      <td>0.000000</td>\n",
       "      <td>0.000000</td>\n",
       "      <td>0.000000</td>\n",
       "      <td>0.000000</td>\n",
       "      <td>0.000000</td>\n",
       "      <td>0.000000</td>\n",
       "      <td>0.000000</td>\n",
       "      <td>0.00000</td>\n",
       "      <td>0.000000</td>\n",
       "      <td>bathroom</td>\n",
       "    </tr>\n",
       "    <tr>\n",
       "      <th>1</th>\n",
       "      <td>1</td>\n",
       "      <td>1</td>\n",
       "      <td>0</td>\n",
       "      <td>0</td>\n",
       "      <td>1</td>\n",
       "      <td>0</td>\n",
       "      <td>0</td>\n",
       "      <td>0</td>\n",
       "      <td>0</td>\n",
       "      <td>0</td>\n",
       "      <td>...</td>\n",
       "      <td>0.000000</td>\n",
       "      <td>0.000000</td>\n",
       "      <td>0.000000</td>\n",
       "      <td>0.000000</td>\n",
       "      <td>0.000000</td>\n",
       "      <td>0.000000</td>\n",
       "      <td>0.000000</td>\n",
       "      <td>0.00000</td>\n",
       "      <td>0.000000</td>\n",
       "      <td>bathroom</td>\n",
       "    </tr>\n",
       "    <tr>\n",
       "      <th>2</th>\n",
       "      <td>1</td>\n",
       "      <td>1</td>\n",
       "      <td>0</td>\n",
       "      <td>0</td>\n",
       "      <td>2</td>\n",
       "      <td>0</td>\n",
       "      <td>0</td>\n",
       "      <td>0</td>\n",
       "      <td>0</td>\n",
       "      <td>0</td>\n",
       "      <td>...</td>\n",
       "      <td>0.000000</td>\n",
       "      <td>0.000000</td>\n",
       "      <td>0.000000</td>\n",
       "      <td>0.000000</td>\n",
       "      <td>0.000000</td>\n",
       "      <td>0.000000</td>\n",
       "      <td>0.000000</td>\n",
       "      <td>0.00000</td>\n",
       "      <td>0.000000</td>\n",
       "      <td>bathroom</td>\n",
       "    </tr>\n",
       "    <tr>\n",
       "      <th>3</th>\n",
       "      <td>1</td>\n",
       "      <td>1</td>\n",
       "      <td>0</td>\n",
       "      <td>0</td>\n",
       "      <td>0</td>\n",
       "      <td>0</td>\n",
       "      <td>0</td>\n",
       "      <td>0</td>\n",
       "      <td>0</td>\n",
       "      <td>0</td>\n",
       "      <td>...</td>\n",
       "      <td>0.000000</td>\n",
       "      <td>0.000000</td>\n",
       "      <td>0.000000</td>\n",
       "      <td>0.000000</td>\n",
       "      <td>0.000000</td>\n",
       "      <td>0.000000</td>\n",
       "      <td>0.000000</td>\n",
       "      <td>0.00000</td>\n",
       "      <td>0.000000</td>\n",
       "      <td>bathroom</td>\n",
       "    </tr>\n",
       "    <tr>\n",
       "      <th>4</th>\n",
       "      <td>1</td>\n",
       "      <td>1</td>\n",
       "      <td>0</td>\n",
       "      <td>1</td>\n",
       "      <td>0</td>\n",
       "      <td>0</td>\n",
       "      <td>0</td>\n",
       "      <td>0</td>\n",
       "      <td>0</td>\n",
       "      <td>0</td>\n",
       "      <td>...</td>\n",
       "      <td>0.000000</td>\n",
       "      <td>0.000000</td>\n",
       "      <td>0.000000</td>\n",
       "      <td>0.000000</td>\n",
       "      <td>0.000000</td>\n",
       "      <td>0.000000</td>\n",
       "      <td>0.000000</td>\n",
       "      <td>0.00000</td>\n",
       "      <td>0.000000</td>\n",
       "      <td>bathroom</td>\n",
       "    </tr>\n",
       "    <tr>\n",
       "      <th>...</th>\n",
       "      <td>...</td>\n",
       "      <td>...</td>\n",
       "      <td>...</td>\n",
       "      <td>...</td>\n",
       "      <td>...</td>\n",
       "      <td>...</td>\n",
       "      <td>...</td>\n",
       "      <td>...</td>\n",
       "      <td>...</td>\n",
       "      <td>...</td>\n",
       "      <td>...</td>\n",
       "      <td>...</td>\n",
       "      <td>...</td>\n",
       "      <td>...</td>\n",
       "      <td>...</td>\n",
       "      <td>...</td>\n",
       "      <td>...</td>\n",
       "      <td>...</td>\n",
       "      <td>...</td>\n",
       "      <td>...</td>\n",
       "      <td>...</td>\n",
       "    </tr>\n",
       "    <tr>\n",
       "      <th>564</th>\n",
       "      <td>0</td>\n",
       "      <td>0</td>\n",
       "      <td>0</td>\n",
       "      <td>0</td>\n",
       "      <td>0</td>\n",
       "      <td>0</td>\n",
       "      <td>0</td>\n",
       "      <td>0</td>\n",
       "      <td>0</td>\n",
       "      <td>0</td>\n",
       "      <td>...</td>\n",
       "      <td>381.016980</td>\n",
       "      <td>0.000000</td>\n",
       "      <td>0.000000</td>\n",
       "      <td>0.000000</td>\n",
       "      <td>0.000000</td>\n",
       "      <td>67.542383</td>\n",
       "      <td>368.135614</td>\n",
       "      <td>139.40678</td>\n",
       "      <td>402.033919</td>\n",
       "      <td>office</td>\n",
       "    </tr>\n",
       "    <tr>\n",
       "      <th>565</th>\n",
       "      <td>0</td>\n",
       "      <td>0</td>\n",
       "      <td>0</td>\n",
       "      <td>0</td>\n",
       "      <td>0</td>\n",
       "      <td>0</td>\n",
       "      <td>0</td>\n",
       "      <td>0</td>\n",
       "      <td>0</td>\n",
       "      <td>0</td>\n",
       "      <td>...</td>\n",
       "      <td>490.239557</td>\n",
       "      <td>0.000000</td>\n",
       "      <td>0.000000</td>\n",
       "      <td>0.000000</td>\n",
       "      <td>0.000000</td>\n",
       "      <td>614.717565</td>\n",
       "      <td>456.513013</td>\n",
       "      <td>800.00000</td>\n",
       "      <td>533.000000</td>\n",
       "      <td>office</td>\n",
       "    </tr>\n",
       "    <tr>\n",
       "      <th>566</th>\n",
       "      <td>0</td>\n",
       "      <td>0</td>\n",
       "      <td>0</td>\n",
       "      <td>0</td>\n",
       "      <td>0</td>\n",
       "      <td>0</td>\n",
       "      <td>0</td>\n",
       "      <td>0</td>\n",
       "      <td>0</td>\n",
       "      <td>0</td>\n",
       "      <td>...</td>\n",
       "      <td>0.000000</td>\n",
       "      <td>0.000000</td>\n",
       "      <td>0.000000</td>\n",
       "      <td>0.000000</td>\n",
       "      <td>0.000000</td>\n",
       "      <td>0.000000</td>\n",
       "      <td>0.000000</td>\n",
       "      <td>0.00000</td>\n",
       "      <td>0.000000</td>\n",
       "      <td>office</td>\n",
       "    </tr>\n",
       "    <tr>\n",
       "      <th>567</th>\n",
       "      <td>0</td>\n",
       "      <td>0</td>\n",
       "      <td>0</td>\n",
       "      <td>0</td>\n",
       "      <td>0</td>\n",
       "      <td>0</td>\n",
       "      <td>0</td>\n",
       "      <td>0</td>\n",
       "      <td>0</td>\n",
       "      <td>0</td>\n",
       "      <td>...</td>\n",
       "      <td>0.000000</td>\n",
       "      <td>73.871182</td>\n",
       "      <td>150.418079</td>\n",
       "      <td>197.966102</td>\n",
       "      <td>256.000000</td>\n",
       "      <td>0.000000</td>\n",
       "      <td>0.000000</td>\n",
       "      <td>0.00000</td>\n",
       "      <td>0.000000</td>\n",
       "      <td>office</td>\n",
       "    </tr>\n",
       "    <tr>\n",
       "      <th>568</th>\n",
       "      <td>0</td>\n",
       "      <td>0</td>\n",
       "      <td>0</td>\n",
       "      <td>0</td>\n",
       "      <td>0</td>\n",
       "      <td>0</td>\n",
       "      <td>0</td>\n",
       "      <td>0</td>\n",
       "      <td>0</td>\n",
       "      <td>0</td>\n",
       "      <td>...</td>\n",
       "      <td>0.000000</td>\n",
       "      <td>30.481363</td>\n",
       "      <td>172.691539</td>\n",
       "      <td>167.593220</td>\n",
       "      <td>255.710739</td>\n",
       "      <td>0.000000</td>\n",
       "      <td>0.000000</td>\n",
       "      <td>0.00000</td>\n",
       "      <td>0.000000</td>\n",
       "      <td>office</td>\n",
       "    </tr>\n",
       "  </tbody>\n",
       "</table>\n",
       "<p>569 rows × 127 columns</p>\n",
       "</div>"
      ],
      "text/plain": [
       "     mirror  sink  toilet seat  bath tub  towel  bed  dresser cabinet  \\\n",
       "0         1     1            1         1      1    0                0   \n",
       "1         1     1            0         0      1    0                0   \n",
       "2         1     1            0         0      2    0                0   \n",
       "3         1     1            0         0      0    0                0   \n",
       "4         1     1            0         1      0    0                0   \n",
       "..      ...   ...          ...       ...    ...  ...              ...   \n",
       "564       0     0            0         0      0    0                0   \n",
       "565       0     0            0         0      0    0                0   \n",
       "566       0     0            0         0      0    0                0   \n",
       "567       0     0            0         0      0    0                0   \n",
       "568       0     0            0         0      0    0                0   \n",
       "\n",
       "     night table  table lamp  Tv screen  ...      val_91     val_92  \\\n",
       "0              0           0          0  ...    0.000000   0.000000   \n",
       "1              0           0          0  ...    0.000000   0.000000   \n",
       "2              0           0          0  ...    0.000000   0.000000   \n",
       "3              0           0          0  ...    0.000000   0.000000   \n",
       "4              0           0          0  ...    0.000000   0.000000   \n",
       "..           ...         ...        ...  ...         ...        ...   \n",
       "564            0           0          0  ...  381.016980   0.000000   \n",
       "565            0           0          0  ...  490.239557   0.000000   \n",
       "566            0           0          0  ...    0.000000   0.000000   \n",
       "567            0           0          0  ...    0.000000  73.871182   \n",
       "568            0           0          0  ...    0.000000  30.481363   \n",
       "\n",
       "         val_93      val_94      val_95      val_96      val_97     val_98  \\\n",
       "0      0.000000    0.000000    0.000000    0.000000    0.000000    0.00000   \n",
       "1      0.000000    0.000000    0.000000    0.000000    0.000000    0.00000   \n",
       "2      0.000000    0.000000    0.000000    0.000000    0.000000    0.00000   \n",
       "3      0.000000    0.000000    0.000000    0.000000    0.000000    0.00000   \n",
       "4      0.000000    0.000000    0.000000    0.000000    0.000000    0.00000   \n",
       "..          ...         ...         ...         ...         ...        ...   \n",
       "564    0.000000    0.000000    0.000000   67.542383  368.135614  139.40678   \n",
       "565    0.000000    0.000000    0.000000  614.717565  456.513013  800.00000   \n",
       "566    0.000000    0.000000    0.000000    0.000000    0.000000    0.00000   \n",
       "567  150.418079  197.966102  256.000000    0.000000    0.000000    0.00000   \n",
       "568  172.691539  167.593220  255.710739    0.000000    0.000000    0.00000   \n",
       "\n",
       "         val_99     Class  \n",
       "0      0.000000  bathroom  \n",
       "1      0.000000  bathroom  \n",
       "2      0.000000  bathroom  \n",
       "3      0.000000  bathroom  \n",
       "4      0.000000  bathroom  \n",
       "..          ...       ...  \n",
       "564  402.033919    office  \n",
       "565  533.000000    office  \n",
       "566    0.000000    office  \n",
       "567    0.000000    office  \n",
       "568    0.000000    office  \n",
       "\n",
       "[569 rows x 127 columns]"
      ]
     },
     "execution_count": 24,
     "metadata": {},
     "output_type": "execute_result"
    }
   ],
   "source": [
    "data_both"
   ]
  },
  {
   "cell_type": "code",
   "execution_count": 25,
   "metadata": {
    "colab": {},
    "colab_type": "code",
    "id": "SU3jSVDQXfov"
   },
   "outputs": [],
   "source": [
    "df4 = data_both[ data_both['Class'] == 'bed' ].index\n",
    "for data in df4:\n",
    "    data_both.loc[data,'Class']='bedroom'"
   ]
  },
  {
   "cell_type": "code",
   "execution_count": 26,
   "metadata": {
    "colab": {
     "base_uri": "https://localhost:8080/",
     "height": 134
    },
    "colab_type": "code",
    "executionInfo": {
     "elapsed": 2054,
     "status": "ok",
     "timestamp": 1594929831233,
     "user": {
      "displayName": "technical tasks",
      "photoUrl": "",
      "userId": "05927116453551536656"
     },
     "user_tz": 240
    },
    "id": "crBZZ7jhXfo3",
    "outputId": "73efdfa1-3d83-4581-deec-5e49cb8f5535"
   },
   "outputs": [
    {
     "data": {
      "text/plain": [
       "dining room       100\n",
       "bowling_lounge     98\n",
       "bedroom            98\n",
       "bathroom           97\n",
       "office             97\n",
       "kitchen            79\n",
       "Name: Class, dtype: int64"
      ]
     },
     "execution_count": 26,
     "metadata": {},
     "output_type": "execute_result"
    }
   ],
   "source": [
    "data_both.Class.value_counts()"
   ]
  },
  {
   "cell_type": "code",
   "execution_count": 27,
   "metadata": {
    "colab": {
     "base_uri": "https://localhost:8080/",
     "height": 50
    },
    "colab_type": "code",
    "executionInfo": {
     "elapsed": 1389,
     "status": "ok",
     "timestamp": 1594929831233,
     "user": {
      "displayName": "technical tasks",
      "photoUrl": "",
      "userId": "05927116453551536656"
     },
     "user_tz": 240
    },
    "id": "LkYMJyuFXfo6",
    "outputId": "d01dc57c-4ec9-4b72-946d-c381aab75fa5"
   },
   "outputs": [
    {
     "data": {
      "text/plain": [
       "0    98\n",
       "Name: chair, dtype: int64"
      ]
     },
     "execution_count": 27,
     "metadata": {},
     "output_type": "execute_result"
    }
   ],
   "source": [
    "df4= data_both[data_both['Class']=='bedroom'].chair.value_counts()\n",
    "df4"
   ]
  },
  {
   "cell_type": "code",
   "execution_count": 28,
   "metadata": {
    "colab": {},
    "colab_type": "code",
    "id": "TeUkxhgVXfo_"
   },
   "outputs": [],
   "source": [
    "df4 = data_both[ data_both['Class'] == 'bedroom' ].index\n",
    "counter=0\n",
    "for data in df4:\n",
    "    if counter%10==0:\n",
    "        data_both.loc[data,'chair']+=1\n",
    "    counter+=1    "
   ]
  },
  {
   "cell_type": "code",
   "execution_count": 29,
   "metadata": {
    "colab": {
     "base_uri": "https://localhost:8080/",
     "height": 67
    },
    "colab_type": "code",
    "executionInfo": {
     "elapsed": 749,
     "status": "ok",
     "timestamp": 1594929831822,
     "user": {
      "displayName": "technical tasks",
      "photoUrl": "",
      "userId": "05927116453551536656"
     },
     "user_tz": 240
    },
    "id": "Q8RL0E_pXfpC",
    "outputId": "e3a2c21a-b709-4bbe-e780-88d83319a4cb"
   },
   "outputs": [
    {
     "data": {
      "text/plain": [
       "0    88\n",
       "1    10\n",
       "Name: chair, dtype: int64"
      ]
     },
     "execution_count": 29,
     "metadata": {},
     "output_type": "execute_result"
    }
   ],
   "source": [
    "df4= data_both[data_both['Class']=='bedroom'].chair.value_counts()\n",
    "df4"
   ]
  },
  {
   "cell_type": "code",
   "execution_count": 30,
   "metadata": {
    "colab": {
     "base_uri": "https://localhost:8080/",
     "height": 50
    },
    "colab_type": "code",
    "executionInfo": {
     "elapsed": 765,
     "status": "ok",
     "timestamp": 1594929832507,
     "user": {
      "displayName": "technical tasks",
      "photoUrl": "",
      "userId": "05927116453551536656"
     },
     "user_tz": 240
    },
    "id": "vw66NsHoXfpH",
    "outputId": "49ff4bdf-127a-46d1-ef76-6809b560a527"
   },
   "outputs": [
    {
     "data": {
      "text/plain": [
       "0    100\n",
       "Name: chair, dtype: int64"
      ]
     },
     "execution_count": 30,
     "metadata": {},
     "output_type": "execute_result"
    }
   ],
   "source": [
    "df4= data_both[data_both['Class']=='dining room'].chair.value_counts()\n",
    "df4"
   ]
  },
  {
   "cell_type": "code",
   "execution_count": 31,
   "metadata": {
    "colab": {},
    "colab_type": "code",
    "id": "a8aj1HoYXfpK"
   },
   "outputs": [],
   "source": [
    "df4 = data_both[ data_both['Class'] == 'dining room' ].index\n",
    "counter=0\n",
    "for data in df4:\n",
    "    if counter%5==0:\n",
    "        data_both.loc[data,'chair']+=1\n",
    "    counter+=1 "
   ]
  },
  {
   "cell_type": "code",
   "execution_count": 32,
   "metadata": {
    "colab": {},
    "colab_type": "code",
    "id": "woMIt9JsXfpM"
   },
   "outputs": [],
   "source": [
    "df4 = data_both[ data_both['Class'] == 'dining room' ].index\n",
    "counter=0\n",
    "for data in df4:\n",
    "    if counter%20==0:\n",
    "        data_both.loc[data,'chair']+=1\n",
    "    counter+=1 "
   ]
  },
  {
   "cell_type": "code",
   "execution_count": 33,
   "metadata": {
    "colab": {
     "base_uri": "https://localhost:8080/",
     "height": 84
    },
    "colab_type": "code",
    "executionInfo": {
     "elapsed": 528,
     "status": "ok",
     "timestamp": 1594929834247,
     "user": {
      "displayName": "technical tasks",
      "photoUrl": "",
      "userId": "05927116453551536656"
     },
     "user_tz": 240
    },
    "id": "heV7ALwuXfpO",
    "outputId": "17f048ee-3c26-4a63-fffa-3707013f6ecc"
   },
   "outputs": [
    {
     "data": {
      "text/plain": [
       "0    80\n",
       "1    15\n",
       "2     5\n",
       "Name: chair, dtype: int64"
      ]
     },
     "execution_count": 33,
     "metadata": {},
     "output_type": "execute_result"
    }
   ],
   "source": [
    "df4= data_both[data_both['Class']=='dining room'].chair.value_counts()\n",
    "df4"
   ]
  },
  {
   "cell_type": "code",
   "execution_count": 34,
   "metadata": {
    "colab": {},
    "colab_type": "code",
    "id": "c5LQC-BJ1fZh"
   },
   "outputs": [],
   "source": [
    "data_both=data_both.drop(columns='image')"
   ]
  },
  {
   "cell_type": "code",
   "execution_count": 35,
   "metadata": {
    "colab": {
     "base_uri": "https://localhost:8080/",
     "height": 455
    },
    "colab_type": "code",
    "executionInfo": {
     "elapsed": 866,
     "status": "ok",
     "timestamp": 1594929836189,
     "user": {
      "displayName": "technical tasks",
      "photoUrl": "",
      "userId": "05927116453551536656"
     },
     "user_tz": 240
    },
    "id": "N4Nr5cmd3MOW",
    "outputId": "a10c3eae-5d0e-47c9-abe5-13399a1c85d8"
   },
   "outputs": [
    {
     "data": {
      "text/html": [
       "<div>\n",
       "<style scoped>\n",
       "    .dataframe tbody tr th:only-of-type {\n",
       "        vertical-align: middle;\n",
       "    }\n",
       "\n",
       "    .dataframe tbody tr th {\n",
       "        vertical-align: top;\n",
       "    }\n",
       "\n",
       "    .dataframe thead th {\n",
       "        text-align: right;\n",
       "    }\n",
       "</style>\n",
       "<table border=\"1\" class=\"dataframe\">\n",
       "  <thead>\n",
       "    <tr style=\"text-align: right;\">\n",
       "      <th></th>\n",
       "      <th>mirror</th>\n",
       "      <th>sink</th>\n",
       "      <th>toilet seat</th>\n",
       "      <th>bath tub</th>\n",
       "      <th>towel</th>\n",
       "      <th>bed</th>\n",
       "      <th>dresser cabinet</th>\n",
       "      <th>night table</th>\n",
       "      <th>table lamp</th>\n",
       "      <th>Tv screen</th>\n",
       "      <th>...</th>\n",
       "      <th>val_91</th>\n",
       "      <th>val_92</th>\n",
       "      <th>val_93</th>\n",
       "      <th>val_94</th>\n",
       "      <th>val_95</th>\n",
       "      <th>val_96</th>\n",
       "      <th>val_97</th>\n",
       "      <th>val_98</th>\n",
       "      <th>val_99</th>\n",
       "      <th>Class</th>\n",
       "    </tr>\n",
       "  </thead>\n",
       "  <tbody>\n",
       "    <tr>\n",
       "      <th>0</th>\n",
       "      <td>1</td>\n",
       "      <td>1</td>\n",
       "      <td>1</td>\n",
       "      <td>1</td>\n",
       "      <td>1</td>\n",
       "      <td>0</td>\n",
       "      <td>0</td>\n",
       "      <td>0</td>\n",
       "      <td>0</td>\n",
       "      <td>0</td>\n",
       "      <td>...</td>\n",
       "      <td>0.000000</td>\n",
       "      <td>0.000000</td>\n",
       "      <td>0.000000</td>\n",
       "      <td>0.000000</td>\n",
       "      <td>0.000000</td>\n",
       "      <td>0.000000</td>\n",
       "      <td>0.000000</td>\n",
       "      <td>0.00000</td>\n",
       "      <td>0.000000</td>\n",
       "      <td>bathroom</td>\n",
       "    </tr>\n",
       "    <tr>\n",
       "      <th>1</th>\n",
       "      <td>1</td>\n",
       "      <td>1</td>\n",
       "      <td>0</td>\n",
       "      <td>0</td>\n",
       "      <td>1</td>\n",
       "      <td>0</td>\n",
       "      <td>0</td>\n",
       "      <td>0</td>\n",
       "      <td>0</td>\n",
       "      <td>0</td>\n",
       "      <td>...</td>\n",
       "      <td>0.000000</td>\n",
       "      <td>0.000000</td>\n",
       "      <td>0.000000</td>\n",
       "      <td>0.000000</td>\n",
       "      <td>0.000000</td>\n",
       "      <td>0.000000</td>\n",
       "      <td>0.000000</td>\n",
       "      <td>0.00000</td>\n",
       "      <td>0.000000</td>\n",
       "      <td>bathroom</td>\n",
       "    </tr>\n",
       "    <tr>\n",
       "      <th>2</th>\n",
       "      <td>1</td>\n",
       "      <td>1</td>\n",
       "      <td>0</td>\n",
       "      <td>0</td>\n",
       "      <td>2</td>\n",
       "      <td>0</td>\n",
       "      <td>0</td>\n",
       "      <td>0</td>\n",
       "      <td>0</td>\n",
       "      <td>0</td>\n",
       "      <td>...</td>\n",
       "      <td>0.000000</td>\n",
       "      <td>0.000000</td>\n",
       "      <td>0.000000</td>\n",
       "      <td>0.000000</td>\n",
       "      <td>0.000000</td>\n",
       "      <td>0.000000</td>\n",
       "      <td>0.000000</td>\n",
       "      <td>0.00000</td>\n",
       "      <td>0.000000</td>\n",
       "      <td>bathroom</td>\n",
       "    </tr>\n",
       "    <tr>\n",
       "      <th>3</th>\n",
       "      <td>1</td>\n",
       "      <td>1</td>\n",
       "      <td>0</td>\n",
       "      <td>0</td>\n",
       "      <td>0</td>\n",
       "      <td>0</td>\n",
       "      <td>0</td>\n",
       "      <td>0</td>\n",
       "      <td>0</td>\n",
       "      <td>0</td>\n",
       "      <td>...</td>\n",
       "      <td>0.000000</td>\n",
       "      <td>0.000000</td>\n",
       "      <td>0.000000</td>\n",
       "      <td>0.000000</td>\n",
       "      <td>0.000000</td>\n",
       "      <td>0.000000</td>\n",
       "      <td>0.000000</td>\n",
       "      <td>0.00000</td>\n",
       "      <td>0.000000</td>\n",
       "      <td>bathroom</td>\n",
       "    </tr>\n",
       "    <tr>\n",
       "      <th>4</th>\n",
       "      <td>1</td>\n",
       "      <td>1</td>\n",
       "      <td>0</td>\n",
       "      <td>1</td>\n",
       "      <td>0</td>\n",
       "      <td>0</td>\n",
       "      <td>0</td>\n",
       "      <td>0</td>\n",
       "      <td>0</td>\n",
       "      <td>0</td>\n",
       "      <td>...</td>\n",
       "      <td>0.000000</td>\n",
       "      <td>0.000000</td>\n",
       "      <td>0.000000</td>\n",
       "      <td>0.000000</td>\n",
       "      <td>0.000000</td>\n",
       "      <td>0.000000</td>\n",
       "      <td>0.000000</td>\n",
       "      <td>0.00000</td>\n",
       "      <td>0.000000</td>\n",
       "      <td>bathroom</td>\n",
       "    </tr>\n",
       "    <tr>\n",
       "      <th>...</th>\n",
       "      <td>...</td>\n",
       "      <td>...</td>\n",
       "      <td>...</td>\n",
       "      <td>...</td>\n",
       "      <td>...</td>\n",
       "      <td>...</td>\n",
       "      <td>...</td>\n",
       "      <td>...</td>\n",
       "      <td>...</td>\n",
       "      <td>...</td>\n",
       "      <td>...</td>\n",
       "      <td>...</td>\n",
       "      <td>...</td>\n",
       "      <td>...</td>\n",
       "      <td>...</td>\n",
       "      <td>...</td>\n",
       "      <td>...</td>\n",
       "      <td>...</td>\n",
       "      <td>...</td>\n",
       "      <td>...</td>\n",
       "      <td>...</td>\n",
       "    </tr>\n",
       "    <tr>\n",
       "      <th>564</th>\n",
       "      <td>0</td>\n",
       "      <td>0</td>\n",
       "      <td>0</td>\n",
       "      <td>0</td>\n",
       "      <td>0</td>\n",
       "      <td>0</td>\n",
       "      <td>0</td>\n",
       "      <td>0</td>\n",
       "      <td>0</td>\n",
       "      <td>0</td>\n",
       "      <td>...</td>\n",
       "      <td>381.016980</td>\n",
       "      <td>0.000000</td>\n",
       "      <td>0.000000</td>\n",
       "      <td>0.000000</td>\n",
       "      <td>0.000000</td>\n",
       "      <td>67.542383</td>\n",
       "      <td>368.135614</td>\n",
       "      <td>139.40678</td>\n",
       "      <td>402.033919</td>\n",
       "      <td>office</td>\n",
       "    </tr>\n",
       "    <tr>\n",
       "      <th>565</th>\n",
       "      <td>0</td>\n",
       "      <td>0</td>\n",
       "      <td>0</td>\n",
       "      <td>0</td>\n",
       "      <td>0</td>\n",
       "      <td>0</td>\n",
       "      <td>0</td>\n",
       "      <td>0</td>\n",
       "      <td>0</td>\n",
       "      <td>0</td>\n",
       "      <td>...</td>\n",
       "      <td>490.239557</td>\n",
       "      <td>0.000000</td>\n",
       "      <td>0.000000</td>\n",
       "      <td>0.000000</td>\n",
       "      <td>0.000000</td>\n",
       "      <td>614.717565</td>\n",
       "      <td>456.513013</td>\n",
       "      <td>800.00000</td>\n",
       "      <td>533.000000</td>\n",
       "      <td>office</td>\n",
       "    </tr>\n",
       "    <tr>\n",
       "      <th>566</th>\n",
       "      <td>0</td>\n",
       "      <td>0</td>\n",
       "      <td>0</td>\n",
       "      <td>0</td>\n",
       "      <td>0</td>\n",
       "      <td>0</td>\n",
       "      <td>0</td>\n",
       "      <td>0</td>\n",
       "      <td>0</td>\n",
       "      <td>0</td>\n",
       "      <td>...</td>\n",
       "      <td>0.000000</td>\n",
       "      <td>0.000000</td>\n",
       "      <td>0.000000</td>\n",
       "      <td>0.000000</td>\n",
       "      <td>0.000000</td>\n",
       "      <td>0.000000</td>\n",
       "      <td>0.000000</td>\n",
       "      <td>0.00000</td>\n",
       "      <td>0.000000</td>\n",
       "      <td>office</td>\n",
       "    </tr>\n",
       "    <tr>\n",
       "      <th>567</th>\n",
       "      <td>0</td>\n",
       "      <td>0</td>\n",
       "      <td>0</td>\n",
       "      <td>0</td>\n",
       "      <td>0</td>\n",
       "      <td>0</td>\n",
       "      <td>0</td>\n",
       "      <td>0</td>\n",
       "      <td>0</td>\n",
       "      <td>0</td>\n",
       "      <td>...</td>\n",
       "      <td>0.000000</td>\n",
       "      <td>73.871182</td>\n",
       "      <td>150.418079</td>\n",
       "      <td>197.966102</td>\n",
       "      <td>256.000000</td>\n",
       "      <td>0.000000</td>\n",
       "      <td>0.000000</td>\n",
       "      <td>0.00000</td>\n",
       "      <td>0.000000</td>\n",
       "      <td>office</td>\n",
       "    </tr>\n",
       "    <tr>\n",
       "      <th>568</th>\n",
       "      <td>0</td>\n",
       "      <td>0</td>\n",
       "      <td>0</td>\n",
       "      <td>0</td>\n",
       "      <td>0</td>\n",
       "      <td>0</td>\n",
       "      <td>0</td>\n",
       "      <td>0</td>\n",
       "      <td>0</td>\n",
       "      <td>0</td>\n",
       "      <td>...</td>\n",
       "      <td>0.000000</td>\n",
       "      <td>30.481363</td>\n",
       "      <td>172.691539</td>\n",
       "      <td>167.593220</td>\n",
       "      <td>255.710739</td>\n",
       "      <td>0.000000</td>\n",
       "      <td>0.000000</td>\n",
       "      <td>0.00000</td>\n",
       "      <td>0.000000</td>\n",
       "      <td>office</td>\n",
       "    </tr>\n",
       "  </tbody>\n",
       "</table>\n",
       "<p>569 rows × 126 columns</p>\n",
       "</div>"
      ],
      "text/plain": [
       "     mirror  sink  toilet seat  bath tub  towel  bed  dresser cabinet  \\\n",
       "0         1     1            1         1      1    0                0   \n",
       "1         1     1            0         0      1    0                0   \n",
       "2         1     1            0         0      2    0                0   \n",
       "3         1     1            0         0      0    0                0   \n",
       "4         1     1            0         1      0    0                0   \n",
       "..      ...   ...          ...       ...    ...  ...              ...   \n",
       "564       0     0            0         0      0    0                0   \n",
       "565       0     0            0         0      0    0                0   \n",
       "566       0     0            0         0      0    0                0   \n",
       "567       0     0            0         0      0    0                0   \n",
       "568       0     0            0         0      0    0                0   \n",
       "\n",
       "     night table  table lamp  Tv screen  ...      val_91     val_92  \\\n",
       "0              0           0          0  ...    0.000000   0.000000   \n",
       "1              0           0          0  ...    0.000000   0.000000   \n",
       "2              0           0          0  ...    0.000000   0.000000   \n",
       "3              0           0          0  ...    0.000000   0.000000   \n",
       "4              0           0          0  ...    0.000000   0.000000   \n",
       "..           ...         ...        ...  ...         ...        ...   \n",
       "564            0           0          0  ...  381.016980   0.000000   \n",
       "565            0           0          0  ...  490.239557   0.000000   \n",
       "566            0           0          0  ...    0.000000   0.000000   \n",
       "567            0           0          0  ...    0.000000  73.871182   \n",
       "568            0           0          0  ...    0.000000  30.481363   \n",
       "\n",
       "         val_93      val_94      val_95      val_96      val_97     val_98  \\\n",
       "0      0.000000    0.000000    0.000000    0.000000    0.000000    0.00000   \n",
       "1      0.000000    0.000000    0.000000    0.000000    0.000000    0.00000   \n",
       "2      0.000000    0.000000    0.000000    0.000000    0.000000    0.00000   \n",
       "3      0.000000    0.000000    0.000000    0.000000    0.000000    0.00000   \n",
       "4      0.000000    0.000000    0.000000    0.000000    0.000000    0.00000   \n",
       "..          ...         ...         ...         ...         ...        ...   \n",
       "564    0.000000    0.000000    0.000000   67.542383  368.135614  139.40678   \n",
       "565    0.000000    0.000000    0.000000  614.717565  456.513013  800.00000   \n",
       "566    0.000000    0.000000    0.000000    0.000000    0.000000    0.00000   \n",
       "567  150.418079  197.966102  256.000000    0.000000    0.000000    0.00000   \n",
       "568  172.691539  167.593220  255.710739    0.000000    0.000000    0.00000   \n",
       "\n",
       "         val_99     Class  \n",
       "0      0.000000  bathroom  \n",
       "1      0.000000  bathroom  \n",
       "2      0.000000  bathroom  \n",
       "3      0.000000  bathroom  \n",
       "4      0.000000  bathroom  \n",
       "..          ...       ...  \n",
       "564  402.033919    office  \n",
       "565  533.000000    office  \n",
       "566    0.000000    office  \n",
       "567    0.000000    office  \n",
       "568    0.000000    office  \n",
       "\n",
       "[569 rows x 126 columns]"
      ]
     },
     "execution_count": 35,
     "metadata": {},
     "output_type": "execute_result"
    }
   ],
   "source": [
    "data_both"
   ]
  },
  {
   "cell_type": "markdown",
   "metadata": {
    "colab_type": "text",
    "id": "0Hz3c8QZXfpW"
   },
   "source": [
    "## Upsampling the datasets"
   ]
  },
  {
   "cell_type": "markdown",
   "metadata": {
    "colab_type": "text",
    "id": "INYgNdzdZO5_"
   },
   "source": [
    "### Upsampling **Dataset_1**"
   ]
  },
  {
   "cell_type": "code",
   "execution_count": 36,
   "metadata": {
    "colab": {
     "base_uri": "https://localhost:8080/",
     "height": 455
    },
    "colab_type": "code",
    "executionInfo": {
     "elapsed": 1258,
     "status": "ok",
     "timestamp": 1594929841160,
     "user": {
      "displayName": "technical tasks",
      "photoUrl": "",
      "userId": "05927116453551536656"
     },
     "user_tz": 240
    },
    "id": "Ks8jZK64XfpX",
    "outputId": "a4d7f70c-4d89-4b7e-a560-b536752fbfc1",
    "scrolled": true
   },
   "outputs": [
    {
     "data": {
      "text/html": [
       "<div>\n",
       "<style scoped>\n",
       "    .dataframe tbody tr th:only-of-type {\n",
       "        vertical-align: middle;\n",
       "    }\n",
       "\n",
       "    .dataframe tbody tr th {\n",
       "        vertical-align: top;\n",
       "    }\n",
       "\n",
       "    .dataframe thead th {\n",
       "        text-align: right;\n",
       "    }\n",
       "</style>\n",
       "<table border=\"1\" class=\"dataframe\">\n",
       "  <thead>\n",
       "    <tr style=\"text-align: right;\">\n",
       "      <th></th>\n",
       "      <th>mirror</th>\n",
       "      <th>sink</th>\n",
       "      <th>toilet seat</th>\n",
       "      <th>bath tub</th>\n",
       "      <th>towel</th>\n",
       "      <th>bed</th>\n",
       "      <th>dresser cabinet</th>\n",
       "      <th>night table</th>\n",
       "      <th>table lamp</th>\n",
       "      <th>Tv screen</th>\n",
       "      <th>...</th>\n",
       "      <th>oven</th>\n",
       "      <th>range hood</th>\n",
       "      <th>chair</th>\n",
       "      <th>printer</th>\n",
       "      <th>computer</th>\n",
       "      <th>Monitor</th>\n",
       "      <th>Desk</th>\n",
       "      <th>keyboard</th>\n",
       "      <th>Class</th>\n",
       "      <th>image</th>\n",
       "    </tr>\n",
       "  </thead>\n",
       "  <tbody>\n",
       "    <tr>\n",
       "      <th>559</th>\n",
       "      <td>0</td>\n",
       "      <td>0</td>\n",
       "      <td>0</td>\n",
       "      <td>0</td>\n",
       "      <td>0</td>\n",
       "      <td>0</td>\n",
       "      <td>0</td>\n",
       "      <td>0</td>\n",
       "      <td>0</td>\n",
       "      <td>0</td>\n",
       "      <td>...</td>\n",
       "      <td>0</td>\n",
       "      <td>0</td>\n",
       "      <td>1</td>\n",
       "      <td>1</td>\n",
       "      <td>0</td>\n",
       "      <td>2</td>\n",
       "      <td>0</td>\n",
       "      <td>0</td>\n",
       "      <td>office</td>\n",
       "      <td>office5.jpg</td>\n",
       "    </tr>\n",
       "    <tr>\n",
       "      <th>192</th>\n",
       "      <td>0</td>\n",
       "      <td>0</td>\n",
       "      <td>0</td>\n",
       "      <td>0</td>\n",
       "      <td>0</td>\n",
       "      <td>1</td>\n",
       "      <td>0</td>\n",
       "      <td>0</td>\n",
       "      <td>1</td>\n",
       "      <td>0</td>\n",
       "      <td>...</td>\n",
       "      <td>0</td>\n",
       "      <td>0</td>\n",
       "      <td>0</td>\n",
       "      <td>0</td>\n",
       "      <td>0</td>\n",
       "      <td>0</td>\n",
       "      <td>0</td>\n",
       "      <td>0</td>\n",
       "      <td>bedroom</td>\n",
       "      <td>IMG_2430.jpg</td>\n",
       "    </tr>\n",
       "    <tr>\n",
       "      <th>359</th>\n",
       "      <td>0</td>\n",
       "      <td>0</td>\n",
       "      <td>0</td>\n",
       "      <td>0</td>\n",
       "      <td>0</td>\n",
       "      <td>0</td>\n",
       "      <td>0</td>\n",
       "      <td>0</td>\n",
       "      <td>0</td>\n",
       "      <td>0</td>\n",
       "      <td>...</td>\n",
       "      <td>0</td>\n",
       "      <td>0</td>\n",
       "      <td>0</td>\n",
       "      <td>0</td>\n",
       "      <td>0</td>\n",
       "      <td>0</td>\n",
       "      <td>0</td>\n",
       "      <td>0</td>\n",
       "      <td>dining room</td>\n",
       "      <td>dining10.jpg</td>\n",
       "    </tr>\n",
       "    <tr>\n",
       "      <th>9</th>\n",
       "      <td>0</td>\n",
       "      <td>1</td>\n",
       "      <td>1</td>\n",
       "      <td>1</td>\n",
       "      <td>1</td>\n",
       "      <td>0</td>\n",
       "      <td>0</td>\n",
       "      <td>0</td>\n",
       "      <td>0</td>\n",
       "      <td>0</td>\n",
       "      <td>...</td>\n",
       "      <td>0</td>\n",
       "      <td>0</td>\n",
       "      <td>0</td>\n",
       "      <td>0</td>\n",
       "      <td>0</td>\n",
       "      <td>0</td>\n",
       "      <td>0</td>\n",
       "      <td>0</td>\n",
       "      <td>bathroom</td>\n",
       "      <td>b3.jpg</td>\n",
       "    </tr>\n",
       "    <tr>\n",
       "      <th>277</th>\n",
       "      <td>0</td>\n",
       "      <td>0</td>\n",
       "      <td>0</td>\n",
       "      <td>0</td>\n",
       "      <td>0</td>\n",
       "      <td>0</td>\n",
       "      <td>0</td>\n",
       "      <td>0</td>\n",
       "      <td>0</td>\n",
       "      <td>4</td>\n",
       "      <td>...</td>\n",
       "      <td>0</td>\n",
       "      <td>0</td>\n",
       "      <td>0</td>\n",
       "      <td>0</td>\n",
       "      <td>0</td>\n",
       "      <td>0</td>\n",
       "      <td>0</td>\n",
       "      <td>0</td>\n",
       "      <td>bowling_lounge</td>\n",
       "      <td>bowling_0094.jpg</td>\n",
       "    </tr>\n",
       "    <tr>\n",
       "      <th>...</th>\n",
       "      <td>...</td>\n",
       "      <td>...</td>\n",
       "      <td>...</td>\n",
       "      <td>...</td>\n",
       "      <td>...</td>\n",
       "      <td>...</td>\n",
       "      <td>...</td>\n",
       "      <td>...</td>\n",
       "      <td>...</td>\n",
       "      <td>...</td>\n",
       "      <td>...</td>\n",
       "      <td>...</td>\n",
       "      <td>...</td>\n",
       "      <td>...</td>\n",
       "      <td>...</td>\n",
       "      <td>...</td>\n",
       "      <td>...</td>\n",
       "      <td>...</td>\n",
       "      <td>...</td>\n",
       "      <td>...</td>\n",
       "      <td>...</td>\n",
       "    </tr>\n",
       "    <tr>\n",
       "      <th>325</th>\n",
       "      <td>0</td>\n",
       "      <td>0</td>\n",
       "      <td>0</td>\n",
       "      <td>0</td>\n",
       "      <td>0</td>\n",
       "      <td>0</td>\n",
       "      <td>0</td>\n",
       "      <td>0</td>\n",
       "      <td>0</td>\n",
       "      <td>0</td>\n",
       "      <td>...</td>\n",
       "      <td>0</td>\n",
       "      <td>0</td>\n",
       "      <td>0</td>\n",
       "      <td>0</td>\n",
       "      <td>0</td>\n",
       "      <td>0</td>\n",
       "      <td>0</td>\n",
       "      <td>0</td>\n",
       "      <td>dining room</td>\n",
       "      <td>dining013.jpg</td>\n",
       "    </tr>\n",
       "    <tr>\n",
       "      <th>345</th>\n",
       "      <td>0</td>\n",
       "      <td>0</td>\n",
       "      <td>0</td>\n",
       "      <td>0</td>\n",
       "      <td>0</td>\n",
       "      <td>0</td>\n",
       "      <td>0</td>\n",
       "      <td>0</td>\n",
       "      <td>0</td>\n",
       "      <td>0</td>\n",
       "      <td>...</td>\n",
       "      <td>0</td>\n",
       "      <td>0</td>\n",
       "      <td>0</td>\n",
       "      <td>0</td>\n",
       "      <td>0</td>\n",
       "      <td>0</td>\n",
       "      <td>0</td>\n",
       "      <td>0</td>\n",
       "      <td>dining room</td>\n",
       "      <td>dining035.jpg</td>\n",
       "    </tr>\n",
       "    <tr>\n",
       "      <th>149</th>\n",
       "      <td>0</td>\n",
       "      <td>0</td>\n",
       "      <td>0</td>\n",
       "      <td>0</td>\n",
       "      <td>0</td>\n",
       "      <td>1</td>\n",
       "      <td>0</td>\n",
       "      <td>0</td>\n",
       "      <td>0</td>\n",
       "      <td>0</td>\n",
       "      <td>...</td>\n",
       "      <td>0</td>\n",
       "      <td>0</td>\n",
       "      <td>0</td>\n",
       "      <td>0</td>\n",
       "      <td>0</td>\n",
       "      <td>0</td>\n",
       "      <td>0</td>\n",
       "      <td>0</td>\n",
       "      <td>bedroom</td>\n",
       "      <td>bed170.jpg</td>\n",
       "    </tr>\n",
       "    <tr>\n",
       "      <th>22</th>\n",
       "      <td>1</td>\n",
       "      <td>1</td>\n",
       "      <td>1</td>\n",
       "      <td>0</td>\n",
       "      <td>0</td>\n",
       "      <td>0</td>\n",
       "      <td>0</td>\n",
       "      <td>0</td>\n",
       "      <td>0</td>\n",
       "      <td>0</td>\n",
       "      <td>...</td>\n",
       "      <td>0</td>\n",
       "      <td>0</td>\n",
       "      <td>0</td>\n",
       "      <td>0</td>\n",
       "      <td>0</td>\n",
       "      <td>0</td>\n",
       "      <td>0</td>\n",
       "      <td>0</td>\n",
       "      <td>bathroom</td>\n",
       "      <td>bath26.jpg</td>\n",
       "    </tr>\n",
       "    <tr>\n",
       "      <th>535</th>\n",
       "      <td>0</td>\n",
       "      <td>0</td>\n",
       "      <td>0</td>\n",
       "      <td>0</td>\n",
       "      <td>0</td>\n",
       "      <td>0</td>\n",
       "      <td>0</td>\n",
       "      <td>0</td>\n",
       "      <td>0</td>\n",
       "      <td>0</td>\n",
       "      <td>...</td>\n",
       "      <td>0</td>\n",
       "      <td>0</td>\n",
       "      <td>1</td>\n",
       "      <td>1</td>\n",
       "      <td>0</td>\n",
       "      <td>1</td>\n",
       "      <td>0</td>\n",
       "      <td>0</td>\n",
       "      <td>office</td>\n",
       "      <td>o1.jpg</td>\n",
       "    </tr>\n",
       "  </tbody>\n",
       "</table>\n",
       "<p>3500 rows × 27 columns</p>\n",
       "</div>"
      ],
      "text/plain": [
       "     mirror  sink  toilet seat  bath tub  towel  bed  dresser cabinet  \\\n",
       "559       0     0            0         0      0    0                0   \n",
       "192       0     0            0         0      0    1                0   \n",
       "359       0     0            0         0      0    0                0   \n",
       "9         0     1            1         1      1    0                0   \n",
       "277       0     0            0         0      0    0                0   \n",
       "..      ...   ...          ...       ...    ...  ...              ...   \n",
       "325       0     0            0         0      0    0                0   \n",
       "345       0     0            0         0      0    0                0   \n",
       "149       0     0            0         0      0    1                0   \n",
       "22        1     1            1         0      0    0                0   \n",
       "535       0     0            0         0      0    0                0   \n",
       "\n",
       "     night table  table lamp  Tv screen  ...  oven  range hood  chair  \\\n",
       "559            0           0          0  ...     0           0      1   \n",
       "192            0           1          0  ...     0           0      0   \n",
       "359            0           0          0  ...     0           0      0   \n",
       "9              0           0          0  ...     0           0      0   \n",
       "277            0           0          4  ...     0           0      0   \n",
       "..           ...         ...        ...  ...   ...         ...    ...   \n",
       "325            0           0          0  ...     0           0      0   \n",
       "345            0           0          0  ...     0           0      0   \n",
       "149            0           0          0  ...     0           0      0   \n",
       "22             0           0          0  ...     0           0      0   \n",
       "535            0           0          0  ...     0           0      1   \n",
       "\n",
       "     printer  computer  Monitor  Desk  keyboard           Class  \\\n",
       "559        1         0        2     0         0          office   \n",
       "192        0         0        0     0         0         bedroom   \n",
       "359        0         0        0     0         0     dining room   \n",
       "9          0         0        0     0         0        bathroom   \n",
       "277        0         0        0     0         0  bowling_lounge   \n",
       "..       ...       ...      ...   ...       ...             ...   \n",
       "325        0         0        0     0         0     dining room   \n",
       "345        0         0        0     0         0     dining room   \n",
       "149        0         0        0     0         0         bedroom   \n",
       "22         0         0        0     0         0        bathroom   \n",
       "535        1         0        1     0         0          office   \n",
       "\n",
       "                image  \n",
       "559       office5.jpg  \n",
       "192      IMG_2430.jpg  \n",
       "359      dining10.jpg  \n",
       "9              b3.jpg  \n",
       "277  bowling_0094.jpg  \n",
       "..                ...  \n",
       "325     dining013.jpg  \n",
       "345     dining035.jpg  \n",
       "149        bed170.jpg  \n",
       "22         bath26.jpg  \n",
       "535            o1.jpg  \n",
       "\n",
       "[3500 rows x 27 columns]"
      ]
     },
     "execution_count": 36,
     "metadata": {},
     "output_type": "execute_result"
    }
   ],
   "source": [
    "upsampled_df = resample(data_class, replace=True, n_samples=3500, random_state=0)\n",
    "upsampled_df"
   ]
  },
  {
   "cell_type": "code",
   "execution_count": 37,
   "metadata": {
    "colab": {},
    "colab_type": "code",
    "id": "NYSnPAAgXfpm"
   },
   "outputs": [],
   "source": [
    "upsampled_df=upsampled_df.reset_index(drop=True)"
   ]
  },
  {
   "cell_type": "markdown",
   "metadata": {
    "colab_type": "text",
    "id": "P6IfLO2-ZYsU"
   },
   "source": [
    "### Upsampling **Dataset_2**"
   ]
  },
  {
   "cell_type": "code",
   "execution_count": 38,
   "metadata": {
    "colab": {
     "base_uri": "https://localhost:8080/",
     "height": 455
    },
    "colab_type": "code",
    "executionInfo": {
     "elapsed": 2101,
     "status": "ok",
     "timestamp": 1594929846857,
     "user": {
      "displayName": "technical tasks",
      "photoUrl": "",
      "userId": "05927116453551536656"
     },
     "user_tz": 240
    },
    "id": "RBE_o4l63uKz",
    "outputId": "d09a4b53-717d-4493-b0ea-9f22f72473d4"
   },
   "outputs": [
    {
     "data": {
      "text/html": [
       "<div>\n",
       "<style scoped>\n",
       "    .dataframe tbody tr th:only-of-type {\n",
       "        vertical-align: middle;\n",
       "    }\n",
       "\n",
       "    .dataframe tbody tr th {\n",
       "        vertical-align: top;\n",
       "    }\n",
       "\n",
       "    .dataframe thead th {\n",
       "        text-align: right;\n",
       "    }\n",
       "</style>\n",
       "<table border=\"1\" class=\"dataframe\">\n",
       "  <thead>\n",
       "    <tr style=\"text-align: right;\">\n",
       "      <th></th>\n",
       "      <th>mirror</th>\n",
       "      <th>sink</th>\n",
       "      <th>toilet seat</th>\n",
       "      <th>bath tub</th>\n",
       "      <th>towel</th>\n",
       "      <th>bed</th>\n",
       "      <th>dresser cabinet</th>\n",
       "      <th>night table</th>\n",
       "      <th>table lamp</th>\n",
       "      <th>Tv screen</th>\n",
       "      <th>...</th>\n",
       "      <th>val_91</th>\n",
       "      <th>val_92</th>\n",
       "      <th>val_93</th>\n",
       "      <th>val_94</th>\n",
       "      <th>val_95</th>\n",
       "      <th>val_96</th>\n",
       "      <th>val_97</th>\n",
       "      <th>val_98</th>\n",
       "      <th>val_99</th>\n",
       "      <th>Class</th>\n",
       "    </tr>\n",
       "  </thead>\n",
       "  <tbody>\n",
       "    <tr>\n",
       "      <th>559</th>\n",
       "      <td>0</td>\n",
       "      <td>0</td>\n",
       "      <td>0</td>\n",
       "      <td>0</td>\n",
       "      <td>0</td>\n",
       "      <td>0</td>\n",
       "      <td>0</td>\n",
       "      <td>0</td>\n",
       "      <td>0</td>\n",
       "      <td>0</td>\n",
       "      <td>...</td>\n",
       "      <td>163.145767</td>\n",
       "      <td>0.0</td>\n",
       "      <td>0.0</td>\n",
       "      <td>0.0</td>\n",
       "      <td>0.0</td>\n",
       "      <td>0.0</td>\n",
       "      <td>0.0</td>\n",
       "      <td>0.0</td>\n",
       "      <td>0.0</td>\n",
       "      <td>office</td>\n",
       "    </tr>\n",
       "    <tr>\n",
       "      <th>192</th>\n",
       "      <td>0</td>\n",
       "      <td>0</td>\n",
       "      <td>0</td>\n",
       "      <td>0</td>\n",
       "      <td>0</td>\n",
       "      <td>1</td>\n",
       "      <td>0</td>\n",
       "      <td>0</td>\n",
       "      <td>1</td>\n",
       "      <td>0</td>\n",
       "      <td>...</td>\n",
       "      <td>0.000000</td>\n",
       "      <td>0.0</td>\n",
       "      <td>0.0</td>\n",
       "      <td>0.0</td>\n",
       "      <td>0.0</td>\n",
       "      <td>0.0</td>\n",
       "      <td>0.0</td>\n",
       "      <td>0.0</td>\n",
       "      <td>0.0</td>\n",
       "      <td>bedroom</td>\n",
       "    </tr>\n",
       "    <tr>\n",
       "      <th>359</th>\n",
       "      <td>0</td>\n",
       "      <td>0</td>\n",
       "      <td>0</td>\n",
       "      <td>0</td>\n",
       "      <td>0</td>\n",
       "      <td>0</td>\n",
       "      <td>0</td>\n",
       "      <td>0</td>\n",
       "      <td>0</td>\n",
       "      <td>0</td>\n",
       "      <td>...</td>\n",
       "      <td>0.000000</td>\n",
       "      <td>0.0</td>\n",
       "      <td>0.0</td>\n",
       "      <td>0.0</td>\n",
       "      <td>0.0</td>\n",
       "      <td>0.0</td>\n",
       "      <td>0.0</td>\n",
       "      <td>0.0</td>\n",
       "      <td>0.0</td>\n",
       "      <td>dining room</td>\n",
       "    </tr>\n",
       "    <tr>\n",
       "      <th>9</th>\n",
       "      <td>0</td>\n",
       "      <td>1</td>\n",
       "      <td>1</td>\n",
       "      <td>1</td>\n",
       "      <td>1</td>\n",
       "      <td>0</td>\n",
       "      <td>0</td>\n",
       "      <td>0</td>\n",
       "      <td>0</td>\n",
       "      <td>0</td>\n",
       "      <td>...</td>\n",
       "      <td>0.000000</td>\n",
       "      <td>0.0</td>\n",
       "      <td>0.0</td>\n",
       "      <td>0.0</td>\n",
       "      <td>0.0</td>\n",
       "      <td>0.0</td>\n",
       "      <td>0.0</td>\n",
       "      <td>0.0</td>\n",
       "      <td>0.0</td>\n",
       "      <td>bathroom</td>\n",
       "    </tr>\n",
       "    <tr>\n",
       "      <th>277</th>\n",
       "      <td>0</td>\n",
       "      <td>0</td>\n",
       "      <td>0</td>\n",
       "      <td>0</td>\n",
       "      <td>0</td>\n",
       "      <td>0</td>\n",
       "      <td>0</td>\n",
       "      <td>0</td>\n",
       "      <td>0</td>\n",
       "      <td>4</td>\n",
       "      <td>...</td>\n",
       "      <td>0.000000</td>\n",
       "      <td>0.0</td>\n",
       "      <td>0.0</td>\n",
       "      <td>0.0</td>\n",
       "      <td>0.0</td>\n",
       "      <td>0.0</td>\n",
       "      <td>0.0</td>\n",
       "      <td>0.0</td>\n",
       "      <td>0.0</td>\n",
       "      <td>bowling_lounge</td>\n",
       "    </tr>\n",
       "    <tr>\n",
       "      <th>...</th>\n",
       "      <td>...</td>\n",
       "      <td>...</td>\n",
       "      <td>...</td>\n",
       "      <td>...</td>\n",
       "      <td>...</td>\n",
       "      <td>...</td>\n",
       "      <td>...</td>\n",
       "      <td>...</td>\n",
       "      <td>...</td>\n",
       "      <td>...</td>\n",
       "      <td>...</td>\n",
       "      <td>...</td>\n",
       "      <td>...</td>\n",
       "      <td>...</td>\n",
       "      <td>...</td>\n",
       "      <td>...</td>\n",
       "      <td>...</td>\n",
       "      <td>...</td>\n",
       "      <td>...</td>\n",
       "      <td>...</td>\n",
       "      <td>...</td>\n",
       "    </tr>\n",
       "    <tr>\n",
       "      <th>325</th>\n",
       "      <td>0</td>\n",
       "      <td>0</td>\n",
       "      <td>0</td>\n",
       "      <td>0</td>\n",
       "      <td>0</td>\n",
       "      <td>0</td>\n",
       "      <td>0</td>\n",
       "      <td>0</td>\n",
       "      <td>0</td>\n",
       "      <td>0</td>\n",
       "      <td>...</td>\n",
       "      <td>0.000000</td>\n",
       "      <td>0.0</td>\n",
       "      <td>0.0</td>\n",
       "      <td>0.0</td>\n",
       "      <td>0.0</td>\n",
       "      <td>0.0</td>\n",
       "      <td>0.0</td>\n",
       "      <td>0.0</td>\n",
       "      <td>0.0</td>\n",
       "      <td>dining room</td>\n",
       "    </tr>\n",
       "    <tr>\n",
       "      <th>345</th>\n",
       "      <td>0</td>\n",
       "      <td>0</td>\n",
       "      <td>0</td>\n",
       "      <td>0</td>\n",
       "      <td>0</td>\n",
       "      <td>0</td>\n",
       "      <td>0</td>\n",
       "      <td>0</td>\n",
       "      <td>0</td>\n",
       "      <td>0</td>\n",
       "      <td>...</td>\n",
       "      <td>0.000000</td>\n",
       "      <td>0.0</td>\n",
       "      <td>0.0</td>\n",
       "      <td>0.0</td>\n",
       "      <td>0.0</td>\n",
       "      <td>0.0</td>\n",
       "      <td>0.0</td>\n",
       "      <td>0.0</td>\n",
       "      <td>0.0</td>\n",
       "      <td>dining room</td>\n",
       "    </tr>\n",
       "    <tr>\n",
       "      <th>149</th>\n",
       "      <td>0</td>\n",
       "      <td>0</td>\n",
       "      <td>0</td>\n",
       "      <td>0</td>\n",
       "      <td>0</td>\n",
       "      <td>1</td>\n",
       "      <td>0</td>\n",
       "      <td>0</td>\n",
       "      <td>0</td>\n",
       "      <td>0</td>\n",
       "      <td>...</td>\n",
       "      <td>0.000000</td>\n",
       "      <td>0.0</td>\n",
       "      <td>0.0</td>\n",
       "      <td>0.0</td>\n",
       "      <td>0.0</td>\n",
       "      <td>0.0</td>\n",
       "      <td>0.0</td>\n",
       "      <td>0.0</td>\n",
       "      <td>0.0</td>\n",
       "      <td>bedroom</td>\n",
       "    </tr>\n",
       "    <tr>\n",
       "      <th>22</th>\n",
       "      <td>1</td>\n",
       "      <td>1</td>\n",
       "      <td>1</td>\n",
       "      <td>0</td>\n",
       "      <td>0</td>\n",
       "      <td>0</td>\n",
       "      <td>0</td>\n",
       "      <td>0</td>\n",
       "      <td>0</td>\n",
       "      <td>0</td>\n",
       "      <td>...</td>\n",
       "      <td>0.000000</td>\n",
       "      <td>0.0</td>\n",
       "      <td>0.0</td>\n",
       "      <td>0.0</td>\n",
       "      <td>0.0</td>\n",
       "      <td>0.0</td>\n",
       "      <td>0.0</td>\n",
       "      <td>0.0</td>\n",
       "      <td>0.0</td>\n",
       "      <td>bathroom</td>\n",
       "    </tr>\n",
       "    <tr>\n",
       "      <th>535</th>\n",
       "      <td>0</td>\n",
       "      <td>0</td>\n",
       "      <td>0</td>\n",
       "      <td>0</td>\n",
       "      <td>0</td>\n",
       "      <td>0</td>\n",
       "      <td>0</td>\n",
       "      <td>0</td>\n",
       "      <td>0</td>\n",
       "      <td>0</td>\n",
       "      <td>...</td>\n",
       "      <td>140.004524</td>\n",
       "      <td>0.0</td>\n",
       "      <td>0.0</td>\n",
       "      <td>0.0</td>\n",
       "      <td>0.0</td>\n",
       "      <td>0.0</td>\n",
       "      <td>0.0</td>\n",
       "      <td>0.0</td>\n",
       "      <td>0.0</td>\n",
       "      <td>office</td>\n",
       "    </tr>\n",
       "  </tbody>\n",
       "</table>\n",
       "<p>3500 rows × 126 columns</p>\n",
       "</div>"
      ],
      "text/plain": [
       "     mirror  sink  toilet seat  bath tub  towel  bed  dresser cabinet  \\\n",
       "559       0     0            0         0      0    0                0   \n",
       "192       0     0            0         0      0    1                0   \n",
       "359       0     0            0         0      0    0                0   \n",
       "9         0     1            1         1      1    0                0   \n",
       "277       0     0            0         0      0    0                0   \n",
       "..      ...   ...          ...       ...    ...  ...              ...   \n",
       "325       0     0            0         0      0    0                0   \n",
       "345       0     0            0         0      0    0                0   \n",
       "149       0     0            0         0      0    1                0   \n",
       "22        1     1            1         0      0    0                0   \n",
       "535       0     0            0         0      0    0                0   \n",
       "\n",
       "     night table  table lamp  Tv screen  ...      val_91  val_92  val_93  \\\n",
       "559            0           0          0  ...  163.145767     0.0     0.0   \n",
       "192            0           1          0  ...    0.000000     0.0     0.0   \n",
       "359            0           0          0  ...    0.000000     0.0     0.0   \n",
       "9              0           0          0  ...    0.000000     0.0     0.0   \n",
       "277            0           0          4  ...    0.000000     0.0     0.0   \n",
       "..           ...         ...        ...  ...         ...     ...     ...   \n",
       "325            0           0          0  ...    0.000000     0.0     0.0   \n",
       "345            0           0          0  ...    0.000000     0.0     0.0   \n",
       "149            0           0          0  ...    0.000000     0.0     0.0   \n",
       "22             0           0          0  ...    0.000000     0.0     0.0   \n",
       "535            0           0          0  ...  140.004524     0.0     0.0   \n",
       "\n",
       "     val_94  val_95  val_96  val_97  val_98  val_99           Class  \n",
       "559     0.0     0.0     0.0     0.0     0.0     0.0          office  \n",
       "192     0.0     0.0     0.0     0.0     0.0     0.0         bedroom  \n",
       "359     0.0     0.0     0.0     0.0     0.0     0.0     dining room  \n",
       "9       0.0     0.0     0.0     0.0     0.0     0.0        bathroom  \n",
       "277     0.0     0.0     0.0     0.0     0.0     0.0  bowling_lounge  \n",
       "..      ...     ...     ...     ...     ...     ...             ...  \n",
       "325     0.0     0.0     0.0     0.0     0.0     0.0     dining room  \n",
       "345     0.0     0.0     0.0     0.0     0.0     0.0     dining room  \n",
       "149     0.0     0.0     0.0     0.0     0.0     0.0         bedroom  \n",
       "22      0.0     0.0     0.0     0.0     0.0     0.0        bathroom  \n",
       "535     0.0     0.0     0.0     0.0     0.0     0.0          office  \n",
       "\n",
       "[3500 rows x 126 columns]"
      ]
     },
     "execution_count": 38,
     "metadata": {},
     "output_type": "execute_result"
    }
   ],
   "source": [
    "upsampled_df_both = resample(data_both, replace=True, n_samples=3500, random_state=0)\n",
    "upsampled_df_both"
   ]
  },
  {
   "cell_type": "code",
   "execution_count": 39,
   "metadata": {
    "colab": {},
    "colab_type": "code",
    "id": "ScnuxphQ3vRX"
   },
   "outputs": [],
   "source": [
    "upsampled_df_both=upsampled_df_both.reset_index(drop=True)"
   ]
  },
  {
   "cell_type": "markdown",
   "metadata": {
    "colab_type": "text",
    "id": "MCNzVCGmXfpp"
   },
   "source": [
    "## Splitting input and output columns"
   ]
  },
  {
   "cell_type": "markdown",
   "metadata": {
    "colab_type": "text",
    "id": "ng5-Mj-t0VeR"
   },
   "source": [
    "### Splitting input and output columns for **Dataset_1**"
   ]
  },
  {
   "cell_type": "markdown",
   "metadata": {
    "colab_type": "text",
    "id": "S5UfYcYNZynO"
   },
   "source": [
    "**Input**"
   ]
  },
  {
   "cell_type": "code",
   "execution_count": 40,
   "metadata": {
    "colab": {
     "base_uri": "https://localhost:8080/",
     "height": 455
    },
    "colab_type": "code",
    "executionInfo": {
     "elapsed": 1289,
     "status": "ok",
     "timestamp": 1594929851198,
     "user": {
      "displayName": "technical tasks",
      "photoUrl": "",
      "userId": "05927116453551536656"
     },
     "user_tz": 240
    },
    "id": "CtKA5OxaXfpq",
    "outputId": "b0dee4ea-6ce9-4eb6-fdc2-23a26bcbc201"
   },
   "outputs": [
    {
     "data": {
      "text/html": [
       "<div>\n",
       "<style scoped>\n",
       "    .dataframe tbody tr th:only-of-type {\n",
       "        vertical-align: middle;\n",
       "    }\n",
       "\n",
       "    .dataframe tbody tr th {\n",
       "        vertical-align: top;\n",
       "    }\n",
       "\n",
       "    .dataframe thead th {\n",
       "        text-align: right;\n",
       "    }\n",
       "</style>\n",
       "<table border=\"1\" class=\"dataframe\">\n",
       "  <thead>\n",
       "    <tr style=\"text-align: right;\">\n",
       "      <th></th>\n",
       "      <th>mirror</th>\n",
       "      <th>sink</th>\n",
       "      <th>toilet seat</th>\n",
       "      <th>bath tub</th>\n",
       "      <th>towel</th>\n",
       "      <th>bed</th>\n",
       "      <th>dresser cabinet</th>\n",
       "      <th>night table</th>\n",
       "      <th>table lamp</th>\n",
       "      <th>Tv screen</th>\n",
       "      <th>...</th>\n",
       "      <th>vase</th>\n",
       "      <th>refrigerator</th>\n",
       "      <th>oven</th>\n",
       "      <th>range hood</th>\n",
       "      <th>chair</th>\n",
       "      <th>printer</th>\n",
       "      <th>computer</th>\n",
       "      <th>Monitor</th>\n",
       "      <th>Desk</th>\n",
       "      <th>keyboard</th>\n",
       "    </tr>\n",
       "  </thead>\n",
       "  <tbody>\n",
       "    <tr>\n",
       "      <th>0</th>\n",
       "      <td>0</td>\n",
       "      <td>0</td>\n",
       "      <td>0</td>\n",
       "      <td>0</td>\n",
       "      <td>0</td>\n",
       "      <td>0</td>\n",
       "      <td>0</td>\n",
       "      <td>0</td>\n",
       "      <td>0</td>\n",
       "      <td>0</td>\n",
       "      <td>...</td>\n",
       "      <td>0</td>\n",
       "      <td>0</td>\n",
       "      <td>0</td>\n",
       "      <td>0</td>\n",
       "      <td>1</td>\n",
       "      <td>1</td>\n",
       "      <td>0</td>\n",
       "      <td>2</td>\n",
       "      <td>0</td>\n",
       "      <td>0</td>\n",
       "    </tr>\n",
       "    <tr>\n",
       "      <th>1</th>\n",
       "      <td>0</td>\n",
       "      <td>0</td>\n",
       "      <td>0</td>\n",
       "      <td>0</td>\n",
       "      <td>0</td>\n",
       "      <td>1</td>\n",
       "      <td>0</td>\n",
       "      <td>0</td>\n",
       "      <td>1</td>\n",
       "      <td>0</td>\n",
       "      <td>...</td>\n",
       "      <td>0</td>\n",
       "      <td>0</td>\n",
       "      <td>0</td>\n",
       "      <td>0</td>\n",
       "      <td>0</td>\n",
       "      <td>0</td>\n",
       "      <td>0</td>\n",
       "      <td>0</td>\n",
       "      <td>0</td>\n",
       "      <td>0</td>\n",
       "    </tr>\n",
       "    <tr>\n",
       "      <th>2</th>\n",
       "      <td>0</td>\n",
       "      <td>0</td>\n",
       "      <td>0</td>\n",
       "      <td>0</td>\n",
       "      <td>0</td>\n",
       "      <td>0</td>\n",
       "      <td>0</td>\n",
       "      <td>0</td>\n",
       "      <td>0</td>\n",
       "      <td>0</td>\n",
       "      <td>...</td>\n",
       "      <td>1</td>\n",
       "      <td>0</td>\n",
       "      <td>0</td>\n",
       "      <td>0</td>\n",
       "      <td>0</td>\n",
       "      <td>0</td>\n",
       "      <td>0</td>\n",
       "      <td>0</td>\n",
       "      <td>0</td>\n",
       "      <td>0</td>\n",
       "    </tr>\n",
       "    <tr>\n",
       "      <th>3</th>\n",
       "      <td>0</td>\n",
       "      <td>1</td>\n",
       "      <td>1</td>\n",
       "      <td>1</td>\n",
       "      <td>1</td>\n",
       "      <td>0</td>\n",
       "      <td>0</td>\n",
       "      <td>0</td>\n",
       "      <td>0</td>\n",
       "      <td>0</td>\n",
       "      <td>...</td>\n",
       "      <td>0</td>\n",
       "      <td>0</td>\n",
       "      <td>0</td>\n",
       "      <td>0</td>\n",
       "      <td>0</td>\n",
       "      <td>0</td>\n",
       "      <td>0</td>\n",
       "      <td>0</td>\n",
       "      <td>0</td>\n",
       "      <td>0</td>\n",
       "    </tr>\n",
       "    <tr>\n",
       "      <th>4</th>\n",
       "      <td>0</td>\n",
       "      <td>0</td>\n",
       "      <td>0</td>\n",
       "      <td>0</td>\n",
       "      <td>0</td>\n",
       "      <td>0</td>\n",
       "      <td>0</td>\n",
       "      <td>0</td>\n",
       "      <td>0</td>\n",
       "      <td>4</td>\n",
       "      <td>...</td>\n",
       "      <td>0</td>\n",
       "      <td>0</td>\n",
       "      <td>0</td>\n",
       "      <td>0</td>\n",
       "      <td>0</td>\n",
       "      <td>0</td>\n",
       "      <td>0</td>\n",
       "      <td>0</td>\n",
       "      <td>0</td>\n",
       "      <td>0</td>\n",
       "    </tr>\n",
       "    <tr>\n",
       "      <th>...</th>\n",
       "      <td>...</td>\n",
       "      <td>...</td>\n",
       "      <td>...</td>\n",
       "      <td>...</td>\n",
       "      <td>...</td>\n",
       "      <td>...</td>\n",
       "      <td>...</td>\n",
       "      <td>...</td>\n",
       "      <td>...</td>\n",
       "      <td>...</td>\n",
       "      <td>...</td>\n",
       "      <td>...</td>\n",
       "      <td>...</td>\n",
       "      <td>...</td>\n",
       "      <td>...</td>\n",
       "      <td>...</td>\n",
       "      <td>...</td>\n",
       "      <td>...</td>\n",
       "      <td>...</td>\n",
       "      <td>...</td>\n",
       "      <td>...</td>\n",
       "    </tr>\n",
       "    <tr>\n",
       "      <th>3495</th>\n",
       "      <td>0</td>\n",
       "      <td>0</td>\n",
       "      <td>0</td>\n",
       "      <td>0</td>\n",
       "      <td>0</td>\n",
       "      <td>0</td>\n",
       "      <td>0</td>\n",
       "      <td>0</td>\n",
       "      <td>0</td>\n",
       "      <td>0</td>\n",
       "      <td>...</td>\n",
       "      <td>1</td>\n",
       "      <td>0</td>\n",
       "      <td>0</td>\n",
       "      <td>0</td>\n",
       "      <td>0</td>\n",
       "      <td>0</td>\n",
       "      <td>0</td>\n",
       "      <td>0</td>\n",
       "      <td>0</td>\n",
       "      <td>0</td>\n",
       "    </tr>\n",
       "    <tr>\n",
       "      <th>3496</th>\n",
       "      <td>0</td>\n",
       "      <td>0</td>\n",
       "      <td>0</td>\n",
       "      <td>0</td>\n",
       "      <td>0</td>\n",
       "      <td>0</td>\n",
       "      <td>0</td>\n",
       "      <td>0</td>\n",
       "      <td>0</td>\n",
       "      <td>0</td>\n",
       "      <td>...</td>\n",
       "      <td>0</td>\n",
       "      <td>0</td>\n",
       "      <td>0</td>\n",
       "      <td>0</td>\n",
       "      <td>0</td>\n",
       "      <td>0</td>\n",
       "      <td>0</td>\n",
       "      <td>0</td>\n",
       "      <td>0</td>\n",
       "      <td>0</td>\n",
       "    </tr>\n",
       "    <tr>\n",
       "      <th>3497</th>\n",
       "      <td>0</td>\n",
       "      <td>0</td>\n",
       "      <td>0</td>\n",
       "      <td>0</td>\n",
       "      <td>0</td>\n",
       "      <td>1</td>\n",
       "      <td>0</td>\n",
       "      <td>0</td>\n",
       "      <td>0</td>\n",
       "      <td>0</td>\n",
       "      <td>...</td>\n",
       "      <td>0</td>\n",
       "      <td>0</td>\n",
       "      <td>0</td>\n",
       "      <td>0</td>\n",
       "      <td>0</td>\n",
       "      <td>0</td>\n",
       "      <td>0</td>\n",
       "      <td>0</td>\n",
       "      <td>0</td>\n",
       "      <td>0</td>\n",
       "    </tr>\n",
       "    <tr>\n",
       "      <th>3498</th>\n",
       "      <td>1</td>\n",
       "      <td>1</td>\n",
       "      <td>1</td>\n",
       "      <td>0</td>\n",
       "      <td>0</td>\n",
       "      <td>0</td>\n",
       "      <td>0</td>\n",
       "      <td>0</td>\n",
       "      <td>0</td>\n",
       "      <td>0</td>\n",
       "      <td>...</td>\n",
       "      <td>0</td>\n",
       "      <td>0</td>\n",
       "      <td>0</td>\n",
       "      <td>0</td>\n",
       "      <td>0</td>\n",
       "      <td>0</td>\n",
       "      <td>0</td>\n",
       "      <td>0</td>\n",
       "      <td>0</td>\n",
       "      <td>0</td>\n",
       "    </tr>\n",
       "    <tr>\n",
       "      <th>3499</th>\n",
       "      <td>0</td>\n",
       "      <td>0</td>\n",
       "      <td>0</td>\n",
       "      <td>0</td>\n",
       "      <td>0</td>\n",
       "      <td>0</td>\n",
       "      <td>0</td>\n",
       "      <td>0</td>\n",
       "      <td>0</td>\n",
       "      <td>0</td>\n",
       "      <td>...</td>\n",
       "      <td>0</td>\n",
       "      <td>0</td>\n",
       "      <td>0</td>\n",
       "      <td>0</td>\n",
       "      <td>1</td>\n",
       "      <td>1</td>\n",
       "      <td>0</td>\n",
       "      <td>1</td>\n",
       "      <td>0</td>\n",
       "      <td>0</td>\n",
       "    </tr>\n",
       "  </tbody>\n",
       "</table>\n",
       "<p>3500 rows × 25 columns</p>\n",
       "</div>"
      ],
      "text/plain": [
       "      mirror  sink  toilet seat  bath tub  towel  bed  dresser cabinet  \\\n",
       "0          0     0            0         0      0    0                0   \n",
       "1          0     0            0         0      0    1                0   \n",
       "2          0     0            0         0      0    0                0   \n",
       "3          0     1            1         1      1    0                0   \n",
       "4          0     0            0         0      0    0                0   \n",
       "...      ...   ...          ...       ...    ...  ...              ...   \n",
       "3495       0     0            0         0      0    0                0   \n",
       "3496       0     0            0         0      0    0                0   \n",
       "3497       0     0            0         0      0    1                0   \n",
       "3498       1     1            1         0      0    0                0   \n",
       "3499       0     0            0         0      0    0                0   \n",
       "\n",
       "      night table  table lamp  Tv screen  ...  vase  refrigerator  oven  \\\n",
       "0               0           0          0  ...     0             0     0   \n",
       "1               0           1          0  ...     0             0     0   \n",
       "2               0           0          0  ...     1             0     0   \n",
       "3               0           0          0  ...     0             0     0   \n",
       "4               0           0          4  ...     0             0     0   \n",
       "...           ...         ...        ...  ...   ...           ...   ...   \n",
       "3495            0           0          0  ...     1             0     0   \n",
       "3496            0           0          0  ...     0             0     0   \n",
       "3497            0           0          0  ...     0             0     0   \n",
       "3498            0           0          0  ...     0             0     0   \n",
       "3499            0           0          0  ...     0             0     0   \n",
       "\n",
       "      range hood  chair  printer  computer  Monitor  Desk  keyboard  \n",
       "0              0      1        1         0        2     0         0  \n",
       "1              0      0        0         0        0     0         0  \n",
       "2              0      0        0         0        0     0         0  \n",
       "3              0      0        0         0        0     0         0  \n",
       "4              0      0        0         0        0     0         0  \n",
       "...          ...    ...      ...       ...      ...   ...       ...  \n",
       "3495           0      0        0         0        0     0         0  \n",
       "3496           0      0        0         0        0     0         0  \n",
       "3497           0      0        0         0        0     0         0  \n",
       "3498           0      0        0         0        0     0         0  \n",
       "3499           0      1        1         0        1     0         0  \n",
       "\n",
       "[3500 rows x 25 columns]"
      ]
     },
     "execution_count": 40,
     "metadata": {},
     "output_type": "execute_result"
    }
   ],
   "source": [
    "ips_1=IPS_1=upsampled_df.iloc[:,0:25]\n",
    "ips_1"
   ]
  },
  {
   "cell_type": "markdown",
   "metadata": {
    "colab_type": "text",
    "id": "JuEIzi8qZ3ED"
   },
   "source": [
    "**Output**"
   ]
  },
  {
   "cell_type": "code",
   "execution_count": 41,
   "metadata": {
    "colab": {
     "base_uri": "https://localhost:8080/",
     "height": 402
    },
    "colab_type": "code",
    "executionInfo": {
     "elapsed": 1302,
     "status": "ok",
     "timestamp": 1594929854470,
     "user": {
      "displayName": "technical tasks",
      "photoUrl": "",
      "userId": "05927116453551536656"
     },
     "user_tz": 240
    },
    "id": "StLzq5OeXfpt",
    "outputId": "215873b5-052a-42a2-c3a2-d862d7262f29"
   },
   "outputs": [
    {
     "data": {
      "text/html": [
       "<div>\n",
       "<style scoped>\n",
       "    .dataframe tbody tr th:only-of-type {\n",
       "        vertical-align: middle;\n",
       "    }\n",
       "\n",
       "    .dataframe tbody tr th {\n",
       "        vertical-align: top;\n",
       "    }\n",
       "\n",
       "    .dataframe thead th {\n",
       "        text-align: right;\n",
       "    }\n",
       "</style>\n",
       "<table border=\"1\" class=\"dataframe\">\n",
       "  <thead>\n",
       "    <tr style=\"text-align: right;\">\n",
       "      <th></th>\n",
       "      <th>Class</th>\n",
       "    </tr>\n",
       "  </thead>\n",
       "  <tbody>\n",
       "    <tr>\n",
       "      <th>0</th>\n",
       "      <td>office</td>\n",
       "    </tr>\n",
       "    <tr>\n",
       "      <th>1</th>\n",
       "      <td>bedroom</td>\n",
       "    </tr>\n",
       "    <tr>\n",
       "      <th>2</th>\n",
       "      <td>dining room</td>\n",
       "    </tr>\n",
       "    <tr>\n",
       "      <th>3</th>\n",
       "      <td>bathroom</td>\n",
       "    </tr>\n",
       "    <tr>\n",
       "      <th>4</th>\n",
       "      <td>bowling_lounge</td>\n",
       "    </tr>\n",
       "    <tr>\n",
       "      <th>...</th>\n",
       "      <td>...</td>\n",
       "    </tr>\n",
       "    <tr>\n",
       "      <th>3495</th>\n",
       "      <td>dining room</td>\n",
       "    </tr>\n",
       "    <tr>\n",
       "      <th>3496</th>\n",
       "      <td>dining room</td>\n",
       "    </tr>\n",
       "    <tr>\n",
       "      <th>3497</th>\n",
       "      <td>bedroom</td>\n",
       "    </tr>\n",
       "    <tr>\n",
       "      <th>3498</th>\n",
       "      <td>bathroom</td>\n",
       "    </tr>\n",
       "    <tr>\n",
       "      <th>3499</th>\n",
       "      <td>office</td>\n",
       "    </tr>\n",
       "  </tbody>\n",
       "</table>\n",
       "<p>3500 rows × 1 columns</p>\n",
       "</div>"
      ],
      "text/plain": [
       "               Class\n",
       "0             office\n",
       "1            bedroom\n",
       "2        dining room\n",
       "3           bathroom\n",
       "4     bowling_lounge\n",
       "...              ...\n",
       "3495     dining room\n",
       "3496     dining room\n",
       "3497         bedroom\n",
       "3498        bathroom\n",
       "3499          office\n",
       "\n",
       "[3500 rows x 1 columns]"
      ]
     },
     "execution_count": 41,
     "metadata": {},
     "output_type": "execute_result"
    }
   ],
   "source": [
    "ops_1=OPS_1=upsampled_df.iloc[:,25:26]\n",
    "ops_1"
   ]
  },
  {
   "cell_type": "markdown",
   "metadata": {
    "colab_type": "text",
    "id": "WqGlfiFA0fg1"
   },
   "source": [
    "###  Splitting input and output columns for **Dataset_2**"
   ]
  },
  {
   "cell_type": "markdown",
   "metadata": {
    "colab_type": "text",
    "id": "qEVmbU86aBz6"
   },
   "source": [
    "**Input**"
   ]
  },
  {
   "cell_type": "code",
   "execution_count": 42,
   "metadata": {
    "colab": {
     "base_uri": "https://localhost:8080/",
     "height": 455
    },
    "colab_type": "code",
    "executionInfo": {
     "elapsed": 1229,
     "status": "ok",
     "timestamp": 1594929857857,
     "user": {
      "displayName": "technical tasks",
      "photoUrl": "",
      "userId": "05927116453551536656"
     },
     "user_tz": 240
    },
    "id": "rfAxfSreXfpw",
    "outputId": "cb6c4e4b-e3cf-4b24-d71a-1112b97756a0"
   },
   "outputs": [
    {
     "data": {
      "text/html": [
       "<div>\n",
       "<style scoped>\n",
       "    .dataframe tbody tr th:only-of-type {\n",
       "        vertical-align: middle;\n",
       "    }\n",
       "\n",
       "    .dataframe tbody tr th {\n",
       "        vertical-align: top;\n",
       "    }\n",
       "\n",
       "    .dataframe thead th {\n",
       "        text-align: right;\n",
       "    }\n",
       "</style>\n",
       "<table border=\"1\" class=\"dataframe\">\n",
       "  <thead>\n",
       "    <tr style=\"text-align: right;\">\n",
       "      <th></th>\n",
       "      <th>mirror</th>\n",
       "      <th>sink</th>\n",
       "      <th>toilet seat</th>\n",
       "      <th>bath tub</th>\n",
       "      <th>towel</th>\n",
       "      <th>bed</th>\n",
       "      <th>dresser cabinet</th>\n",
       "      <th>night table</th>\n",
       "      <th>table lamp</th>\n",
       "      <th>Tv screen</th>\n",
       "      <th>...</th>\n",
       "      <th>val_90</th>\n",
       "      <th>val_91</th>\n",
       "      <th>val_92</th>\n",
       "      <th>val_93</th>\n",
       "      <th>val_94</th>\n",
       "      <th>val_95</th>\n",
       "      <th>val_96</th>\n",
       "      <th>val_97</th>\n",
       "      <th>val_98</th>\n",
       "      <th>val_99</th>\n",
       "    </tr>\n",
       "  </thead>\n",
       "  <tbody>\n",
       "    <tr>\n",
       "      <th>0</th>\n",
       "      <td>0</td>\n",
       "      <td>0</td>\n",
       "      <td>0</td>\n",
       "      <td>0</td>\n",
       "      <td>0</td>\n",
       "      <td>0</td>\n",
       "      <td>0</td>\n",
       "      <td>0</td>\n",
       "      <td>0</td>\n",
       "      <td>0</td>\n",
       "      <td>...</td>\n",
       "      <td>205.197740</td>\n",
       "      <td>163.145767</td>\n",
       "      <td>0.0</td>\n",
       "      <td>0.0</td>\n",
       "      <td>0.0</td>\n",
       "      <td>0.0</td>\n",
       "      <td>0.0</td>\n",
       "      <td>0.0</td>\n",
       "      <td>0.0</td>\n",
       "      <td>0.0</td>\n",
       "    </tr>\n",
       "    <tr>\n",
       "      <th>1</th>\n",
       "      <td>0</td>\n",
       "      <td>0</td>\n",
       "      <td>0</td>\n",
       "      <td>0</td>\n",
       "      <td>0</td>\n",
       "      <td>1</td>\n",
       "      <td>0</td>\n",
       "      <td>0</td>\n",
       "      <td>1</td>\n",
       "      <td>0</td>\n",
       "      <td>...</td>\n",
       "      <td>0.000000</td>\n",
       "      <td>0.000000</td>\n",
       "      <td>0.0</td>\n",
       "      <td>0.0</td>\n",
       "      <td>0.0</td>\n",
       "      <td>0.0</td>\n",
       "      <td>0.0</td>\n",
       "      <td>0.0</td>\n",
       "      <td>0.0</td>\n",
       "      <td>0.0</td>\n",
       "    </tr>\n",
       "    <tr>\n",
       "      <th>2</th>\n",
       "      <td>0</td>\n",
       "      <td>0</td>\n",
       "      <td>0</td>\n",
       "      <td>0</td>\n",
       "      <td>0</td>\n",
       "      <td>0</td>\n",
       "      <td>0</td>\n",
       "      <td>0</td>\n",
       "      <td>0</td>\n",
       "      <td>0</td>\n",
       "      <td>...</td>\n",
       "      <td>0.000000</td>\n",
       "      <td>0.000000</td>\n",
       "      <td>0.0</td>\n",
       "      <td>0.0</td>\n",
       "      <td>0.0</td>\n",
       "      <td>0.0</td>\n",
       "      <td>0.0</td>\n",
       "      <td>0.0</td>\n",
       "      <td>0.0</td>\n",
       "      <td>0.0</td>\n",
       "    </tr>\n",
       "    <tr>\n",
       "      <th>3</th>\n",
       "      <td>0</td>\n",
       "      <td>1</td>\n",
       "      <td>1</td>\n",
       "      <td>1</td>\n",
       "      <td>1</td>\n",
       "      <td>0</td>\n",
       "      <td>0</td>\n",
       "      <td>0</td>\n",
       "      <td>0</td>\n",
       "      <td>0</td>\n",
       "      <td>...</td>\n",
       "      <td>0.000000</td>\n",
       "      <td>0.000000</td>\n",
       "      <td>0.0</td>\n",
       "      <td>0.0</td>\n",
       "      <td>0.0</td>\n",
       "      <td>0.0</td>\n",
       "      <td>0.0</td>\n",
       "      <td>0.0</td>\n",
       "      <td>0.0</td>\n",
       "      <td>0.0</td>\n",
       "    </tr>\n",
       "    <tr>\n",
       "      <th>4</th>\n",
       "      <td>0</td>\n",
       "      <td>0</td>\n",
       "      <td>0</td>\n",
       "      <td>0</td>\n",
       "      <td>0</td>\n",
       "      <td>0</td>\n",
       "      <td>0</td>\n",
       "      <td>0</td>\n",
       "      <td>0</td>\n",
       "      <td>4</td>\n",
       "      <td>...</td>\n",
       "      <td>0.000000</td>\n",
       "      <td>0.000000</td>\n",
       "      <td>0.0</td>\n",
       "      <td>0.0</td>\n",
       "      <td>0.0</td>\n",
       "      <td>0.0</td>\n",
       "      <td>0.0</td>\n",
       "      <td>0.0</td>\n",
       "      <td>0.0</td>\n",
       "      <td>0.0</td>\n",
       "    </tr>\n",
       "    <tr>\n",
       "      <th>...</th>\n",
       "      <td>...</td>\n",
       "      <td>...</td>\n",
       "      <td>...</td>\n",
       "      <td>...</td>\n",
       "      <td>...</td>\n",
       "      <td>...</td>\n",
       "      <td>...</td>\n",
       "      <td>...</td>\n",
       "      <td>...</td>\n",
       "      <td>...</td>\n",
       "      <td>...</td>\n",
       "      <td>...</td>\n",
       "      <td>...</td>\n",
       "      <td>...</td>\n",
       "      <td>...</td>\n",
       "      <td>...</td>\n",
       "      <td>...</td>\n",
       "      <td>...</td>\n",
       "      <td>...</td>\n",
       "      <td>...</td>\n",
       "      <td>...</td>\n",
       "    </tr>\n",
       "    <tr>\n",
       "      <th>3495</th>\n",
       "      <td>0</td>\n",
       "      <td>0</td>\n",
       "      <td>0</td>\n",
       "      <td>0</td>\n",
       "      <td>0</td>\n",
       "      <td>0</td>\n",
       "      <td>0</td>\n",
       "      <td>0</td>\n",
       "      <td>0</td>\n",
       "      <td>0</td>\n",
       "      <td>...</td>\n",
       "      <td>0.000000</td>\n",
       "      <td>0.000000</td>\n",
       "      <td>0.0</td>\n",
       "      <td>0.0</td>\n",
       "      <td>0.0</td>\n",
       "      <td>0.0</td>\n",
       "      <td>0.0</td>\n",
       "      <td>0.0</td>\n",
       "      <td>0.0</td>\n",
       "      <td>0.0</td>\n",
       "    </tr>\n",
       "    <tr>\n",
       "      <th>3496</th>\n",
       "      <td>0</td>\n",
       "      <td>0</td>\n",
       "      <td>0</td>\n",
       "      <td>0</td>\n",
       "      <td>0</td>\n",
       "      <td>0</td>\n",
       "      <td>0</td>\n",
       "      <td>0</td>\n",
       "      <td>0</td>\n",
       "      <td>0</td>\n",
       "      <td>...</td>\n",
       "      <td>0.000000</td>\n",
       "      <td>0.000000</td>\n",
       "      <td>0.0</td>\n",
       "      <td>0.0</td>\n",
       "      <td>0.0</td>\n",
       "      <td>0.0</td>\n",
       "      <td>0.0</td>\n",
       "      <td>0.0</td>\n",
       "      <td>0.0</td>\n",
       "      <td>0.0</td>\n",
       "    </tr>\n",
       "    <tr>\n",
       "      <th>3497</th>\n",
       "      <td>0</td>\n",
       "      <td>0</td>\n",
       "      <td>0</td>\n",
       "      <td>0</td>\n",
       "      <td>0</td>\n",
       "      <td>1</td>\n",
       "      <td>0</td>\n",
       "      <td>0</td>\n",
       "      <td>0</td>\n",
       "      <td>0</td>\n",
       "      <td>...</td>\n",
       "      <td>0.000000</td>\n",
       "      <td>0.000000</td>\n",
       "      <td>0.0</td>\n",
       "      <td>0.0</td>\n",
       "      <td>0.0</td>\n",
       "      <td>0.0</td>\n",
       "      <td>0.0</td>\n",
       "      <td>0.0</td>\n",
       "      <td>0.0</td>\n",
       "      <td>0.0</td>\n",
       "    </tr>\n",
       "    <tr>\n",
       "      <th>3498</th>\n",
       "      <td>1</td>\n",
       "      <td>1</td>\n",
       "      <td>1</td>\n",
       "      <td>0</td>\n",
       "      <td>0</td>\n",
       "      <td>0</td>\n",
       "      <td>0</td>\n",
       "      <td>0</td>\n",
       "      <td>0</td>\n",
       "      <td>0</td>\n",
       "      <td>...</td>\n",
       "      <td>0.000000</td>\n",
       "      <td>0.000000</td>\n",
       "      <td>0.0</td>\n",
       "      <td>0.0</td>\n",
       "      <td>0.0</td>\n",
       "      <td>0.0</td>\n",
       "      <td>0.0</td>\n",
       "      <td>0.0</td>\n",
       "      <td>0.0</td>\n",
       "      <td>0.0</td>\n",
       "    </tr>\n",
       "    <tr>\n",
       "      <th>3499</th>\n",
       "      <td>0</td>\n",
       "      <td>0</td>\n",
       "      <td>0</td>\n",
       "      <td>0</td>\n",
       "      <td>0</td>\n",
       "      <td>0</td>\n",
       "      <td>0</td>\n",
       "      <td>0</td>\n",
       "      <td>0</td>\n",
       "      <td>0</td>\n",
       "      <td>...</td>\n",
       "      <td>172.510748</td>\n",
       "      <td>140.004524</td>\n",
       "      <td>0.0</td>\n",
       "      <td>0.0</td>\n",
       "      <td>0.0</td>\n",
       "      <td>0.0</td>\n",
       "      <td>0.0</td>\n",
       "      <td>0.0</td>\n",
       "      <td>0.0</td>\n",
       "      <td>0.0</td>\n",
       "    </tr>\n",
       "  </tbody>\n",
       "</table>\n",
       "<p>3500 rows × 125 columns</p>\n",
       "</div>"
      ],
      "text/plain": [
       "      mirror  sink  toilet seat  bath tub  towel  bed  dresser cabinet  \\\n",
       "0          0     0            0         0      0    0                0   \n",
       "1          0     0            0         0      0    1                0   \n",
       "2          0     0            0         0      0    0                0   \n",
       "3          0     1            1         1      1    0                0   \n",
       "4          0     0            0         0      0    0                0   \n",
       "...      ...   ...          ...       ...    ...  ...              ...   \n",
       "3495       0     0            0         0      0    0                0   \n",
       "3496       0     0            0         0      0    0                0   \n",
       "3497       0     0            0         0      0    1                0   \n",
       "3498       1     1            1         0      0    0                0   \n",
       "3499       0     0            0         0      0    0                0   \n",
       "\n",
       "      night table  table lamp  Tv screen  ...      val_90      val_91  val_92  \\\n",
       "0               0           0          0  ...  205.197740  163.145767     0.0   \n",
       "1               0           1          0  ...    0.000000    0.000000     0.0   \n",
       "2               0           0          0  ...    0.000000    0.000000     0.0   \n",
       "3               0           0          0  ...    0.000000    0.000000     0.0   \n",
       "4               0           0          4  ...    0.000000    0.000000     0.0   \n",
       "...           ...         ...        ...  ...         ...         ...     ...   \n",
       "3495            0           0          0  ...    0.000000    0.000000     0.0   \n",
       "3496            0           0          0  ...    0.000000    0.000000     0.0   \n",
       "3497            0           0          0  ...    0.000000    0.000000     0.0   \n",
       "3498            0           0          0  ...    0.000000    0.000000     0.0   \n",
       "3499            0           0          0  ...  172.510748  140.004524     0.0   \n",
       "\n",
       "      val_93  val_94  val_95  val_96  val_97  val_98  val_99  \n",
       "0        0.0     0.0     0.0     0.0     0.0     0.0     0.0  \n",
       "1        0.0     0.0     0.0     0.0     0.0     0.0     0.0  \n",
       "2        0.0     0.0     0.0     0.0     0.0     0.0     0.0  \n",
       "3        0.0     0.0     0.0     0.0     0.0     0.0     0.0  \n",
       "4        0.0     0.0     0.0     0.0     0.0     0.0     0.0  \n",
       "...      ...     ...     ...     ...     ...     ...     ...  \n",
       "3495     0.0     0.0     0.0     0.0     0.0     0.0     0.0  \n",
       "3496     0.0     0.0     0.0     0.0     0.0     0.0     0.0  \n",
       "3497     0.0     0.0     0.0     0.0     0.0     0.0     0.0  \n",
       "3498     0.0     0.0     0.0     0.0     0.0     0.0     0.0  \n",
       "3499     0.0     0.0     0.0     0.0     0.0     0.0     0.0  \n",
       "\n",
       "[3500 rows x 125 columns]"
      ]
     },
     "execution_count": 42,
     "metadata": {},
     "output_type": "execute_result"
    }
   ],
   "source": [
    "ips_2=IPS_2=upsampled_df_both.iloc[:,0:125]\n",
    "ips_2"
   ]
  },
  {
   "cell_type": "markdown",
   "metadata": {
    "colab_type": "text",
    "id": "BuJv4sPKaF9-"
   },
   "source": [
    "**Output**"
   ]
  },
  {
   "cell_type": "code",
   "execution_count": 43,
   "metadata": {
    "colab": {
     "base_uri": "https://localhost:8080/",
     "height": 402
    },
    "colab_type": "code",
    "executionInfo": {
     "elapsed": 1242,
     "status": "ok",
     "timestamp": 1594929860815,
     "user": {
      "displayName": "technical tasks",
      "photoUrl": "",
      "userId": "05927116453551536656"
     },
     "user_tz": 240
    },
    "id": "IQy697TUXfp1",
    "outputId": "7a0794e4-2886-4be2-8109-c19e7838613d",
    "scrolled": true
   },
   "outputs": [
    {
     "data": {
      "text/html": [
       "<div>\n",
       "<style scoped>\n",
       "    .dataframe tbody tr th:only-of-type {\n",
       "        vertical-align: middle;\n",
       "    }\n",
       "\n",
       "    .dataframe tbody tr th {\n",
       "        vertical-align: top;\n",
       "    }\n",
       "\n",
       "    .dataframe thead th {\n",
       "        text-align: right;\n",
       "    }\n",
       "</style>\n",
       "<table border=\"1\" class=\"dataframe\">\n",
       "  <thead>\n",
       "    <tr style=\"text-align: right;\">\n",
       "      <th></th>\n",
       "      <th>Class</th>\n",
       "    </tr>\n",
       "  </thead>\n",
       "  <tbody>\n",
       "    <tr>\n",
       "      <th>0</th>\n",
       "      <td>office</td>\n",
       "    </tr>\n",
       "    <tr>\n",
       "      <th>1</th>\n",
       "      <td>bedroom</td>\n",
       "    </tr>\n",
       "    <tr>\n",
       "      <th>2</th>\n",
       "      <td>dining room</td>\n",
       "    </tr>\n",
       "    <tr>\n",
       "      <th>3</th>\n",
       "      <td>bathroom</td>\n",
       "    </tr>\n",
       "    <tr>\n",
       "      <th>4</th>\n",
       "      <td>bowling_lounge</td>\n",
       "    </tr>\n",
       "    <tr>\n",
       "      <th>...</th>\n",
       "      <td>...</td>\n",
       "    </tr>\n",
       "    <tr>\n",
       "      <th>3495</th>\n",
       "      <td>dining room</td>\n",
       "    </tr>\n",
       "    <tr>\n",
       "      <th>3496</th>\n",
       "      <td>dining room</td>\n",
       "    </tr>\n",
       "    <tr>\n",
       "      <th>3497</th>\n",
       "      <td>bedroom</td>\n",
       "    </tr>\n",
       "    <tr>\n",
       "      <th>3498</th>\n",
       "      <td>bathroom</td>\n",
       "    </tr>\n",
       "    <tr>\n",
       "      <th>3499</th>\n",
       "      <td>office</td>\n",
       "    </tr>\n",
       "  </tbody>\n",
       "</table>\n",
       "<p>3500 rows × 1 columns</p>\n",
       "</div>"
      ],
      "text/plain": [
       "               Class\n",
       "0             office\n",
       "1            bedroom\n",
       "2        dining room\n",
       "3           bathroom\n",
       "4     bowling_lounge\n",
       "...              ...\n",
       "3495     dining room\n",
       "3496     dining room\n",
       "3497         bedroom\n",
       "3498        bathroom\n",
       "3499          office\n",
       "\n",
       "[3500 rows x 1 columns]"
      ]
     },
     "execution_count": 43,
     "metadata": {},
     "output_type": "execute_result"
    }
   ],
   "source": [
    "ops_2=OPS_2=upsampled_df_both.iloc[:,125:]\n",
    "ops_2"
   ]
  },
  {
   "cell_type": "markdown",
   "metadata": {
    "colab_type": "text",
    "id": "fFsRoy6t0E7h"
   },
   "source": [
    "## Splitting the data to train and test"
   ]
  },
  {
   "cell_type": "markdown",
   "metadata": {
    "colab_type": "text",
    "id": "nWQWxvnh0LvZ"
   },
   "source": [
    "### Splitting for **Dataset_1**"
   ]
  },
  {
   "cell_type": "code",
   "execution_count": 74,
   "metadata": {
    "colab": {},
    "colab_type": "code",
    "id": "taBZ7_1TXfqJ"
   },
   "outputs": [],
   "source": [
    "ip_train_1, ip_test_1, op_train_1, op_test_1 = train_test_split(ips_1,ops_1, test_size = 0.10, random_state = 10)"
   ]
  },
  {
   "cell_type": "code",
   "execution_count": null,
   "metadata": {
    "colab": {},
    "colab_type": "code",
    "id": "X7cQG1PoXfqL"
   },
   "outputs": [],
   "source": [
    "ip_train_1"
   ]
  },
  {
   "cell_type": "code",
   "execution_count": null,
   "metadata": {
    "colab": {},
    "colab_type": "code",
    "id": "VFiuqqp8aeCa"
   },
   "outputs": [],
   "source": [
    "ip_test_1"
   ]
  },
  {
   "cell_type": "code",
   "execution_count": null,
   "metadata": {
    "colab": {},
    "colab_type": "code",
    "id": "MQ6gYvnXaedT"
   },
   "outputs": [],
   "source": [
    "op_train_1"
   ]
  },
  {
   "cell_type": "code",
   "execution_count": null,
   "metadata": {
    "colab": {},
    "colab_type": "code",
    "id": "JneQQcJPadeo"
   },
   "outputs": [],
   "source": [
    "op_test_1"
   ]
  },
  {
   "cell_type": "markdown",
   "metadata": {
    "colab_type": "text",
    "id": "9c1sMVY7avGD"
   },
   "source": [
    "### Splitting for **Dataset_2**"
   ]
  },
  {
   "cell_type": "code",
   "execution_count": 75,
   "metadata": {
    "colab": {},
    "colab_type": "code",
    "id": "_MkX_dhua12o"
   },
   "outputs": [],
   "source": [
    "ip_train_2, ip_test_2, op_train_2, op_test_2 = train_test_split(ips_2,ops_2, test_size = 0.10, random_state = 10)"
   ]
  },
  {
   "cell_type": "code",
   "execution_count": null,
   "metadata": {
    "colab": {},
    "colab_type": "code",
    "id": "qLtL4iCTa-dv"
   },
   "outputs": [],
   "source": [
    "ip_train_2"
   ]
  },
  {
   "cell_type": "code",
   "execution_count": null,
   "metadata": {
    "colab": {},
    "colab_type": "code",
    "id": "OBu7N-tha_CC"
   },
   "outputs": [],
   "source": [
    "ip_test_2"
   ]
  },
  {
   "cell_type": "code",
   "execution_count": null,
   "metadata": {
    "colab": {},
    "colab_type": "code",
    "id": "ZfOUba9Oa-wA"
   },
   "outputs": [],
   "source": [
    "op_train_2"
   ]
  },
  {
   "cell_type": "code",
   "execution_count": null,
   "metadata": {
    "colab": {},
    "colab_type": "code",
    "id": "D0_EfbQ2a-L5"
   },
   "outputs": [],
   "source": [
    "op_test_2"
   ]
  },
  {
   "cell_type": "markdown",
   "metadata": {
    "colab_type": "text",
    "id": "gIXgCrlH4NsG"
   },
   "source": [
    "## Create the Labelencoder object (Covernting the classes to numberical label)"
   ]
  },
  {
   "cell_type": "markdown",
   "metadata": {
    "colab_type": "text",
    "id": "DZDT7lKhbNcc"
   },
   "source": [
    "### For **Dataset_1**"
   ]
  },
  {
   "cell_type": "code",
   "execution_count": 76,
   "metadata": {
    "colab": {
     "base_uri": "https://localhost:8080/",
     "height": 603
    },
    "colab_type": "code",
    "executionInfo": {
     "elapsed": 1418,
     "status": "ok",
     "timestamp": 1594929886535,
     "user": {
      "displayName": "technical tasks",
      "photoUrl": "",
      "userId": "05927116453551536656"
     },
     "user_tz": 240
    },
    "id": "C3xUGb2YXfqN",
    "outputId": "fca0d483-2183-46c9-98e8-d9258ea330e6"
   },
   "outputs": [
    {
     "name": "stderr",
     "output_type": "stream",
     "text": [
      "C:\\ProgramData\\Anaconda3\\lib\\site-packages\\ipykernel_launcher.py:3: SettingWithCopyWarning: \n",
      "A value is trying to be set on a copy of a slice from a DataFrame.\n",
      "Try using .loc[row_indexer,col_indexer] = value instead\n",
      "\n",
      "See the caveats in the documentation: https://pandas.pydata.org/pandas-docs/stable/user_guide/indexing.html#returning-a-view-versus-a-copy\n",
      "  This is separate from the ipykernel package so we can avoid doing imports until\n",
      "C:\\ProgramData\\Anaconda3\\lib\\site-packages\\ipykernel_launcher.py:4: SettingWithCopyWarning: \n",
      "A value is trying to be set on a copy of a slice from a DataFrame.\n",
      "Try using .loc[row_indexer,col_indexer] = value instead\n",
      "\n",
      "See the caveats in the documentation: https://pandas.pydata.org/pandas-docs/stable/user_guide/indexing.html#returning-a-view-versus-a-copy\n",
      "  after removing the cwd from sys.path.\n"
     ]
    },
    {
     "data": {
      "text/html": [
       "<div>\n",
       "<style scoped>\n",
       "    .dataframe tbody tr th:only-of-type {\n",
       "        vertical-align: middle;\n",
       "    }\n",
       "\n",
       "    .dataframe tbody tr th {\n",
       "        vertical-align: top;\n",
       "    }\n",
       "\n",
       "    .dataframe thead th {\n",
       "        text-align: right;\n",
       "    }\n",
       "</style>\n",
       "<table border=\"1\" class=\"dataframe\">\n",
       "  <thead>\n",
       "    <tr style=\"text-align: right;\">\n",
       "      <th></th>\n",
       "      <th>Class</th>\n",
       "    </tr>\n",
       "  </thead>\n",
       "  <tbody>\n",
       "    <tr>\n",
       "      <th>1708</th>\n",
       "      <td>1</td>\n",
       "    </tr>\n",
       "    <tr>\n",
       "      <th>2663</th>\n",
       "      <td>3</td>\n",
       "    </tr>\n",
       "    <tr>\n",
       "      <th>494</th>\n",
       "      <td>3</td>\n",
       "    </tr>\n",
       "    <tr>\n",
       "      <th>1624</th>\n",
       "      <td>1</td>\n",
       "    </tr>\n",
       "    <tr>\n",
       "      <th>1152</th>\n",
       "      <td>1</td>\n",
       "    </tr>\n",
       "    <tr>\n",
       "      <th>...</th>\n",
       "      <td>...</td>\n",
       "    </tr>\n",
       "    <tr>\n",
       "      <th>3441</th>\n",
       "      <td>4</td>\n",
       "    </tr>\n",
       "    <tr>\n",
       "      <th>1344</th>\n",
       "      <td>5</td>\n",
       "    </tr>\n",
       "    <tr>\n",
       "      <th>527</th>\n",
       "      <td>2</td>\n",
       "    </tr>\n",
       "    <tr>\n",
       "      <th>3197</th>\n",
       "      <td>2</td>\n",
       "    </tr>\n",
       "    <tr>\n",
       "      <th>1289</th>\n",
       "      <td>2</td>\n",
       "    </tr>\n",
       "  </tbody>\n",
       "</table>\n",
       "<p>3150 rows × 1 columns</p>\n",
       "</div>"
      ],
      "text/plain": [
       "      Class\n",
       "1708      1\n",
       "2663      3\n",
       "494       3\n",
       "1624      1\n",
       "1152      1\n",
       "...     ...\n",
       "3441      4\n",
       "1344      5\n",
       "527       2\n",
       "3197      2\n",
       "1289      2\n",
       "\n",
       "[3150 rows x 1 columns]"
      ]
     },
     "execution_count": 76,
     "metadata": {},
     "output_type": "execute_result"
    }
   ],
   "source": [
    "# create the Labelencoder object\n",
    "le = preprocessing.LabelEncoder()\n",
    "op_train_1['Class'] = le.fit_transform(op_train_1['Class'])\n",
    "op_test_1['Class'] = le.fit_transform(op_test_1['Class'])\n",
    "op_train_1"
   ]
  },
  {
   "cell_type": "markdown",
   "metadata": {
    "colab_type": "text",
    "id": "Qu6dDGAPbTRJ"
   },
   "source": [
    "### For **Dataset_2**"
   ]
  },
  {
   "cell_type": "code",
   "execution_count": 77,
   "metadata": {
    "colab": {
     "base_uri": "https://localhost:8080/",
     "height": 603
    },
    "colab_type": "code",
    "executionInfo": {
     "elapsed": 1259,
     "status": "ok",
     "timestamp": 1594929890855,
     "user": {
      "displayName": "technical tasks",
      "photoUrl": "",
      "userId": "05927116453551536656"
     },
     "user_tz": 240
    },
    "id": "Cc6tW8zcbSjA",
    "outputId": "88bb3a6c-11e7-4531-c7ab-38c750eac497"
   },
   "outputs": [
    {
     "name": "stderr",
     "output_type": "stream",
     "text": [
      "C:\\ProgramData\\Anaconda3\\lib\\site-packages\\ipykernel_launcher.py:3: SettingWithCopyWarning: \n",
      "A value is trying to be set on a copy of a slice from a DataFrame.\n",
      "Try using .loc[row_indexer,col_indexer] = value instead\n",
      "\n",
      "See the caveats in the documentation: https://pandas.pydata.org/pandas-docs/stable/user_guide/indexing.html#returning-a-view-versus-a-copy\n",
      "  This is separate from the ipykernel package so we can avoid doing imports until\n",
      "C:\\ProgramData\\Anaconda3\\lib\\site-packages\\ipykernel_launcher.py:4: SettingWithCopyWarning: \n",
      "A value is trying to be set on a copy of a slice from a DataFrame.\n",
      "Try using .loc[row_indexer,col_indexer] = value instead\n",
      "\n",
      "See the caveats in the documentation: https://pandas.pydata.org/pandas-docs/stable/user_guide/indexing.html#returning-a-view-versus-a-copy\n",
      "  after removing the cwd from sys.path.\n"
     ]
    },
    {
     "data": {
      "text/html": [
       "<div>\n",
       "<style scoped>\n",
       "    .dataframe tbody tr th:only-of-type {\n",
       "        vertical-align: middle;\n",
       "    }\n",
       "\n",
       "    .dataframe tbody tr th {\n",
       "        vertical-align: top;\n",
       "    }\n",
       "\n",
       "    .dataframe thead th {\n",
       "        text-align: right;\n",
       "    }\n",
       "</style>\n",
       "<table border=\"1\" class=\"dataframe\">\n",
       "  <thead>\n",
       "    <tr style=\"text-align: right;\">\n",
       "      <th></th>\n",
       "      <th>Class</th>\n",
       "    </tr>\n",
       "  </thead>\n",
       "  <tbody>\n",
       "    <tr>\n",
       "      <th>1708</th>\n",
       "      <td>1</td>\n",
       "    </tr>\n",
       "    <tr>\n",
       "      <th>2663</th>\n",
       "      <td>3</td>\n",
       "    </tr>\n",
       "    <tr>\n",
       "      <th>494</th>\n",
       "      <td>3</td>\n",
       "    </tr>\n",
       "    <tr>\n",
       "      <th>1624</th>\n",
       "      <td>1</td>\n",
       "    </tr>\n",
       "    <tr>\n",
       "      <th>1152</th>\n",
       "      <td>1</td>\n",
       "    </tr>\n",
       "    <tr>\n",
       "      <th>...</th>\n",
       "      <td>...</td>\n",
       "    </tr>\n",
       "    <tr>\n",
       "      <th>3441</th>\n",
       "      <td>4</td>\n",
       "    </tr>\n",
       "    <tr>\n",
       "      <th>1344</th>\n",
       "      <td>5</td>\n",
       "    </tr>\n",
       "    <tr>\n",
       "      <th>527</th>\n",
       "      <td>2</td>\n",
       "    </tr>\n",
       "    <tr>\n",
       "      <th>3197</th>\n",
       "      <td>2</td>\n",
       "    </tr>\n",
       "    <tr>\n",
       "      <th>1289</th>\n",
       "      <td>2</td>\n",
       "    </tr>\n",
       "  </tbody>\n",
       "</table>\n",
       "<p>3150 rows × 1 columns</p>\n",
       "</div>"
      ],
      "text/plain": [
       "      Class\n",
       "1708      1\n",
       "2663      3\n",
       "494       3\n",
       "1624      1\n",
       "1152      1\n",
       "...     ...\n",
       "3441      4\n",
       "1344      5\n",
       "527       2\n",
       "3197      2\n",
       "1289      2\n",
       "\n",
       "[3150 rows x 1 columns]"
      ]
     },
     "execution_count": 77,
     "metadata": {},
     "output_type": "execute_result"
    }
   ],
   "source": [
    "# create the Labelencoder object\n",
    "le = preprocessing.LabelEncoder()\n",
    "op_train_2['Class'] = le.fit_transform(op_train_2['Class'])\n",
    "op_test_2['Class'] = le.fit_transform(op_test_2['Class'])\n",
    "op_train_2"
   ]
  },
  {
   "cell_type": "markdown",
   "metadata": {
    "colab_type": "text",
    "id": "47NUn1Z_bIyQ"
   },
   "source": [
    "## Balancing the classification classes of the dataset (Oversampling using SMOTE)"
   ]
  },
  {
   "cell_type": "markdown",
   "metadata": {
    "colab_type": "text",
    "id": "2ESwBPbXXfqP"
   },
   "source": [
    "### For **Dataset_1**"
   ]
  },
  {
   "cell_type": "code",
   "execution_count": 78,
   "metadata": {
    "colab": {
     "base_uri": "https://localhost:8080/",
     "height": 134
    },
    "colab_type": "code",
    "executionInfo": {
     "elapsed": 1438,
     "status": "ok",
     "timestamp": 1594929898242,
     "user": {
      "displayName": "technical tasks",
      "photoUrl": "",
      "userId": "05927116453551536656"
     },
     "user_tz": 240
    },
    "id": "ccrfvFuNXfqQ",
    "outputId": "4deb1eca-3217-4157-dd60-b729b206c797"
   },
   "outputs": [
    {
     "data": {
      "text/plain": [
       "3    568\n",
       "2    565\n",
       "1    543\n",
       "0    535\n",
       "5    516\n",
       "4    423\n",
       "Name: Class, dtype: int64"
      ]
     },
     "execution_count": 78,
     "metadata": {},
     "output_type": "execute_result"
    }
   ],
   "source": [
    "op_train_1['Class'].value_counts()"
   ]
  },
  {
   "cell_type": "code",
   "execution_count": 79,
   "metadata": {
    "colab": {
     "base_uri": "https://localhost:8080/",
     "height": 222
    },
    "colab_type": "code",
    "executionInfo": {
     "elapsed": 1357,
     "status": "ok",
     "timestamp": 1594929901051,
     "user": {
      "displayName": "technical tasks",
      "photoUrl": "",
      "userId": "05927116453551536656"
     },
     "user_tz": 240
    },
    "id": "7Pmw5X7rXfqT",
    "outputId": "27bd687a-0173-4548-ac0b-7ef94443e619"
   },
   "outputs": [
    {
     "name": "stdout",
     "output_type": "stream",
     "text": [
      "[(0, 568), (1, 568), (2, 568), (3, 568), (4, 568), (5, 568)]\n"
     ]
    }
   ],
   "source": [
    "sm = SMOTE(ratio='all', random_state = 6)\n",
    "ip_train_1_prep, op_train_1_prep = sm.fit_sample(ip_train_1, op_train_1.values.ravel())\n",
    "print(sorted(Counter(op_train_1_prep).items()))"
   ]
  },
  {
   "cell_type": "code",
   "execution_count": 80,
   "metadata": {
    "colab": {},
    "colab_type": "code",
    "id": "OKkL6rQLXfqV"
   },
   "outputs": [],
   "source": [
    "ip_train_1_samp=pd.DataFrame(ip_train_1_prep, columns = ip_train_1.columns)"
   ]
  },
  {
   "cell_type": "code",
   "execution_count": 81,
   "metadata": {
    "colab": {},
    "colab_type": "code",
    "id": "lzCabIWvXfqZ"
   },
   "outputs": [],
   "source": [
    "op_train_1_samp=pd.DataFrame(op_train_1_prep, columns = op_train_1.columns)"
   ]
  },
  {
   "cell_type": "code",
   "execution_count": 82,
   "metadata": {
    "colab": {
     "base_uri": "https://localhost:8080/",
     "height": 455
    },
    "colab_type": "code",
    "executionInfo": {
     "elapsed": 1505,
     "status": "ok",
     "timestamp": 1594929904762,
     "user": {
      "displayName": "technical tasks",
      "photoUrl": "",
      "userId": "05927116453551536656"
     },
     "user_tz": 240
    },
    "id": "T-Z-17d_Xfqb",
    "outputId": "38caceea-2bc8-4980-c80a-0627821d4941"
   },
   "outputs": [
    {
     "data": {
      "text/html": [
       "<div>\n",
       "<style scoped>\n",
       "    .dataframe tbody tr th:only-of-type {\n",
       "        vertical-align: middle;\n",
       "    }\n",
       "\n",
       "    .dataframe tbody tr th {\n",
       "        vertical-align: top;\n",
       "    }\n",
       "\n",
       "    .dataframe thead th {\n",
       "        text-align: right;\n",
       "    }\n",
       "</style>\n",
       "<table border=\"1\" class=\"dataframe\">\n",
       "  <thead>\n",
       "    <tr style=\"text-align: right;\">\n",
       "      <th></th>\n",
       "      <th>mirror</th>\n",
       "      <th>sink</th>\n",
       "      <th>toilet seat</th>\n",
       "      <th>bath tub</th>\n",
       "      <th>towel</th>\n",
       "      <th>bed</th>\n",
       "      <th>dresser cabinet</th>\n",
       "      <th>night table</th>\n",
       "      <th>table lamp</th>\n",
       "      <th>Tv screen</th>\n",
       "      <th>...</th>\n",
       "      <th>vase</th>\n",
       "      <th>refrigerator</th>\n",
       "      <th>oven</th>\n",
       "      <th>range hood</th>\n",
       "      <th>chair</th>\n",
       "      <th>printer</th>\n",
       "      <th>computer</th>\n",
       "      <th>Monitor</th>\n",
       "      <th>Desk</th>\n",
       "      <th>keyboard</th>\n",
       "    </tr>\n",
       "  </thead>\n",
       "  <tbody>\n",
       "    <tr>\n",
       "      <th>0</th>\n",
       "      <td>0</td>\n",
       "      <td>0</td>\n",
       "      <td>0</td>\n",
       "      <td>0</td>\n",
       "      <td>0</td>\n",
       "      <td>1</td>\n",
       "      <td>0</td>\n",
       "      <td>0</td>\n",
       "      <td>0</td>\n",
       "      <td>0</td>\n",
       "      <td>...</td>\n",
       "      <td>0</td>\n",
       "      <td>0</td>\n",
       "      <td>0</td>\n",
       "      <td>0</td>\n",
       "      <td>0</td>\n",
       "      <td>0</td>\n",
       "      <td>0</td>\n",
       "      <td>0</td>\n",
       "      <td>0</td>\n",
       "      <td>0</td>\n",
       "    </tr>\n",
       "    <tr>\n",
       "      <th>1</th>\n",
       "      <td>0</td>\n",
       "      <td>0</td>\n",
       "      <td>0</td>\n",
       "      <td>0</td>\n",
       "      <td>0</td>\n",
       "      <td>0</td>\n",
       "      <td>0</td>\n",
       "      <td>0</td>\n",
       "      <td>1</td>\n",
       "      <td>0</td>\n",
       "      <td>...</td>\n",
       "      <td>0</td>\n",
       "      <td>0</td>\n",
       "      <td>0</td>\n",
       "      <td>0</td>\n",
       "      <td>0</td>\n",
       "      <td>0</td>\n",
       "      <td>0</td>\n",
       "      <td>0</td>\n",
       "      <td>0</td>\n",
       "      <td>0</td>\n",
       "    </tr>\n",
       "    <tr>\n",
       "      <th>2</th>\n",
       "      <td>0</td>\n",
       "      <td>0</td>\n",
       "      <td>0</td>\n",
       "      <td>0</td>\n",
       "      <td>0</td>\n",
       "      <td>0</td>\n",
       "      <td>0</td>\n",
       "      <td>0</td>\n",
       "      <td>0</td>\n",
       "      <td>0</td>\n",
       "      <td>...</td>\n",
       "      <td>1</td>\n",
       "      <td>0</td>\n",
       "      <td>0</td>\n",
       "      <td>0</td>\n",
       "      <td>0</td>\n",
       "      <td>0</td>\n",
       "      <td>0</td>\n",
       "      <td>0</td>\n",
       "      <td>0</td>\n",
       "      <td>0</td>\n",
       "    </tr>\n",
       "    <tr>\n",
       "      <th>3</th>\n",
       "      <td>0</td>\n",
       "      <td>0</td>\n",
       "      <td>0</td>\n",
       "      <td>0</td>\n",
       "      <td>0</td>\n",
       "      <td>1</td>\n",
       "      <td>0</td>\n",
       "      <td>0</td>\n",
       "      <td>1</td>\n",
       "      <td>0</td>\n",
       "      <td>...</td>\n",
       "      <td>0</td>\n",
       "      <td>0</td>\n",
       "      <td>0</td>\n",
       "      <td>0</td>\n",
       "      <td>1</td>\n",
       "      <td>0</td>\n",
       "      <td>0</td>\n",
       "      <td>0</td>\n",
       "      <td>0</td>\n",
       "      <td>0</td>\n",
       "    </tr>\n",
       "    <tr>\n",
       "      <th>4</th>\n",
       "      <td>0</td>\n",
       "      <td>0</td>\n",
       "      <td>0</td>\n",
       "      <td>0</td>\n",
       "      <td>0</td>\n",
       "      <td>1</td>\n",
       "      <td>0</td>\n",
       "      <td>0</td>\n",
       "      <td>2</td>\n",
       "      <td>0</td>\n",
       "      <td>...</td>\n",
       "      <td>0</td>\n",
       "      <td>0</td>\n",
       "      <td>0</td>\n",
       "      <td>0</td>\n",
       "      <td>1</td>\n",
       "      <td>0</td>\n",
       "      <td>0</td>\n",
       "      <td>0</td>\n",
       "      <td>0</td>\n",
       "      <td>0</td>\n",
       "    </tr>\n",
       "    <tr>\n",
       "      <th>...</th>\n",
       "      <td>...</td>\n",
       "      <td>...</td>\n",
       "      <td>...</td>\n",
       "      <td>...</td>\n",
       "      <td>...</td>\n",
       "      <td>...</td>\n",
       "      <td>...</td>\n",
       "      <td>...</td>\n",
       "      <td>...</td>\n",
       "      <td>...</td>\n",
       "      <td>...</td>\n",
       "      <td>...</td>\n",
       "      <td>...</td>\n",
       "      <td>...</td>\n",
       "      <td>...</td>\n",
       "      <td>...</td>\n",
       "      <td>...</td>\n",
       "      <td>...</td>\n",
       "      <td>...</td>\n",
       "      <td>...</td>\n",
       "      <td>...</td>\n",
       "    </tr>\n",
       "    <tr>\n",
       "      <th>3403</th>\n",
       "      <td>0</td>\n",
       "      <td>0</td>\n",
       "      <td>0</td>\n",
       "      <td>0</td>\n",
       "      <td>0</td>\n",
       "      <td>0</td>\n",
       "      <td>0</td>\n",
       "      <td>0</td>\n",
       "      <td>0</td>\n",
       "      <td>0</td>\n",
       "      <td>...</td>\n",
       "      <td>0</td>\n",
       "      <td>0</td>\n",
       "      <td>0</td>\n",
       "      <td>0</td>\n",
       "      <td>1</td>\n",
       "      <td>0</td>\n",
       "      <td>0</td>\n",
       "      <td>0</td>\n",
       "      <td>1</td>\n",
       "      <td>0</td>\n",
       "    </tr>\n",
       "    <tr>\n",
       "      <th>3404</th>\n",
       "      <td>0</td>\n",
       "      <td>0</td>\n",
       "      <td>0</td>\n",
       "      <td>0</td>\n",
       "      <td>0</td>\n",
       "      <td>0</td>\n",
       "      <td>0</td>\n",
       "      <td>0</td>\n",
       "      <td>0</td>\n",
       "      <td>0</td>\n",
       "      <td>...</td>\n",
       "      <td>0</td>\n",
       "      <td>0</td>\n",
       "      <td>0</td>\n",
       "      <td>0</td>\n",
       "      <td>1</td>\n",
       "      <td>0</td>\n",
       "      <td>0</td>\n",
       "      <td>1</td>\n",
       "      <td>0</td>\n",
       "      <td>0</td>\n",
       "    </tr>\n",
       "    <tr>\n",
       "      <th>3405</th>\n",
       "      <td>0</td>\n",
       "      <td>0</td>\n",
       "      <td>0</td>\n",
       "      <td>0</td>\n",
       "      <td>0</td>\n",
       "      <td>0</td>\n",
       "      <td>0</td>\n",
       "      <td>0</td>\n",
       "      <td>0</td>\n",
       "      <td>0</td>\n",
       "      <td>...</td>\n",
       "      <td>0</td>\n",
       "      <td>0</td>\n",
       "      <td>0</td>\n",
       "      <td>0</td>\n",
       "      <td>1</td>\n",
       "      <td>1</td>\n",
       "      <td>1</td>\n",
       "      <td>2</td>\n",
       "      <td>0</td>\n",
       "      <td>1</td>\n",
       "    </tr>\n",
       "    <tr>\n",
       "      <th>3406</th>\n",
       "      <td>0</td>\n",
       "      <td>0</td>\n",
       "      <td>0</td>\n",
       "      <td>0</td>\n",
       "      <td>0</td>\n",
       "      <td>0</td>\n",
       "      <td>0</td>\n",
       "      <td>0</td>\n",
       "      <td>0</td>\n",
       "      <td>0</td>\n",
       "      <td>...</td>\n",
       "      <td>0</td>\n",
       "      <td>0</td>\n",
       "      <td>0</td>\n",
       "      <td>0</td>\n",
       "      <td>1</td>\n",
       "      <td>0</td>\n",
       "      <td>0</td>\n",
       "      <td>0</td>\n",
       "      <td>1</td>\n",
       "      <td>0</td>\n",
       "    </tr>\n",
       "    <tr>\n",
       "      <th>3407</th>\n",
       "      <td>0</td>\n",
       "      <td>0</td>\n",
       "      <td>0</td>\n",
       "      <td>0</td>\n",
       "      <td>0</td>\n",
       "      <td>0</td>\n",
       "      <td>0</td>\n",
       "      <td>0</td>\n",
       "      <td>0</td>\n",
       "      <td>0</td>\n",
       "      <td>...</td>\n",
       "      <td>0</td>\n",
       "      <td>0</td>\n",
       "      <td>0</td>\n",
       "      <td>0</td>\n",
       "      <td>1</td>\n",
       "      <td>0</td>\n",
       "      <td>0</td>\n",
       "      <td>0</td>\n",
       "      <td>1</td>\n",
       "      <td>0</td>\n",
       "    </tr>\n",
       "  </tbody>\n",
       "</table>\n",
       "<p>3408 rows × 25 columns</p>\n",
       "</div>"
      ],
      "text/plain": [
       "      mirror  sink  toilet seat  bath tub  towel  bed  dresser cabinet  \\\n",
       "0          0     0            0         0      0    1                0   \n",
       "1          0     0            0         0      0    0                0   \n",
       "2          0     0            0         0      0    0                0   \n",
       "3          0     0            0         0      0    1                0   \n",
       "4          0     0            0         0      0    1                0   \n",
       "...      ...   ...          ...       ...    ...  ...              ...   \n",
       "3403       0     0            0         0      0    0                0   \n",
       "3404       0     0            0         0      0    0                0   \n",
       "3405       0     0            0         0      0    0                0   \n",
       "3406       0     0            0         0      0    0                0   \n",
       "3407       0     0            0         0      0    0                0   \n",
       "\n",
       "      night table  table lamp  Tv screen  ...  vase  refrigerator  oven  \\\n",
       "0               0           0          0  ...     0             0     0   \n",
       "1               0           1          0  ...     0             0     0   \n",
       "2               0           0          0  ...     1             0     0   \n",
       "3               0           1          0  ...     0             0     0   \n",
       "4               0           2          0  ...     0             0     0   \n",
       "...           ...         ...        ...  ...   ...           ...   ...   \n",
       "3403            0           0          0  ...     0             0     0   \n",
       "3404            0           0          0  ...     0             0     0   \n",
       "3405            0           0          0  ...     0             0     0   \n",
       "3406            0           0          0  ...     0             0     0   \n",
       "3407            0           0          0  ...     0             0     0   \n",
       "\n",
       "      range hood  chair  printer  computer  Monitor  Desk  keyboard  \n",
       "0              0      0        0         0        0     0         0  \n",
       "1              0      0        0         0        0     0         0  \n",
       "2              0      0        0         0        0     0         0  \n",
       "3              0      1        0         0        0     0         0  \n",
       "4              0      1        0         0        0     0         0  \n",
       "...          ...    ...      ...       ...      ...   ...       ...  \n",
       "3403           0      1        0         0        0     1         0  \n",
       "3404           0      1        0         0        1     0         0  \n",
       "3405           0      1        1         1        2     0         1  \n",
       "3406           0      1        0         0        0     1         0  \n",
       "3407           0      1        0         0        0     1         0  \n",
       "\n",
       "[3408 rows x 25 columns]"
      ]
     },
     "execution_count": 82,
     "metadata": {},
     "output_type": "execute_result"
    }
   ],
   "source": [
    "ip_train_1_samp = ip_train_1_samp.round().astype(int)\n",
    "ip_train_1_samp"
   ]
  },
  {
   "cell_type": "code",
   "execution_count": 83,
   "metadata": {
    "colab": {
     "base_uri": "https://localhost:8080/",
     "height": 402
    },
    "colab_type": "code",
    "executionInfo": {
     "elapsed": 1632,
     "status": "ok",
     "timestamp": 1594929907023,
     "user": {
      "displayName": "technical tasks",
      "photoUrl": "",
      "userId": "05927116453551536656"
     },
     "user_tz": 240
    },
    "id": "NKMsCq3MXfqd",
    "outputId": "71a54e06-f418-41e7-8241-070f33913cfd"
   },
   "outputs": [
    {
     "data": {
      "text/html": [
       "<div>\n",
       "<style scoped>\n",
       "    .dataframe tbody tr th:only-of-type {\n",
       "        vertical-align: middle;\n",
       "    }\n",
       "\n",
       "    .dataframe tbody tr th {\n",
       "        vertical-align: top;\n",
       "    }\n",
       "\n",
       "    .dataframe thead th {\n",
       "        text-align: right;\n",
       "    }\n",
       "</style>\n",
       "<table border=\"1\" class=\"dataframe\">\n",
       "  <thead>\n",
       "    <tr style=\"text-align: right;\">\n",
       "      <th></th>\n",
       "      <th>Class</th>\n",
       "    </tr>\n",
       "  </thead>\n",
       "  <tbody>\n",
       "    <tr>\n",
       "      <th>0</th>\n",
       "      <td>1</td>\n",
       "    </tr>\n",
       "    <tr>\n",
       "      <th>1</th>\n",
       "      <td>3</td>\n",
       "    </tr>\n",
       "    <tr>\n",
       "      <th>2</th>\n",
       "      <td>3</td>\n",
       "    </tr>\n",
       "    <tr>\n",
       "      <th>3</th>\n",
       "      <td>1</td>\n",
       "    </tr>\n",
       "    <tr>\n",
       "      <th>4</th>\n",
       "      <td>1</td>\n",
       "    </tr>\n",
       "    <tr>\n",
       "      <th>...</th>\n",
       "      <td>...</td>\n",
       "    </tr>\n",
       "    <tr>\n",
       "      <th>3403</th>\n",
       "      <td>5</td>\n",
       "    </tr>\n",
       "    <tr>\n",
       "      <th>3404</th>\n",
       "      <td>5</td>\n",
       "    </tr>\n",
       "    <tr>\n",
       "      <th>3405</th>\n",
       "      <td>5</td>\n",
       "    </tr>\n",
       "    <tr>\n",
       "      <th>3406</th>\n",
       "      <td>5</td>\n",
       "    </tr>\n",
       "    <tr>\n",
       "      <th>3407</th>\n",
       "      <td>5</td>\n",
       "    </tr>\n",
       "  </tbody>\n",
       "</table>\n",
       "<p>3408 rows × 1 columns</p>\n",
       "</div>"
      ],
      "text/plain": [
       "      Class\n",
       "0         1\n",
       "1         3\n",
       "2         3\n",
       "3         1\n",
       "4         1\n",
       "...     ...\n",
       "3403      5\n",
       "3404      5\n",
       "3405      5\n",
       "3406      5\n",
       "3407      5\n",
       "\n",
       "[3408 rows x 1 columns]"
      ]
     },
     "execution_count": 83,
     "metadata": {},
     "output_type": "execute_result"
    }
   ],
   "source": [
    "op_train_1_samp"
   ]
  },
  {
   "cell_type": "markdown",
   "metadata": {
    "colab_type": "text",
    "id": "F-vYxXQLc40T"
   },
   "source": [
    "### For **Dataset_2**"
   ]
  },
  {
   "cell_type": "code",
   "execution_count": 84,
   "metadata": {
    "colab": {
     "base_uri": "https://localhost:8080/",
     "height": 134
    },
    "colab_type": "code",
    "executionInfo": {
     "elapsed": 3097,
     "status": "ok",
     "timestamp": 1594929912371,
     "user": {
      "displayName": "technical tasks",
      "photoUrl": "",
      "userId": "05927116453551536656"
     },
     "user_tz": 240
    },
    "id": "TuwygxSDc2mf",
    "outputId": "acf1c346-1d33-4901-bf15-5e381f6b0f56"
   },
   "outputs": [
    {
     "data": {
      "text/plain": [
       "3    568\n",
       "2    565\n",
       "1    543\n",
       "0    535\n",
       "5    516\n",
       "4    423\n",
       "Name: Class, dtype: int64"
      ]
     },
     "execution_count": 84,
     "metadata": {},
     "output_type": "execute_result"
    }
   ],
   "source": [
    "op_train_2['Class'].value_counts()"
   ]
  },
  {
   "cell_type": "code",
   "execution_count": 85,
   "metadata": {
    "colab": {
     "base_uri": "https://localhost:8080/",
     "height": 222
    },
    "colab_type": "code",
    "executionInfo": {
     "elapsed": 2538,
     "status": "ok",
     "timestamp": 1594929912372,
     "user": {
      "displayName": "technical tasks",
      "photoUrl": "",
      "userId": "05927116453551536656"
     },
     "user_tz": 240
    },
    "id": "HFmC4nAcc3Jw",
    "outputId": "e5e7973d-dd31-4e3d-8ae0-c558c33a4033"
   },
   "outputs": [
    {
     "name": "stdout",
     "output_type": "stream",
     "text": [
      "[(0, 568), (1, 568), (2, 568), (3, 568), (4, 568), (5, 568)]\n"
     ]
    }
   ],
   "source": [
    "sm = SMOTE(ratio='all', random_state = 6)\n",
    "ip_train_2_prep, op_train_2_prep = sm.fit_sample(ip_train_2, op_train_2.values.ravel())\n",
    "print(sorted(Counter(op_train_2_prep).items()))"
   ]
  },
  {
   "cell_type": "code",
   "execution_count": 86,
   "metadata": {
    "colab": {},
    "colab_type": "code",
    "id": "rOvJm76Ac24E"
   },
   "outputs": [],
   "source": [
    "ip_train_2_samp=pd.DataFrame(ip_train_2_prep, columns = ip_train_2.columns)"
   ]
  },
  {
   "cell_type": "code",
   "execution_count": 87,
   "metadata": {
    "colab": {},
    "colab_type": "code",
    "id": "c3X_Uk75c2VY"
   },
   "outputs": [],
   "source": [
    "op_train_2_samp=pd.DataFrame(op_train_2_prep, columns = op_train_2.columns)"
   ]
  },
  {
   "cell_type": "code",
   "execution_count": 88,
   "metadata": {
    "colab": {
     "base_uri": "https://localhost:8080/",
     "height": 455
    },
    "colab_type": "code",
    "executionInfo": {
     "elapsed": 1268,
     "status": "ok",
     "timestamp": 1594929912876,
     "user": {
      "displayName": "technical tasks",
      "photoUrl": "",
      "userId": "05927116453551536656"
     },
     "user_tz": 240
    },
    "id": "I8r-J-HddH9_",
    "outputId": "ccfe1907-8383-40b3-c90d-015bd2dd7e9e"
   },
   "outputs": [
    {
     "data": {
      "text/html": [
       "<div>\n",
       "<style scoped>\n",
       "    .dataframe tbody tr th:only-of-type {\n",
       "        vertical-align: middle;\n",
       "    }\n",
       "\n",
       "    .dataframe tbody tr th {\n",
       "        vertical-align: top;\n",
       "    }\n",
       "\n",
       "    .dataframe thead th {\n",
       "        text-align: right;\n",
       "    }\n",
       "</style>\n",
       "<table border=\"1\" class=\"dataframe\">\n",
       "  <thead>\n",
       "    <tr style=\"text-align: right;\">\n",
       "      <th></th>\n",
       "      <th>mirror</th>\n",
       "      <th>sink</th>\n",
       "      <th>toilet seat</th>\n",
       "      <th>bath tub</th>\n",
       "      <th>towel</th>\n",
       "      <th>bed</th>\n",
       "      <th>dresser cabinet</th>\n",
       "      <th>night table</th>\n",
       "      <th>table lamp</th>\n",
       "      <th>Tv screen</th>\n",
       "      <th>...</th>\n",
       "      <th>val_90</th>\n",
       "      <th>val_91</th>\n",
       "      <th>val_92</th>\n",
       "      <th>val_93</th>\n",
       "      <th>val_94</th>\n",
       "      <th>val_95</th>\n",
       "      <th>val_96</th>\n",
       "      <th>val_97</th>\n",
       "      <th>val_98</th>\n",
       "      <th>val_99</th>\n",
       "    </tr>\n",
       "  </thead>\n",
       "  <tbody>\n",
       "    <tr>\n",
       "      <th>0</th>\n",
       "      <td>0</td>\n",
       "      <td>0</td>\n",
       "      <td>0</td>\n",
       "      <td>0</td>\n",
       "      <td>0</td>\n",
       "      <td>1</td>\n",
       "      <td>0</td>\n",
       "      <td>0</td>\n",
       "      <td>0</td>\n",
       "      <td>0</td>\n",
       "      <td>...</td>\n",
       "      <td>0</td>\n",
       "      <td>0</td>\n",
       "      <td>0</td>\n",
       "      <td>0</td>\n",
       "      <td>0</td>\n",
       "      <td>0</td>\n",
       "      <td>0</td>\n",
       "      <td>0</td>\n",
       "      <td>0</td>\n",
       "      <td>0</td>\n",
       "    </tr>\n",
       "    <tr>\n",
       "      <th>1</th>\n",
       "      <td>0</td>\n",
       "      <td>0</td>\n",
       "      <td>0</td>\n",
       "      <td>0</td>\n",
       "      <td>0</td>\n",
       "      <td>0</td>\n",
       "      <td>0</td>\n",
       "      <td>0</td>\n",
       "      <td>1</td>\n",
       "      <td>0</td>\n",
       "      <td>...</td>\n",
       "      <td>0</td>\n",
       "      <td>0</td>\n",
       "      <td>0</td>\n",
       "      <td>0</td>\n",
       "      <td>0</td>\n",
       "      <td>0</td>\n",
       "      <td>0</td>\n",
       "      <td>0</td>\n",
       "      <td>0</td>\n",
       "      <td>0</td>\n",
       "    </tr>\n",
       "    <tr>\n",
       "      <th>2</th>\n",
       "      <td>0</td>\n",
       "      <td>0</td>\n",
       "      <td>0</td>\n",
       "      <td>0</td>\n",
       "      <td>0</td>\n",
       "      <td>0</td>\n",
       "      <td>0</td>\n",
       "      <td>0</td>\n",
       "      <td>0</td>\n",
       "      <td>0</td>\n",
       "      <td>...</td>\n",
       "      <td>0</td>\n",
       "      <td>0</td>\n",
       "      <td>0</td>\n",
       "      <td>0</td>\n",
       "      <td>0</td>\n",
       "      <td>0</td>\n",
       "      <td>0</td>\n",
       "      <td>0</td>\n",
       "      <td>0</td>\n",
       "      <td>0</td>\n",
       "    </tr>\n",
       "    <tr>\n",
       "      <th>3</th>\n",
       "      <td>0</td>\n",
       "      <td>0</td>\n",
       "      <td>0</td>\n",
       "      <td>0</td>\n",
       "      <td>0</td>\n",
       "      <td>1</td>\n",
       "      <td>0</td>\n",
       "      <td>0</td>\n",
       "      <td>1</td>\n",
       "      <td>0</td>\n",
       "      <td>...</td>\n",
       "      <td>0</td>\n",
       "      <td>0</td>\n",
       "      <td>0</td>\n",
       "      <td>0</td>\n",
       "      <td>0</td>\n",
       "      <td>0</td>\n",
       "      <td>0</td>\n",
       "      <td>0</td>\n",
       "      <td>0</td>\n",
       "      <td>0</td>\n",
       "    </tr>\n",
       "    <tr>\n",
       "      <th>4</th>\n",
       "      <td>0</td>\n",
       "      <td>0</td>\n",
       "      <td>0</td>\n",
       "      <td>0</td>\n",
       "      <td>0</td>\n",
       "      <td>1</td>\n",
       "      <td>0</td>\n",
       "      <td>0</td>\n",
       "      <td>2</td>\n",
       "      <td>0</td>\n",
       "      <td>...</td>\n",
       "      <td>0</td>\n",
       "      <td>0</td>\n",
       "      <td>0</td>\n",
       "      <td>0</td>\n",
       "      <td>0</td>\n",
       "      <td>0</td>\n",
       "      <td>0</td>\n",
       "      <td>0</td>\n",
       "      <td>0</td>\n",
       "      <td>0</td>\n",
       "    </tr>\n",
       "    <tr>\n",
       "      <th>...</th>\n",
       "      <td>...</td>\n",
       "      <td>...</td>\n",
       "      <td>...</td>\n",
       "      <td>...</td>\n",
       "      <td>...</td>\n",
       "      <td>...</td>\n",
       "      <td>...</td>\n",
       "      <td>...</td>\n",
       "      <td>...</td>\n",
       "      <td>...</td>\n",
       "      <td>...</td>\n",
       "      <td>...</td>\n",
       "      <td>...</td>\n",
       "      <td>...</td>\n",
       "      <td>...</td>\n",
       "      <td>...</td>\n",
       "      <td>...</td>\n",
       "      <td>...</td>\n",
       "      <td>...</td>\n",
       "      <td>...</td>\n",
       "      <td>...</td>\n",
       "    </tr>\n",
       "    <tr>\n",
       "      <th>3403</th>\n",
       "      <td>0</td>\n",
       "      <td>0</td>\n",
       "      <td>0</td>\n",
       "      <td>0</td>\n",
       "      <td>0</td>\n",
       "      <td>0</td>\n",
       "      <td>0</td>\n",
       "      <td>0</td>\n",
       "      <td>0</td>\n",
       "      <td>0</td>\n",
       "      <td>...</td>\n",
       "      <td>0</td>\n",
       "      <td>0</td>\n",
       "      <td>63</td>\n",
       "      <td>79</td>\n",
       "      <td>253</td>\n",
       "      <td>252</td>\n",
       "      <td>0</td>\n",
       "      <td>0</td>\n",
       "      <td>0</td>\n",
       "      <td>0</td>\n",
       "    </tr>\n",
       "    <tr>\n",
       "      <th>3404</th>\n",
       "      <td>0</td>\n",
       "      <td>0</td>\n",
       "      <td>0</td>\n",
       "      <td>0</td>\n",
       "      <td>0</td>\n",
       "      <td>0</td>\n",
       "      <td>0</td>\n",
       "      <td>0</td>\n",
       "      <td>0</td>\n",
       "      <td>0</td>\n",
       "      <td>...</td>\n",
       "      <td>92</td>\n",
       "      <td>132</td>\n",
       "      <td>0</td>\n",
       "      <td>0</td>\n",
       "      <td>0</td>\n",
       "      <td>0</td>\n",
       "      <td>0</td>\n",
       "      <td>0</td>\n",
       "      <td>0</td>\n",
       "      <td>0</td>\n",
       "    </tr>\n",
       "    <tr>\n",
       "      <th>3405</th>\n",
       "      <td>0</td>\n",
       "      <td>0</td>\n",
       "      <td>0</td>\n",
       "      <td>0</td>\n",
       "      <td>0</td>\n",
       "      <td>0</td>\n",
       "      <td>0</td>\n",
       "      <td>0</td>\n",
       "      <td>0</td>\n",
       "      <td>0</td>\n",
       "      <td>...</td>\n",
       "      <td>145</td>\n",
       "      <td>112</td>\n",
       "      <td>0</td>\n",
       "      <td>0</td>\n",
       "      <td>0</td>\n",
       "      <td>0</td>\n",
       "      <td>68</td>\n",
       "      <td>114</td>\n",
       "      <td>126</td>\n",
       "      <td>128</td>\n",
       "    </tr>\n",
       "    <tr>\n",
       "      <th>3406</th>\n",
       "      <td>0</td>\n",
       "      <td>0</td>\n",
       "      <td>0</td>\n",
       "      <td>0</td>\n",
       "      <td>0</td>\n",
       "      <td>0</td>\n",
       "      <td>0</td>\n",
       "      <td>0</td>\n",
       "      <td>0</td>\n",
       "      <td>0</td>\n",
       "      <td>...</td>\n",
       "      <td>0</td>\n",
       "      <td>0</td>\n",
       "      <td>93</td>\n",
       "      <td>125</td>\n",
       "      <td>307</td>\n",
       "      <td>234</td>\n",
       "      <td>0</td>\n",
       "      <td>0</td>\n",
       "      <td>0</td>\n",
       "      <td>0</td>\n",
       "    </tr>\n",
       "    <tr>\n",
       "      <th>3407</th>\n",
       "      <td>0</td>\n",
       "      <td>0</td>\n",
       "      <td>0</td>\n",
       "      <td>0</td>\n",
       "      <td>0</td>\n",
       "      <td>0</td>\n",
       "      <td>0</td>\n",
       "      <td>0</td>\n",
       "      <td>0</td>\n",
       "      <td>0</td>\n",
       "      <td>...</td>\n",
       "      <td>0</td>\n",
       "      <td>0</td>\n",
       "      <td>106</td>\n",
       "      <td>485</td>\n",
       "      <td>1375</td>\n",
       "      <td>1159</td>\n",
       "      <td>0</td>\n",
       "      <td>0</td>\n",
       "      <td>0</td>\n",
       "      <td>0</td>\n",
       "    </tr>\n",
       "  </tbody>\n",
       "</table>\n",
       "<p>3408 rows × 125 columns</p>\n",
       "</div>"
      ],
      "text/plain": [
       "      mirror  sink  toilet seat  bath tub  towel  bed  dresser cabinet  \\\n",
       "0          0     0            0         0      0    1                0   \n",
       "1          0     0            0         0      0    0                0   \n",
       "2          0     0            0         0      0    0                0   \n",
       "3          0     0            0         0      0    1                0   \n",
       "4          0     0            0         0      0    1                0   \n",
       "...      ...   ...          ...       ...    ...  ...              ...   \n",
       "3403       0     0            0         0      0    0                0   \n",
       "3404       0     0            0         0      0    0                0   \n",
       "3405       0     0            0         0      0    0                0   \n",
       "3406       0     0            0         0      0    0                0   \n",
       "3407       0     0            0         0      0    0                0   \n",
       "\n",
       "      night table  table lamp  Tv screen  ...  val_90  val_91  val_92  val_93  \\\n",
       "0               0           0          0  ...       0       0       0       0   \n",
       "1               0           1          0  ...       0       0       0       0   \n",
       "2               0           0          0  ...       0       0       0       0   \n",
       "3               0           1          0  ...       0       0       0       0   \n",
       "4               0           2          0  ...       0       0       0       0   \n",
       "...           ...         ...        ...  ...     ...     ...     ...     ...   \n",
       "3403            0           0          0  ...       0       0      63      79   \n",
       "3404            0           0          0  ...      92     132       0       0   \n",
       "3405            0           0          0  ...     145     112       0       0   \n",
       "3406            0           0          0  ...       0       0      93     125   \n",
       "3407            0           0          0  ...       0       0     106     485   \n",
       "\n",
       "      val_94  val_95  val_96  val_97  val_98  val_99  \n",
       "0          0       0       0       0       0       0  \n",
       "1          0       0       0       0       0       0  \n",
       "2          0       0       0       0       0       0  \n",
       "3          0       0       0       0       0       0  \n",
       "4          0       0       0       0       0       0  \n",
       "...      ...     ...     ...     ...     ...     ...  \n",
       "3403     253     252       0       0       0       0  \n",
       "3404       0       0       0       0       0       0  \n",
       "3405       0       0      68     114     126     128  \n",
       "3406     307     234       0       0       0       0  \n",
       "3407    1375    1159       0       0       0       0  \n",
       "\n",
       "[3408 rows x 125 columns]"
      ]
     },
     "execution_count": 88,
     "metadata": {},
     "output_type": "execute_result"
    }
   ],
   "source": [
    "ip_train_2_samp = ip_train_2_samp.round().astype(int)\n",
    "ip_train_2_samp"
   ]
  },
  {
   "cell_type": "code",
   "execution_count": 89,
   "metadata": {
    "colab": {
     "base_uri": "https://localhost:8080/",
     "height": 402
    },
    "colab_type": "code",
    "executionInfo": {
     "elapsed": 572,
     "status": "ok",
     "timestamp": 1594929912876,
     "user": {
      "displayName": "technical tasks",
      "photoUrl": "",
      "userId": "05927116453551536656"
     },
     "user_tz": 240
    },
    "id": "xU8XwNEBdHnV",
    "outputId": "91ab7fc6-674a-4a4a-a04d-2d0ca88977e3"
   },
   "outputs": [
    {
     "data": {
      "text/html": [
       "<div>\n",
       "<style scoped>\n",
       "    .dataframe tbody tr th:only-of-type {\n",
       "        vertical-align: middle;\n",
       "    }\n",
       "\n",
       "    .dataframe tbody tr th {\n",
       "        vertical-align: top;\n",
       "    }\n",
       "\n",
       "    .dataframe thead th {\n",
       "        text-align: right;\n",
       "    }\n",
       "</style>\n",
       "<table border=\"1\" class=\"dataframe\">\n",
       "  <thead>\n",
       "    <tr style=\"text-align: right;\">\n",
       "      <th></th>\n",
       "      <th>Class</th>\n",
       "    </tr>\n",
       "  </thead>\n",
       "  <tbody>\n",
       "    <tr>\n",
       "      <th>0</th>\n",
       "      <td>1</td>\n",
       "    </tr>\n",
       "    <tr>\n",
       "      <th>1</th>\n",
       "      <td>3</td>\n",
       "    </tr>\n",
       "    <tr>\n",
       "      <th>2</th>\n",
       "      <td>3</td>\n",
       "    </tr>\n",
       "    <tr>\n",
       "      <th>3</th>\n",
       "      <td>1</td>\n",
       "    </tr>\n",
       "    <tr>\n",
       "      <th>4</th>\n",
       "      <td>1</td>\n",
       "    </tr>\n",
       "    <tr>\n",
       "      <th>...</th>\n",
       "      <td>...</td>\n",
       "    </tr>\n",
       "    <tr>\n",
       "      <th>3403</th>\n",
       "      <td>5</td>\n",
       "    </tr>\n",
       "    <tr>\n",
       "      <th>3404</th>\n",
       "      <td>5</td>\n",
       "    </tr>\n",
       "    <tr>\n",
       "      <th>3405</th>\n",
       "      <td>5</td>\n",
       "    </tr>\n",
       "    <tr>\n",
       "      <th>3406</th>\n",
       "      <td>5</td>\n",
       "    </tr>\n",
       "    <tr>\n",
       "      <th>3407</th>\n",
       "      <td>5</td>\n",
       "    </tr>\n",
       "  </tbody>\n",
       "</table>\n",
       "<p>3408 rows × 1 columns</p>\n",
       "</div>"
      ],
      "text/plain": [
       "      Class\n",
       "0         1\n",
       "1         3\n",
       "2         3\n",
       "3         1\n",
       "4         1\n",
       "...     ...\n",
       "3403      5\n",
       "3404      5\n",
       "3405      5\n",
       "3406      5\n",
       "3407      5\n",
       "\n",
       "[3408 rows x 1 columns]"
      ]
     },
     "execution_count": 89,
     "metadata": {},
     "output_type": "execute_result"
    }
   ],
   "source": [
    "op_train_2_samp"
   ]
  },
  {
   "cell_type": "markdown",
   "metadata": {
    "colab_type": "text",
    "id": "HmpXr9dSb-Qq"
   },
   "source": [
    "## Converting the Output data to categorical"
   ]
  },
  {
   "cell_type": "markdown",
   "metadata": {
    "colab_type": "text",
    "id": "1Gy3-S_Kcg8J"
   },
   "source": [
    "### For **Dataset_1**"
   ]
  },
  {
   "cell_type": "code",
   "execution_count": 90,
   "metadata": {
    "colab": {},
    "colab_type": "code",
    "id": "DWt5BvwVXfqg"
   },
   "outputs": [],
   "source": [
    "op_train_1_samp=to_categorical(op_train_1_samp)\n",
    "op_test_1_cat= to_categorical(op_test_1)"
   ]
  },
  {
   "cell_type": "code",
   "execution_count": 91,
   "metadata": {
    "colab": {},
    "colab_type": "code",
    "collapsed": true,
    "id": "RLntcH17Xfqj"
   },
   "outputs": [
    {
     "data": {
      "text/plain": [
       "array([[0., 1., 0., 0., 0., 0.],\n",
       "       [0., 0., 0., 1., 0., 0.],\n",
       "       [0., 0., 0., 1., 0., 0.],\n",
       "       ...,\n",
       "       [0., 0., 0., 0., 0., 1.],\n",
       "       [0., 0., 0., 0., 0., 1.],\n",
       "       [0., 0., 0., 0., 0., 1.]], dtype=float32)"
      ]
     },
     "execution_count": 91,
     "metadata": {},
     "output_type": "execute_result"
    }
   ],
   "source": [
    "op_train_1_samp"
   ]
  },
  {
   "cell_type": "code",
   "execution_count": 92,
   "metadata": {
    "colab": {},
    "colab_type": "code",
    "collapsed": true,
    "id": "ShWhg9GpuZ-c"
   },
   "outputs": [
    {
     "data": {
      "text/plain": [
       "array([[0., 0., 1., 0., 0., 0.],\n",
       "       [0., 1., 0., 0., 0., 0.],\n",
       "       [0., 1., 0., 0., 0., 0.],\n",
       "       ...,\n",
       "       [0., 0., 0., 0., 0., 1.],\n",
       "       [0., 0., 1., 0., 0., 0.],\n",
       "       [0., 0., 1., 0., 0., 0.]], dtype=float32)"
      ]
     },
     "execution_count": 92,
     "metadata": {},
     "output_type": "execute_result"
    }
   ],
   "source": [
    "op_test_1_cat"
   ]
  },
  {
   "cell_type": "markdown",
   "metadata": {
    "colab_type": "text",
    "id": "Xs88a952clzq"
   },
   "source": [
    "### For **Dataset_2**"
   ]
  },
  {
   "cell_type": "code",
   "execution_count": 93,
   "metadata": {
    "colab": {},
    "colab_type": "code",
    "id": "Gp422HSCcI1R"
   },
   "outputs": [],
   "source": [
    "op_train_2_samp=to_categorical(op_train_2_samp)\n",
    "op_test_2_cat= to_categorical(op_test_2)"
   ]
  },
  {
   "cell_type": "code",
   "execution_count": 94,
   "metadata": {
    "colab": {},
    "colab_type": "code",
    "collapsed": true,
    "id": "7XBHCmfNcIh2"
   },
   "outputs": [
    {
     "data": {
      "text/plain": [
       "array([[0., 1., 0., 0., 0., 0.],\n",
       "       [0., 0., 0., 1., 0., 0.],\n",
       "       [0., 0., 0., 1., 0., 0.],\n",
       "       ...,\n",
       "       [0., 0., 0., 0., 0., 1.],\n",
       "       [0., 0., 0., 0., 0., 1.],\n",
       "       [0., 0., 0., 0., 0., 1.]], dtype=float32)"
      ]
     },
     "execution_count": 94,
     "metadata": {},
     "output_type": "execute_result"
    }
   ],
   "source": [
    "op_train_2_samp"
   ]
  },
  {
   "cell_type": "code",
   "execution_count": 95,
   "metadata": {
    "colab": {},
    "colab_type": "code",
    "collapsed": true,
    "id": "554FWF4rvr03"
   },
   "outputs": [
    {
     "data": {
      "text/plain": [
       "array([[0., 0., 1., 0., 0., 0.],\n",
       "       [0., 1., 0., 0., 0., 0.],\n",
       "       [0., 1., 0., 0., 0., 0.],\n",
       "       ...,\n",
       "       [0., 0., 0., 0., 0., 1.],\n",
       "       [0., 0., 1., 0., 0., 0.],\n",
       "       [0., 0., 1., 0., 0., 0.]], dtype=float32)"
      ]
     },
     "execution_count": 95,
     "metadata": {},
     "output_type": "execute_result"
    }
   ],
   "source": [
    "op_test_2_cat"
   ]
  },
  {
   "cell_type": "markdown",
   "metadata": {
    "colab_type": "text",
    "id": "W-HcCCvHXfqr"
   },
   "source": [
    "## Normalizing the dataset "
   ]
  },
  {
   "cell_type": "markdown",
   "metadata": {
    "colab_type": "text",
    "id": "sKd6ZBIvdsnc"
   },
   "source": [
    "### For **Dataset_1**"
   ]
  },
  {
   "cell_type": "code",
   "execution_count": 96,
   "metadata": {
    "colab": {},
    "colab_type": "code",
    "id": "ab-mAKSEXfqs"
   },
   "outputs": [],
   "source": [
    "x = ip_train_1_samp.values #returns a numpy array\n",
    "min_max_scaler = preprocessing.MinMaxScaler()\n",
    "x_scaled = min_max_scaler.fit_transform(x)\n",
    "ip_train_Nor = pd.DataFrame(x_scaled,columns=ip_train_1_samp.columns)"
   ]
  },
  {
   "cell_type": "code",
   "execution_count": 97,
   "metadata": {
    "colab": {
     "base_uri": "https://localhost:8080/",
     "height": 455
    },
    "colab_type": "code",
    "executionInfo": {
     "elapsed": 1079,
     "status": "ok",
     "timestamp": 1594929941588,
     "user": {
      "displayName": "technical tasks",
      "photoUrl": "",
      "userId": "05927116453551536656"
     },
     "user_tz": 240
    },
    "id": "5bbqi4naXfqu",
    "outputId": "1bc96da9-ce8f-4d0d-8798-f9090d2885c5",
    "scrolled": true
   },
   "outputs": [
    {
     "data": {
      "text/html": [
       "<div>\n",
       "<style scoped>\n",
       "    .dataframe tbody tr th:only-of-type {\n",
       "        vertical-align: middle;\n",
       "    }\n",
       "\n",
       "    .dataframe tbody tr th {\n",
       "        vertical-align: top;\n",
       "    }\n",
       "\n",
       "    .dataframe thead th {\n",
       "        text-align: right;\n",
       "    }\n",
       "</style>\n",
       "<table border=\"1\" class=\"dataframe\">\n",
       "  <thead>\n",
       "    <tr style=\"text-align: right;\">\n",
       "      <th></th>\n",
       "      <th>mirror</th>\n",
       "      <th>sink</th>\n",
       "      <th>toilet seat</th>\n",
       "      <th>bath tub</th>\n",
       "      <th>towel</th>\n",
       "      <th>bed</th>\n",
       "      <th>dresser cabinet</th>\n",
       "      <th>night table</th>\n",
       "      <th>table lamp</th>\n",
       "      <th>Tv screen</th>\n",
       "      <th>...</th>\n",
       "      <th>vase</th>\n",
       "      <th>refrigerator</th>\n",
       "      <th>oven</th>\n",
       "      <th>range hood</th>\n",
       "      <th>chair</th>\n",
       "      <th>printer</th>\n",
       "      <th>computer</th>\n",
       "      <th>Monitor</th>\n",
       "      <th>Desk</th>\n",
       "      <th>keyboard</th>\n",
       "    </tr>\n",
       "  </thead>\n",
       "  <tbody>\n",
       "    <tr>\n",
       "      <th>0</th>\n",
       "      <td>0.0</td>\n",
       "      <td>0.0</td>\n",
       "      <td>0.0</td>\n",
       "      <td>0.0</td>\n",
       "      <td>0.0</td>\n",
       "      <td>0.5</td>\n",
       "      <td>0.0</td>\n",
       "      <td>0.0</td>\n",
       "      <td>0.00</td>\n",
       "      <td>0.0</td>\n",
       "      <td>...</td>\n",
       "      <td>0.000000</td>\n",
       "      <td>0.0</td>\n",
       "      <td>0.0</td>\n",
       "      <td>0.0</td>\n",
       "      <td>0.00</td>\n",
       "      <td>0.0</td>\n",
       "      <td>0.0</td>\n",
       "      <td>0.0</td>\n",
       "      <td>0.0</td>\n",
       "      <td>0.0</td>\n",
       "    </tr>\n",
       "    <tr>\n",
       "      <th>1</th>\n",
       "      <td>0.0</td>\n",
       "      <td>0.0</td>\n",
       "      <td>0.0</td>\n",
       "      <td>0.0</td>\n",
       "      <td>0.0</td>\n",
       "      <td>0.0</td>\n",
       "      <td>0.0</td>\n",
       "      <td>0.0</td>\n",
       "      <td>0.25</td>\n",
       "      <td>0.0</td>\n",
       "      <td>...</td>\n",
       "      <td>0.000000</td>\n",
       "      <td>0.0</td>\n",
       "      <td>0.0</td>\n",
       "      <td>0.0</td>\n",
       "      <td>0.00</td>\n",
       "      <td>0.0</td>\n",
       "      <td>0.0</td>\n",
       "      <td>0.0</td>\n",
       "      <td>0.0</td>\n",
       "      <td>0.0</td>\n",
       "    </tr>\n",
       "    <tr>\n",
       "      <th>2</th>\n",
       "      <td>0.0</td>\n",
       "      <td>0.0</td>\n",
       "      <td>0.0</td>\n",
       "      <td>0.0</td>\n",
       "      <td>0.0</td>\n",
       "      <td>0.0</td>\n",
       "      <td>0.0</td>\n",
       "      <td>0.0</td>\n",
       "      <td>0.00</td>\n",
       "      <td>0.0</td>\n",
       "      <td>...</td>\n",
       "      <td>0.333333</td>\n",
       "      <td>0.0</td>\n",
       "      <td>0.0</td>\n",
       "      <td>0.0</td>\n",
       "      <td>0.00</td>\n",
       "      <td>0.0</td>\n",
       "      <td>0.0</td>\n",
       "      <td>0.0</td>\n",
       "      <td>0.0</td>\n",
       "      <td>0.0</td>\n",
       "    </tr>\n",
       "    <tr>\n",
       "      <th>3</th>\n",
       "      <td>0.0</td>\n",
       "      <td>0.0</td>\n",
       "      <td>0.0</td>\n",
       "      <td>0.0</td>\n",
       "      <td>0.0</td>\n",
       "      <td>0.5</td>\n",
       "      <td>0.0</td>\n",
       "      <td>0.0</td>\n",
       "      <td>0.25</td>\n",
       "      <td>0.0</td>\n",
       "      <td>...</td>\n",
       "      <td>0.000000</td>\n",
       "      <td>0.0</td>\n",
       "      <td>0.0</td>\n",
       "      <td>0.0</td>\n",
       "      <td>0.25</td>\n",
       "      <td>0.0</td>\n",
       "      <td>0.0</td>\n",
       "      <td>0.0</td>\n",
       "      <td>0.0</td>\n",
       "      <td>0.0</td>\n",
       "    </tr>\n",
       "    <tr>\n",
       "      <th>4</th>\n",
       "      <td>0.0</td>\n",
       "      <td>0.0</td>\n",
       "      <td>0.0</td>\n",
       "      <td>0.0</td>\n",
       "      <td>0.0</td>\n",
       "      <td>0.5</td>\n",
       "      <td>0.0</td>\n",
       "      <td>0.0</td>\n",
       "      <td>0.50</td>\n",
       "      <td>0.0</td>\n",
       "      <td>...</td>\n",
       "      <td>0.000000</td>\n",
       "      <td>0.0</td>\n",
       "      <td>0.0</td>\n",
       "      <td>0.0</td>\n",
       "      <td>0.25</td>\n",
       "      <td>0.0</td>\n",
       "      <td>0.0</td>\n",
       "      <td>0.0</td>\n",
       "      <td>0.0</td>\n",
       "      <td>0.0</td>\n",
       "    </tr>\n",
       "    <tr>\n",
       "      <th>...</th>\n",
       "      <td>...</td>\n",
       "      <td>...</td>\n",
       "      <td>...</td>\n",
       "      <td>...</td>\n",
       "      <td>...</td>\n",
       "      <td>...</td>\n",
       "      <td>...</td>\n",
       "      <td>...</td>\n",
       "      <td>...</td>\n",
       "      <td>...</td>\n",
       "      <td>...</td>\n",
       "      <td>...</td>\n",
       "      <td>...</td>\n",
       "      <td>...</td>\n",
       "      <td>...</td>\n",
       "      <td>...</td>\n",
       "      <td>...</td>\n",
       "      <td>...</td>\n",
       "      <td>...</td>\n",
       "      <td>...</td>\n",
       "      <td>...</td>\n",
       "    </tr>\n",
       "    <tr>\n",
       "      <th>3403</th>\n",
       "      <td>0.0</td>\n",
       "      <td>0.0</td>\n",
       "      <td>0.0</td>\n",
       "      <td>0.0</td>\n",
       "      <td>0.0</td>\n",
       "      <td>0.0</td>\n",
       "      <td>0.0</td>\n",
       "      <td>0.0</td>\n",
       "      <td>0.00</td>\n",
       "      <td>0.0</td>\n",
       "      <td>...</td>\n",
       "      <td>0.000000</td>\n",
       "      <td>0.0</td>\n",
       "      <td>0.0</td>\n",
       "      <td>0.0</td>\n",
       "      <td>0.25</td>\n",
       "      <td>0.0</td>\n",
       "      <td>0.0</td>\n",
       "      <td>0.0</td>\n",
       "      <td>1.0</td>\n",
       "      <td>0.0</td>\n",
       "    </tr>\n",
       "    <tr>\n",
       "      <th>3404</th>\n",
       "      <td>0.0</td>\n",
       "      <td>0.0</td>\n",
       "      <td>0.0</td>\n",
       "      <td>0.0</td>\n",
       "      <td>0.0</td>\n",
       "      <td>0.0</td>\n",
       "      <td>0.0</td>\n",
       "      <td>0.0</td>\n",
       "      <td>0.00</td>\n",
       "      <td>0.0</td>\n",
       "      <td>...</td>\n",
       "      <td>0.000000</td>\n",
       "      <td>0.0</td>\n",
       "      <td>0.0</td>\n",
       "      <td>0.0</td>\n",
       "      <td>0.25</td>\n",
       "      <td>0.0</td>\n",
       "      <td>0.0</td>\n",
       "      <td>0.2</td>\n",
       "      <td>0.0</td>\n",
       "      <td>0.0</td>\n",
       "    </tr>\n",
       "    <tr>\n",
       "      <th>3405</th>\n",
       "      <td>0.0</td>\n",
       "      <td>0.0</td>\n",
       "      <td>0.0</td>\n",
       "      <td>0.0</td>\n",
       "      <td>0.0</td>\n",
       "      <td>0.0</td>\n",
       "      <td>0.0</td>\n",
       "      <td>0.0</td>\n",
       "      <td>0.00</td>\n",
       "      <td>0.0</td>\n",
       "      <td>...</td>\n",
       "      <td>0.000000</td>\n",
       "      <td>0.0</td>\n",
       "      <td>0.0</td>\n",
       "      <td>0.0</td>\n",
       "      <td>0.25</td>\n",
       "      <td>0.5</td>\n",
       "      <td>0.5</td>\n",
       "      <td>0.4</td>\n",
       "      <td>0.0</td>\n",
       "      <td>0.5</td>\n",
       "    </tr>\n",
       "    <tr>\n",
       "      <th>3406</th>\n",
       "      <td>0.0</td>\n",
       "      <td>0.0</td>\n",
       "      <td>0.0</td>\n",
       "      <td>0.0</td>\n",
       "      <td>0.0</td>\n",
       "      <td>0.0</td>\n",
       "      <td>0.0</td>\n",
       "      <td>0.0</td>\n",
       "      <td>0.00</td>\n",
       "      <td>0.0</td>\n",
       "      <td>...</td>\n",
       "      <td>0.000000</td>\n",
       "      <td>0.0</td>\n",
       "      <td>0.0</td>\n",
       "      <td>0.0</td>\n",
       "      <td>0.25</td>\n",
       "      <td>0.0</td>\n",
       "      <td>0.0</td>\n",
       "      <td>0.0</td>\n",
       "      <td>1.0</td>\n",
       "      <td>0.0</td>\n",
       "    </tr>\n",
       "    <tr>\n",
       "      <th>3407</th>\n",
       "      <td>0.0</td>\n",
       "      <td>0.0</td>\n",
       "      <td>0.0</td>\n",
       "      <td>0.0</td>\n",
       "      <td>0.0</td>\n",
       "      <td>0.0</td>\n",
       "      <td>0.0</td>\n",
       "      <td>0.0</td>\n",
       "      <td>0.00</td>\n",
       "      <td>0.0</td>\n",
       "      <td>...</td>\n",
       "      <td>0.000000</td>\n",
       "      <td>0.0</td>\n",
       "      <td>0.0</td>\n",
       "      <td>0.0</td>\n",
       "      <td>0.25</td>\n",
       "      <td>0.0</td>\n",
       "      <td>0.0</td>\n",
       "      <td>0.0</td>\n",
       "      <td>1.0</td>\n",
       "      <td>0.0</td>\n",
       "    </tr>\n",
       "  </tbody>\n",
       "</table>\n",
       "<p>3408 rows × 25 columns</p>\n",
       "</div>"
      ],
      "text/plain": [
       "      mirror  sink  toilet seat  bath tub  towel  bed  dresser cabinet  \\\n",
       "0        0.0   0.0          0.0       0.0    0.0  0.5              0.0   \n",
       "1        0.0   0.0          0.0       0.0    0.0  0.0              0.0   \n",
       "2        0.0   0.0          0.0       0.0    0.0  0.0              0.0   \n",
       "3        0.0   0.0          0.0       0.0    0.0  0.5              0.0   \n",
       "4        0.0   0.0          0.0       0.0    0.0  0.5              0.0   \n",
       "...      ...   ...          ...       ...    ...  ...              ...   \n",
       "3403     0.0   0.0          0.0       0.0    0.0  0.0              0.0   \n",
       "3404     0.0   0.0          0.0       0.0    0.0  0.0              0.0   \n",
       "3405     0.0   0.0          0.0       0.0    0.0  0.0              0.0   \n",
       "3406     0.0   0.0          0.0       0.0    0.0  0.0              0.0   \n",
       "3407     0.0   0.0          0.0       0.0    0.0  0.0              0.0   \n",
       "\n",
       "      night table  table lamp  Tv screen  ...      vase  refrigerator  oven  \\\n",
       "0             0.0        0.00        0.0  ...  0.000000           0.0   0.0   \n",
       "1             0.0        0.25        0.0  ...  0.000000           0.0   0.0   \n",
       "2             0.0        0.00        0.0  ...  0.333333           0.0   0.0   \n",
       "3             0.0        0.25        0.0  ...  0.000000           0.0   0.0   \n",
       "4             0.0        0.50        0.0  ...  0.000000           0.0   0.0   \n",
       "...           ...         ...        ...  ...       ...           ...   ...   \n",
       "3403          0.0        0.00        0.0  ...  0.000000           0.0   0.0   \n",
       "3404          0.0        0.00        0.0  ...  0.000000           0.0   0.0   \n",
       "3405          0.0        0.00        0.0  ...  0.000000           0.0   0.0   \n",
       "3406          0.0        0.00        0.0  ...  0.000000           0.0   0.0   \n",
       "3407          0.0        0.00        0.0  ...  0.000000           0.0   0.0   \n",
       "\n",
       "      range hood  chair  printer  computer  Monitor  Desk  keyboard  \n",
       "0            0.0   0.00      0.0       0.0      0.0   0.0       0.0  \n",
       "1            0.0   0.00      0.0       0.0      0.0   0.0       0.0  \n",
       "2            0.0   0.00      0.0       0.0      0.0   0.0       0.0  \n",
       "3            0.0   0.25      0.0       0.0      0.0   0.0       0.0  \n",
       "4            0.0   0.25      0.0       0.0      0.0   0.0       0.0  \n",
       "...          ...    ...      ...       ...      ...   ...       ...  \n",
       "3403         0.0   0.25      0.0       0.0      0.0   1.0       0.0  \n",
       "3404         0.0   0.25      0.0       0.0      0.2   0.0       0.0  \n",
       "3405         0.0   0.25      0.5       0.5      0.4   0.0       0.5  \n",
       "3406         0.0   0.25      0.0       0.0      0.0   1.0       0.0  \n",
       "3407         0.0   0.25      0.0       0.0      0.0   1.0       0.0  \n",
       "\n",
       "[3408 rows x 25 columns]"
      ]
     },
     "execution_count": 97,
     "metadata": {},
     "output_type": "execute_result"
    }
   ],
   "source": [
    "ip_train_Nor"
   ]
  },
  {
   "cell_type": "code",
   "execution_count": 98,
   "metadata": {
    "colab": {},
    "colab_type": "code",
    "id": "W-JR5voSujmP"
   },
   "outputs": [],
   "source": [
    "ip_test_1_samp=ip_test_1\n",
    "x = ip_test_1_samp.values #returns a numpy array\n",
    "min_max_scaler = preprocessing.MinMaxScaler()\n",
    "x_scaled = min_max_scaler.fit_transform(x)\n",
    "ip_test_Nor = pd.DataFrame(x_scaled,columns=ip_test_1_samp.columns)"
   ]
  },
  {
   "cell_type": "code",
   "execution_count": 99,
   "metadata": {
    "colab": {
     "base_uri": "https://localhost:8080/",
     "height": 455
    },
    "colab_type": "code",
    "executionInfo": {
     "elapsed": 1362,
     "status": "ok",
     "timestamp": 1594930578342,
     "user": {
      "displayName": "technical tasks",
      "photoUrl": "",
      "userId": "05927116453551536656"
     },
     "user_tz": 240
    },
    "id": "p1M59uwMujK-",
    "outputId": "68dab996-b046-43da-a4bf-5bc1b9a3ac86"
   },
   "outputs": [
    {
     "data": {
      "text/html": [
       "<div>\n",
       "<style scoped>\n",
       "    .dataframe tbody tr th:only-of-type {\n",
       "        vertical-align: middle;\n",
       "    }\n",
       "\n",
       "    .dataframe tbody tr th {\n",
       "        vertical-align: top;\n",
       "    }\n",
       "\n",
       "    .dataframe thead th {\n",
       "        text-align: right;\n",
       "    }\n",
       "</style>\n",
       "<table border=\"1\" class=\"dataframe\">\n",
       "  <thead>\n",
       "    <tr style=\"text-align: right;\">\n",
       "      <th></th>\n",
       "      <th>mirror</th>\n",
       "      <th>sink</th>\n",
       "      <th>toilet seat</th>\n",
       "      <th>bath tub</th>\n",
       "      <th>towel</th>\n",
       "      <th>bed</th>\n",
       "      <th>dresser cabinet</th>\n",
       "      <th>night table</th>\n",
       "      <th>table lamp</th>\n",
       "      <th>Tv screen</th>\n",
       "      <th>...</th>\n",
       "      <th>vase</th>\n",
       "      <th>refrigerator</th>\n",
       "      <th>oven</th>\n",
       "      <th>range hood</th>\n",
       "      <th>chair</th>\n",
       "      <th>printer</th>\n",
       "      <th>computer</th>\n",
       "      <th>Monitor</th>\n",
       "      <th>Desk</th>\n",
       "      <th>keyboard</th>\n",
       "    </tr>\n",
       "  </thead>\n",
       "  <tbody>\n",
       "    <tr>\n",
       "      <th>0</th>\n",
       "      <td>0.0</td>\n",
       "      <td>0.0</td>\n",
       "      <td>0.0</td>\n",
       "      <td>0.0</td>\n",
       "      <td>0.0</td>\n",
       "      <td>0.0</td>\n",
       "      <td>0.0</td>\n",
       "      <td>0.0</td>\n",
       "      <td>0.0</td>\n",
       "      <td>0.0</td>\n",
       "      <td>...</td>\n",
       "      <td>0.0</td>\n",
       "      <td>0.0</td>\n",
       "      <td>0.0</td>\n",
       "      <td>0.0</td>\n",
       "      <td>0.000000</td>\n",
       "      <td>0.0</td>\n",
       "      <td>0.0</td>\n",
       "      <td>0.0</td>\n",
       "      <td>0.0</td>\n",
       "      <td>0.0</td>\n",
       "    </tr>\n",
       "    <tr>\n",
       "      <th>1</th>\n",
       "      <td>0.0</td>\n",
       "      <td>0.0</td>\n",
       "      <td>0.0</td>\n",
       "      <td>0.0</td>\n",
       "      <td>0.0</td>\n",
       "      <td>1.0</td>\n",
       "      <td>0.0</td>\n",
       "      <td>0.0</td>\n",
       "      <td>0.0</td>\n",
       "      <td>0.0</td>\n",
       "      <td>...</td>\n",
       "      <td>0.0</td>\n",
       "      <td>0.0</td>\n",
       "      <td>0.0</td>\n",
       "      <td>0.0</td>\n",
       "      <td>0.000000</td>\n",
       "      <td>0.0</td>\n",
       "      <td>0.0</td>\n",
       "      <td>0.0</td>\n",
       "      <td>0.0</td>\n",
       "      <td>0.0</td>\n",
       "    </tr>\n",
       "    <tr>\n",
       "      <th>2</th>\n",
       "      <td>0.0</td>\n",
       "      <td>0.0</td>\n",
       "      <td>0.0</td>\n",
       "      <td>0.0</td>\n",
       "      <td>0.0</td>\n",
       "      <td>1.0</td>\n",
       "      <td>0.0</td>\n",
       "      <td>0.0</td>\n",
       "      <td>1.0</td>\n",
       "      <td>0.0</td>\n",
       "      <td>...</td>\n",
       "      <td>0.0</td>\n",
       "      <td>0.0</td>\n",
       "      <td>0.0</td>\n",
       "      <td>0.0</td>\n",
       "      <td>0.333333</td>\n",
       "      <td>0.0</td>\n",
       "      <td>0.0</td>\n",
       "      <td>0.0</td>\n",
       "      <td>0.0</td>\n",
       "      <td>0.0</td>\n",
       "    </tr>\n",
       "    <tr>\n",
       "      <th>3</th>\n",
       "      <td>0.0</td>\n",
       "      <td>0.0</td>\n",
       "      <td>0.0</td>\n",
       "      <td>0.0</td>\n",
       "      <td>0.0</td>\n",
       "      <td>0.0</td>\n",
       "      <td>0.0</td>\n",
       "      <td>0.0</td>\n",
       "      <td>0.0</td>\n",
       "      <td>0.0</td>\n",
       "      <td>...</td>\n",
       "      <td>0.0</td>\n",
       "      <td>0.0</td>\n",
       "      <td>0.5</td>\n",
       "      <td>0.5</td>\n",
       "      <td>0.000000</td>\n",
       "      <td>0.0</td>\n",
       "      <td>0.0</td>\n",
       "      <td>0.0</td>\n",
       "      <td>0.0</td>\n",
       "      <td>0.0</td>\n",
       "    </tr>\n",
       "    <tr>\n",
       "      <th>4</th>\n",
       "      <td>0.0</td>\n",
       "      <td>0.0</td>\n",
       "      <td>0.0</td>\n",
       "      <td>0.0</td>\n",
       "      <td>0.0</td>\n",
       "      <td>1.0</td>\n",
       "      <td>0.0</td>\n",
       "      <td>0.5</td>\n",
       "      <td>0.5</td>\n",
       "      <td>0.0</td>\n",
       "      <td>...</td>\n",
       "      <td>0.0</td>\n",
       "      <td>0.0</td>\n",
       "      <td>0.0</td>\n",
       "      <td>0.0</td>\n",
       "      <td>0.333333</td>\n",
       "      <td>0.0</td>\n",
       "      <td>0.0</td>\n",
       "      <td>0.0</td>\n",
       "      <td>0.0</td>\n",
       "      <td>0.0</td>\n",
       "    </tr>\n",
       "    <tr>\n",
       "      <th>...</th>\n",
       "      <td>...</td>\n",
       "      <td>...</td>\n",
       "      <td>...</td>\n",
       "      <td>...</td>\n",
       "      <td>...</td>\n",
       "      <td>...</td>\n",
       "      <td>...</td>\n",
       "      <td>...</td>\n",
       "      <td>...</td>\n",
       "      <td>...</td>\n",
       "      <td>...</td>\n",
       "      <td>...</td>\n",
       "      <td>...</td>\n",
       "      <td>...</td>\n",
       "      <td>...</td>\n",
       "      <td>...</td>\n",
       "      <td>...</td>\n",
       "      <td>...</td>\n",
       "      <td>...</td>\n",
       "      <td>...</td>\n",
       "      <td>...</td>\n",
       "    </tr>\n",
       "    <tr>\n",
       "      <th>345</th>\n",
       "      <td>0.0</td>\n",
       "      <td>0.0</td>\n",
       "      <td>0.0</td>\n",
       "      <td>0.0</td>\n",
       "      <td>0.0</td>\n",
       "      <td>1.0</td>\n",
       "      <td>1.0</td>\n",
       "      <td>0.5</td>\n",
       "      <td>0.0</td>\n",
       "      <td>0.0</td>\n",
       "      <td>...</td>\n",
       "      <td>0.0</td>\n",
       "      <td>0.0</td>\n",
       "      <td>0.0</td>\n",
       "      <td>0.0</td>\n",
       "      <td>0.000000</td>\n",
       "      <td>0.0</td>\n",
       "      <td>0.0</td>\n",
       "      <td>0.0</td>\n",
       "      <td>0.0</td>\n",
       "      <td>0.0</td>\n",
       "    </tr>\n",
       "    <tr>\n",
       "      <th>346</th>\n",
       "      <td>0.0</td>\n",
       "      <td>0.0</td>\n",
       "      <td>0.0</td>\n",
       "      <td>0.0</td>\n",
       "      <td>0.0</td>\n",
       "      <td>0.0</td>\n",
       "      <td>0.0</td>\n",
       "      <td>0.0</td>\n",
       "      <td>0.0</td>\n",
       "      <td>0.0</td>\n",
       "      <td>...</td>\n",
       "      <td>0.0</td>\n",
       "      <td>0.0</td>\n",
       "      <td>0.0</td>\n",
       "      <td>0.0</td>\n",
       "      <td>0.000000</td>\n",
       "      <td>0.0</td>\n",
       "      <td>0.0</td>\n",
       "      <td>0.0</td>\n",
       "      <td>0.0</td>\n",
       "      <td>0.0</td>\n",
       "    </tr>\n",
       "    <tr>\n",
       "      <th>347</th>\n",
       "      <td>0.0</td>\n",
       "      <td>0.0</td>\n",
       "      <td>0.0</td>\n",
       "      <td>0.0</td>\n",
       "      <td>0.0</td>\n",
       "      <td>0.0</td>\n",
       "      <td>0.0</td>\n",
       "      <td>0.0</td>\n",
       "      <td>0.0</td>\n",
       "      <td>0.0</td>\n",
       "      <td>...</td>\n",
       "      <td>0.0</td>\n",
       "      <td>0.0</td>\n",
       "      <td>0.0</td>\n",
       "      <td>0.0</td>\n",
       "      <td>0.333333</td>\n",
       "      <td>0.0</td>\n",
       "      <td>0.0</td>\n",
       "      <td>0.2</td>\n",
       "      <td>1.0</td>\n",
       "      <td>0.5</td>\n",
       "    </tr>\n",
       "    <tr>\n",
       "      <th>348</th>\n",
       "      <td>0.0</td>\n",
       "      <td>0.0</td>\n",
       "      <td>0.0</td>\n",
       "      <td>0.0</td>\n",
       "      <td>0.0</td>\n",
       "      <td>0.0</td>\n",
       "      <td>0.0</td>\n",
       "      <td>0.0</td>\n",
       "      <td>0.0</td>\n",
       "      <td>0.0</td>\n",
       "      <td>...</td>\n",
       "      <td>0.0</td>\n",
       "      <td>0.0</td>\n",
       "      <td>0.0</td>\n",
       "      <td>0.0</td>\n",
       "      <td>0.000000</td>\n",
       "      <td>0.0</td>\n",
       "      <td>0.0</td>\n",
       "      <td>0.0</td>\n",
       "      <td>0.0</td>\n",
       "      <td>0.0</td>\n",
       "    </tr>\n",
       "    <tr>\n",
       "      <th>349</th>\n",
       "      <td>0.0</td>\n",
       "      <td>0.0</td>\n",
       "      <td>0.0</td>\n",
       "      <td>0.0</td>\n",
       "      <td>0.0</td>\n",
       "      <td>0.0</td>\n",
       "      <td>0.0</td>\n",
       "      <td>0.0</td>\n",
       "      <td>0.0</td>\n",
       "      <td>0.0</td>\n",
       "      <td>...</td>\n",
       "      <td>0.0</td>\n",
       "      <td>0.0</td>\n",
       "      <td>0.0</td>\n",
       "      <td>0.0</td>\n",
       "      <td>0.000000</td>\n",
       "      <td>0.0</td>\n",
       "      <td>0.0</td>\n",
       "      <td>0.0</td>\n",
       "      <td>0.0</td>\n",
       "      <td>0.0</td>\n",
       "    </tr>\n",
       "  </tbody>\n",
       "</table>\n",
       "<p>350 rows × 25 columns</p>\n",
       "</div>"
      ],
      "text/plain": [
       "     mirror  sink  toilet seat  bath tub  towel  bed  dresser cabinet  \\\n",
       "0       0.0   0.0          0.0       0.0    0.0  0.0              0.0   \n",
       "1       0.0   0.0          0.0       0.0    0.0  1.0              0.0   \n",
       "2       0.0   0.0          0.0       0.0    0.0  1.0              0.0   \n",
       "3       0.0   0.0          0.0       0.0    0.0  0.0              0.0   \n",
       "4       0.0   0.0          0.0       0.0    0.0  1.0              0.0   \n",
       "..      ...   ...          ...       ...    ...  ...              ...   \n",
       "345     0.0   0.0          0.0       0.0    0.0  1.0              1.0   \n",
       "346     0.0   0.0          0.0       0.0    0.0  0.0              0.0   \n",
       "347     0.0   0.0          0.0       0.0    0.0  0.0              0.0   \n",
       "348     0.0   0.0          0.0       0.0    0.0  0.0              0.0   \n",
       "349     0.0   0.0          0.0       0.0    0.0  0.0              0.0   \n",
       "\n",
       "     night table  table lamp  Tv screen  ...  vase  refrigerator  oven  \\\n",
       "0            0.0         0.0        0.0  ...   0.0           0.0   0.0   \n",
       "1            0.0         0.0        0.0  ...   0.0           0.0   0.0   \n",
       "2            0.0         1.0        0.0  ...   0.0           0.0   0.0   \n",
       "3            0.0         0.0        0.0  ...   0.0           0.0   0.5   \n",
       "4            0.5         0.5        0.0  ...   0.0           0.0   0.0   \n",
       "..           ...         ...        ...  ...   ...           ...   ...   \n",
       "345          0.5         0.0        0.0  ...   0.0           0.0   0.0   \n",
       "346          0.0         0.0        0.0  ...   0.0           0.0   0.0   \n",
       "347          0.0         0.0        0.0  ...   0.0           0.0   0.0   \n",
       "348          0.0         0.0        0.0  ...   0.0           0.0   0.0   \n",
       "349          0.0         0.0        0.0  ...   0.0           0.0   0.0   \n",
       "\n",
       "     range hood     chair  printer  computer  Monitor  Desk  keyboard  \n",
       "0           0.0  0.000000      0.0       0.0      0.0   0.0       0.0  \n",
       "1           0.0  0.000000      0.0       0.0      0.0   0.0       0.0  \n",
       "2           0.0  0.333333      0.0       0.0      0.0   0.0       0.0  \n",
       "3           0.5  0.000000      0.0       0.0      0.0   0.0       0.0  \n",
       "4           0.0  0.333333      0.0       0.0      0.0   0.0       0.0  \n",
       "..          ...       ...      ...       ...      ...   ...       ...  \n",
       "345         0.0  0.000000      0.0       0.0      0.0   0.0       0.0  \n",
       "346         0.0  0.000000      0.0       0.0      0.0   0.0       0.0  \n",
       "347         0.0  0.333333      0.0       0.0      0.2   1.0       0.5  \n",
       "348         0.0  0.000000      0.0       0.0      0.0   0.0       0.0  \n",
       "349         0.0  0.000000      0.0       0.0      0.0   0.0       0.0  \n",
       "\n",
       "[350 rows x 25 columns]"
      ]
     },
     "execution_count": 99,
     "metadata": {},
     "output_type": "execute_result"
    }
   ],
   "source": [
    "ip_test_Nor"
   ]
  },
  {
   "cell_type": "markdown",
   "metadata": {
    "colab_type": "text",
    "id": "o5SA47xZdaMJ"
   },
   "source": [
    "### For **Dataset_2**"
   ]
  },
  {
   "cell_type": "code",
   "execution_count": 100,
   "metadata": {
    "colab": {},
    "colab_type": "code",
    "id": "ChQvWg_HdZcW"
   },
   "outputs": [],
   "source": [
    "x = ip_train_2_samp.values #returns a numpy array\n",
    "min_max_scaler = preprocessing.MinMaxScaler()\n",
    "x_scaled_2 = min_max_scaler.fit_transform(x)\n",
    "ip_train_Nor_2 = pd.DataFrame(x_scaled_2,columns=ip_train_2_samp.columns)"
   ]
  },
  {
   "cell_type": "code",
   "execution_count": 101,
   "metadata": {
    "colab": {
     "base_uri": "https://localhost:8080/",
     "height": 455
    },
    "colab_type": "code",
    "executionInfo": {
     "elapsed": 1671,
     "status": "ok",
     "timestamp": 1594929950785,
     "user": {
      "displayName": "technical tasks",
      "photoUrl": "",
      "userId": "05927116453551536656"
     },
     "user_tz": 240
    },
    "id": "4fbtwyWUdZK6",
    "outputId": "20b15947-3393-472c-bf8d-1bef4a43c67b"
   },
   "outputs": [
    {
     "data": {
      "text/html": [
       "<div>\n",
       "<style scoped>\n",
       "    .dataframe tbody tr th:only-of-type {\n",
       "        vertical-align: middle;\n",
       "    }\n",
       "\n",
       "    .dataframe tbody tr th {\n",
       "        vertical-align: top;\n",
       "    }\n",
       "\n",
       "    .dataframe thead th {\n",
       "        text-align: right;\n",
       "    }\n",
       "</style>\n",
       "<table border=\"1\" class=\"dataframe\">\n",
       "  <thead>\n",
       "    <tr style=\"text-align: right;\">\n",
       "      <th></th>\n",
       "      <th>mirror</th>\n",
       "      <th>sink</th>\n",
       "      <th>toilet seat</th>\n",
       "      <th>bath tub</th>\n",
       "      <th>towel</th>\n",
       "      <th>bed</th>\n",
       "      <th>dresser cabinet</th>\n",
       "      <th>night table</th>\n",
       "      <th>table lamp</th>\n",
       "      <th>Tv screen</th>\n",
       "      <th>...</th>\n",
       "      <th>val_90</th>\n",
       "      <th>val_91</th>\n",
       "      <th>val_92</th>\n",
       "      <th>val_93</th>\n",
       "      <th>val_94</th>\n",
       "      <th>val_95</th>\n",
       "      <th>val_96</th>\n",
       "      <th>val_97</th>\n",
       "      <th>val_98</th>\n",
       "      <th>val_99</th>\n",
       "    </tr>\n",
       "  </thead>\n",
       "  <tbody>\n",
       "    <tr>\n",
       "      <th>0</th>\n",
       "      <td>0.0</td>\n",
       "      <td>0.0</td>\n",
       "      <td>0.0</td>\n",
       "      <td>0.0</td>\n",
       "      <td>0.0</td>\n",
       "      <td>0.5</td>\n",
       "      <td>0.0</td>\n",
       "      <td>0.0</td>\n",
       "      <td>0.00</td>\n",
       "      <td>0.0</td>\n",
       "      <td>...</td>\n",
       "      <td>0.000000</td>\n",
       "      <td>0.000000</td>\n",
       "      <td>0.000000</td>\n",
       "      <td>0.000000</td>\n",
       "      <td>0.000000</td>\n",
       "      <td>0.000000</td>\n",
       "      <td>0.000000</td>\n",
       "      <td>0.000000</td>\n",
       "      <td>0.000000</td>\n",
       "      <td>0.000000</td>\n",
       "    </tr>\n",
       "    <tr>\n",
       "      <th>1</th>\n",
       "      <td>0.0</td>\n",
       "      <td>0.0</td>\n",
       "      <td>0.0</td>\n",
       "      <td>0.0</td>\n",
       "      <td>0.0</td>\n",
       "      <td>0.0</td>\n",
       "      <td>0.0</td>\n",
       "      <td>0.0</td>\n",
       "      <td>0.25</td>\n",
       "      <td>0.0</td>\n",
       "      <td>...</td>\n",
       "      <td>0.000000</td>\n",
       "      <td>0.000000</td>\n",
       "      <td>0.000000</td>\n",
       "      <td>0.000000</td>\n",
       "      <td>0.000000</td>\n",
       "      <td>0.000000</td>\n",
       "      <td>0.000000</td>\n",
       "      <td>0.000000</td>\n",
       "      <td>0.000000</td>\n",
       "      <td>0.000000</td>\n",
       "    </tr>\n",
       "    <tr>\n",
       "      <th>2</th>\n",
       "      <td>0.0</td>\n",
       "      <td>0.0</td>\n",
       "      <td>0.0</td>\n",
       "      <td>0.0</td>\n",
       "      <td>0.0</td>\n",
       "      <td>0.0</td>\n",
       "      <td>0.0</td>\n",
       "      <td>0.0</td>\n",
       "      <td>0.00</td>\n",
       "      <td>0.0</td>\n",
       "      <td>...</td>\n",
       "      <td>0.000000</td>\n",
       "      <td>0.000000</td>\n",
       "      <td>0.000000</td>\n",
       "      <td>0.000000</td>\n",
       "      <td>0.000000</td>\n",
       "      <td>0.000000</td>\n",
       "      <td>0.000000</td>\n",
       "      <td>0.000000</td>\n",
       "      <td>0.000000</td>\n",
       "      <td>0.000000</td>\n",
       "    </tr>\n",
       "    <tr>\n",
       "      <th>3</th>\n",
       "      <td>0.0</td>\n",
       "      <td>0.0</td>\n",
       "      <td>0.0</td>\n",
       "      <td>0.0</td>\n",
       "      <td>0.0</td>\n",
       "      <td>0.5</td>\n",
       "      <td>0.0</td>\n",
       "      <td>0.0</td>\n",
       "      <td>0.25</td>\n",
       "      <td>0.0</td>\n",
       "      <td>...</td>\n",
       "      <td>0.000000</td>\n",
       "      <td>0.000000</td>\n",
       "      <td>0.000000</td>\n",
       "      <td>0.000000</td>\n",
       "      <td>0.000000</td>\n",
       "      <td>0.000000</td>\n",
       "      <td>0.000000</td>\n",
       "      <td>0.000000</td>\n",
       "      <td>0.000000</td>\n",
       "      <td>0.000000</td>\n",
       "    </tr>\n",
       "    <tr>\n",
       "      <th>4</th>\n",
       "      <td>0.0</td>\n",
       "      <td>0.0</td>\n",
       "      <td>0.0</td>\n",
       "      <td>0.0</td>\n",
       "      <td>0.0</td>\n",
       "      <td>0.5</td>\n",
       "      <td>0.0</td>\n",
       "      <td>0.0</td>\n",
       "      <td>0.50</td>\n",
       "      <td>0.0</td>\n",
       "      <td>...</td>\n",
       "      <td>0.000000</td>\n",
       "      <td>0.000000</td>\n",
       "      <td>0.000000</td>\n",
       "      <td>0.000000</td>\n",
       "      <td>0.000000</td>\n",
       "      <td>0.000000</td>\n",
       "      <td>0.000000</td>\n",
       "      <td>0.000000</td>\n",
       "      <td>0.000000</td>\n",
       "      <td>0.000000</td>\n",
       "    </tr>\n",
       "    <tr>\n",
       "      <th>...</th>\n",
       "      <td>...</td>\n",
       "      <td>...</td>\n",
       "      <td>...</td>\n",
       "      <td>...</td>\n",
       "      <td>...</td>\n",
       "      <td>...</td>\n",
       "      <td>...</td>\n",
       "      <td>...</td>\n",
       "      <td>...</td>\n",
       "      <td>...</td>\n",
       "      <td>...</td>\n",
       "      <td>...</td>\n",
       "      <td>...</td>\n",
       "      <td>...</td>\n",
       "      <td>...</td>\n",
       "      <td>...</td>\n",
       "      <td>...</td>\n",
       "      <td>...</td>\n",
       "      <td>...</td>\n",
       "      <td>...</td>\n",
       "      <td>...</td>\n",
       "    </tr>\n",
       "    <tr>\n",
       "      <th>3403</th>\n",
       "      <td>0.0</td>\n",
       "      <td>0.0</td>\n",
       "      <td>0.0</td>\n",
       "      <td>0.0</td>\n",
       "      <td>0.0</td>\n",
       "      <td>0.0</td>\n",
       "      <td>0.0</td>\n",
       "      <td>0.0</td>\n",
       "      <td>0.00</td>\n",
       "      <td>0.0</td>\n",
       "      <td>...</td>\n",
       "      <td>0.000000</td>\n",
       "      <td>0.000000</td>\n",
       "      <td>0.049219</td>\n",
       "      <td>0.078373</td>\n",
       "      <td>0.097608</td>\n",
       "      <td>0.129630</td>\n",
       "      <td>0.000000</td>\n",
       "      <td>0.000000</td>\n",
       "      <td>0.000000</td>\n",
       "      <td>0.000000</td>\n",
       "    </tr>\n",
       "    <tr>\n",
       "      <th>3404</th>\n",
       "      <td>0.0</td>\n",
       "      <td>0.0</td>\n",
       "      <td>0.0</td>\n",
       "      <td>0.0</td>\n",
       "      <td>0.0</td>\n",
       "      <td>0.0</td>\n",
       "      <td>0.0</td>\n",
       "      <td>0.0</td>\n",
       "      <td>0.00</td>\n",
       "      <td>0.0</td>\n",
       "      <td>...</td>\n",
       "      <td>0.043132</td>\n",
       "      <td>0.087649</td>\n",
       "      <td>0.000000</td>\n",
       "      <td>0.000000</td>\n",
       "      <td>0.000000</td>\n",
       "      <td>0.000000</td>\n",
       "      <td>0.000000</td>\n",
       "      <td>0.000000</td>\n",
       "      <td>0.000000</td>\n",
       "      <td>0.000000</td>\n",
       "    </tr>\n",
       "    <tr>\n",
       "      <th>3405</th>\n",
       "      <td>0.0</td>\n",
       "      <td>0.0</td>\n",
       "      <td>0.0</td>\n",
       "      <td>0.0</td>\n",
       "      <td>0.0</td>\n",
       "      <td>0.0</td>\n",
       "      <td>0.0</td>\n",
       "      <td>0.0</td>\n",
       "      <td>0.00</td>\n",
       "      <td>0.0</td>\n",
       "      <td>...</td>\n",
       "      <td>0.067979</td>\n",
       "      <td>0.074369</td>\n",
       "      <td>0.000000</td>\n",
       "      <td>0.000000</td>\n",
       "      <td>0.000000</td>\n",
       "      <td>0.000000</td>\n",
       "      <td>0.059754</td>\n",
       "      <td>0.079944</td>\n",
       "      <td>0.082786</td>\n",
       "      <td>0.073775</td>\n",
       "    </tr>\n",
       "    <tr>\n",
       "      <th>3406</th>\n",
       "      <td>0.0</td>\n",
       "      <td>0.0</td>\n",
       "      <td>0.0</td>\n",
       "      <td>0.0</td>\n",
       "      <td>0.0</td>\n",
       "      <td>0.0</td>\n",
       "      <td>0.0</td>\n",
       "      <td>0.0</td>\n",
       "      <td>0.00</td>\n",
       "      <td>0.0</td>\n",
       "      <td>...</td>\n",
       "      <td>0.000000</td>\n",
       "      <td>0.000000</td>\n",
       "      <td>0.072656</td>\n",
       "      <td>0.124008</td>\n",
       "      <td>0.118441</td>\n",
       "      <td>0.120370</td>\n",
       "      <td>0.000000</td>\n",
       "      <td>0.000000</td>\n",
       "      <td>0.000000</td>\n",
       "      <td>0.000000</td>\n",
       "    </tr>\n",
       "    <tr>\n",
       "      <th>3407</th>\n",
       "      <td>0.0</td>\n",
       "      <td>0.0</td>\n",
       "      <td>0.0</td>\n",
       "      <td>0.0</td>\n",
       "      <td>0.0</td>\n",
       "      <td>0.0</td>\n",
       "      <td>0.0</td>\n",
       "      <td>0.0</td>\n",
       "      <td>0.00</td>\n",
       "      <td>0.0</td>\n",
       "      <td>...</td>\n",
       "      <td>0.000000</td>\n",
       "      <td>0.000000</td>\n",
       "      <td>0.082813</td>\n",
       "      <td>0.481151</td>\n",
       "      <td>0.530478</td>\n",
       "      <td>0.596193</td>\n",
       "      <td>0.000000</td>\n",
       "      <td>0.000000</td>\n",
       "      <td>0.000000</td>\n",
       "      <td>0.000000</td>\n",
       "    </tr>\n",
       "  </tbody>\n",
       "</table>\n",
       "<p>3408 rows × 125 columns</p>\n",
       "</div>"
      ],
      "text/plain": [
       "      mirror  sink  toilet seat  bath tub  towel  bed  dresser cabinet  \\\n",
       "0        0.0   0.0          0.0       0.0    0.0  0.5              0.0   \n",
       "1        0.0   0.0          0.0       0.0    0.0  0.0              0.0   \n",
       "2        0.0   0.0          0.0       0.0    0.0  0.0              0.0   \n",
       "3        0.0   0.0          0.0       0.0    0.0  0.5              0.0   \n",
       "4        0.0   0.0          0.0       0.0    0.0  0.5              0.0   \n",
       "...      ...   ...          ...       ...    ...  ...              ...   \n",
       "3403     0.0   0.0          0.0       0.0    0.0  0.0              0.0   \n",
       "3404     0.0   0.0          0.0       0.0    0.0  0.0              0.0   \n",
       "3405     0.0   0.0          0.0       0.0    0.0  0.0              0.0   \n",
       "3406     0.0   0.0          0.0       0.0    0.0  0.0              0.0   \n",
       "3407     0.0   0.0          0.0       0.0    0.0  0.0              0.0   \n",
       "\n",
       "      night table  table lamp  Tv screen  ...    val_90    val_91    val_92  \\\n",
       "0             0.0        0.00        0.0  ...  0.000000  0.000000  0.000000   \n",
       "1             0.0        0.25        0.0  ...  0.000000  0.000000  0.000000   \n",
       "2             0.0        0.00        0.0  ...  0.000000  0.000000  0.000000   \n",
       "3             0.0        0.25        0.0  ...  0.000000  0.000000  0.000000   \n",
       "4             0.0        0.50        0.0  ...  0.000000  0.000000  0.000000   \n",
       "...           ...         ...        ...  ...       ...       ...       ...   \n",
       "3403          0.0        0.00        0.0  ...  0.000000  0.000000  0.049219   \n",
       "3404          0.0        0.00        0.0  ...  0.043132  0.087649  0.000000   \n",
       "3405          0.0        0.00        0.0  ...  0.067979  0.074369  0.000000   \n",
       "3406          0.0        0.00        0.0  ...  0.000000  0.000000  0.072656   \n",
       "3407          0.0        0.00        0.0  ...  0.000000  0.000000  0.082813   \n",
       "\n",
       "        val_93    val_94    val_95    val_96    val_97    val_98    val_99  \n",
       "0     0.000000  0.000000  0.000000  0.000000  0.000000  0.000000  0.000000  \n",
       "1     0.000000  0.000000  0.000000  0.000000  0.000000  0.000000  0.000000  \n",
       "2     0.000000  0.000000  0.000000  0.000000  0.000000  0.000000  0.000000  \n",
       "3     0.000000  0.000000  0.000000  0.000000  0.000000  0.000000  0.000000  \n",
       "4     0.000000  0.000000  0.000000  0.000000  0.000000  0.000000  0.000000  \n",
       "...        ...       ...       ...       ...       ...       ...       ...  \n",
       "3403  0.078373  0.097608  0.129630  0.000000  0.000000  0.000000  0.000000  \n",
       "3404  0.000000  0.000000  0.000000  0.000000  0.000000  0.000000  0.000000  \n",
       "3405  0.000000  0.000000  0.000000  0.059754  0.079944  0.082786  0.073775  \n",
       "3406  0.124008  0.118441  0.120370  0.000000  0.000000  0.000000  0.000000  \n",
       "3407  0.481151  0.530478  0.596193  0.000000  0.000000  0.000000  0.000000  \n",
       "\n",
       "[3408 rows x 125 columns]"
      ]
     },
     "execution_count": 101,
     "metadata": {},
     "output_type": "execute_result"
    }
   ],
   "source": [
    "ip_train_Nor_2"
   ]
  },
  {
   "cell_type": "code",
   "execution_count": 102,
   "metadata": {
    "colab": {},
    "colab_type": "code",
    "id": "L3LIWmvruvV0"
   },
   "outputs": [],
   "source": [
    "ip_test_2_samp=ip_test_2\n",
    "x = ip_test_2_samp.values #returns a numpy array\n",
    "min_max_scaler = preprocessing.MinMaxScaler()\n",
    "x_scaled_2 = min_max_scaler.fit_transform(x)\n",
    "ip_test_Nor_2 = pd.DataFrame(x_scaled_2,columns=ip_test_2_samp.columns)"
   ]
  },
  {
   "cell_type": "code",
   "execution_count": 103,
   "metadata": {
    "colab": {
     "base_uri": "https://localhost:8080/",
     "height": 455
    },
    "colab_type": "code",
    "executionInfo": {
     "elapsed": 1785,
     "status": "ok",
     "timestamp": 1594929954873,
     "user": {
      "displayName": "technical tasks",
      "photoUrl": "",
      "userId": "05927116453551536656"
     },
     "user_tz": 240
    },
    "id": "fCuVgnqyustW",
    "outputId": "141ea261-01d4-4509-a521-10e0368c03d8"
   },
   "outputs": [
    {
     "data": {
      "text/html": [
       "<div>\n",
       "<style scoped>\n",
       "    .dataframe tbody tr th:only-of-type {\n",
       "        vertical-align: middle;\n",
       "    }\n",
       "\n",
       "    .dataframe tbody tr th {\n",
       "        vertical-align: top;\n",
       "    }\n",
       "\n",
       "    .dataframe thead th {\n",
       "        text-align: right;\n",
       "    }\n",
       "</style>\n",
       "<table border=\"1\" class=\"dataframe\">\n",
       "  <thead>\n",
       "    <tr style=\"text-align: right;\">\n",
       "      <th></th>\n",
       "      <th>mirror</th>\n",
       "      <th>sink</th>\n",
       "      <th>toilet seat</th>\n",
       "      <th>bath tub</th>\n",
       "      <th>towel</th>\n",
       "      <th>bed</th>\n",
       "      <th>dresser cabinet</th>\n",
       "      <th>night table</th>\n",
       "      <th>table lamp</th>\n",
       "      <th>Tv screen</th>\n",
       "      <th>...</th>\n",
       "      <th>val_90</th>\n",
       "      <th>val_91</th>\n",
       "      <th>val_92</th>\n",
       "      <th>val_93</th>\n",
       "      <th>val_94</th>\n",
       "      <th>val_95</th>\n",
       "      <th>val_96</th>\n",
       "      <th>val_97</th>\n",
       "      <th>val_98</th>\n",
       "      <th>val_99</th>\n",
       "    </tr>\n",
       "  </thead>\n",
       "  <tbody>\n",
       "    <tr>\n",
       "      <th>0</th>\n",
       "      <td>0.0</td>\n",
       "      <td>0.0</td>\n",
       "      <td>0.0</td>\n",
       "      <td>0.0</td>\n",
       "      <td>0.0</td>\n",
       "      <td>0.0</td>\n",
       "      <td>0.0</td>\n",
       "      <td>0.0</td>\n",
       "      <td>0.0</td>\n",
       "      <td>0.0</td>\n",
       "      <td>...</td>\n",
       "      <td>0.000000</td>\n",
       "      <td>0.000000</td>\n",
       "      <td>0.0</td>\n",
       "      <td>0.000000</td>\n",
       "      <td>0.000000</td>\n",
       "      <td>0.000000</td>\n",
       "      <td>0.000000</td>\n",
       "      <td>0.000000</td>\n",
       "      <td>0.000000</td>\n",
       "      <td>0.000000</td>\n",
       "    </tr>\n",
       "    <tr>\n",
       "      <th>1</th>\n",
       "      <td>0.0</td>\n",
       "      <td>0.0</td>\n",
       "      <td>0.0</td>\n",
       "      <td>0.0</td>\n",
       "      <td>0.0</td>\n",
       "      <td>1.0</td>\n",
       "      <td>0.0</td>\n",
       "      <td>0.0</td>\n",
       "      <td>0.0</td>\n",
       "      <td>0.0</td>\n",
       "      <td>...</td>\n",
       "      <td>0.000000</td>\n",
       "      <td>0.000000</td>\n",
       "      <td>0.0</td>\n",
       "      <td>0.000000</td>\n",
       "      <td>0.000000</td>\n",
       "      <td>0.000000</td>\n",
       "      <td>0.000000</td>\n",
       "      <td>0.000000</td>\n",
       "      <td>0.000000</td>\n",
       "      <td>0.000000</td>\n",
       "    </tr>\n",
       "    <tr>\n",
       "      <th>2</th>\n",
       "      <td>0.0</td>\n",
       "      <td>0.0</td>\n",
       "      <td>0.0</td>\n",
       "      <td>0.0</td>\n",
       "      <td>0.0</td>\n",
       "      <td>1.0</td>\n",
       "      <td>0.0</td>\n",
       "      <td>0.0</td>\n",
       "      <td>1.0</td>\n",
       "      <td>0.0</td>\n",
       "      <td>...</td>\n",
       "      <td>0.000000</td>\n",
       "      <td>0.000000</td>\n",
       "      <td>0.0</td>\n",
       "      <td>0.000000</td>\n",
       "      <td>0.000000</td>\n",
       "      <td>0.000000</td>\n",
       "      <td>0.000000</td>\n",
       "      <td>0.000000</td>\n",
       "      <td>0.000000</td>\n",
       "      <td>0.000000</td>\n",
       "    </tr>\n",
       "    <tr>\n",
       "      <th>3</th>\n",
       "      <td>0.0</td>\n",
       "      <td>0.0</td>\n",
       "      <td>0.0</td>\n",
       "      <td>0.0</td>\n",
       "      <td>0.0</td>\n",
       "      <td>0.0</td>\n",
       "      <td>0.0</td>\n",
       "      <td>0.0</td>\n",
       "      <td>0.0</td>\n",
       "      <td>0.0</td>\n",
       "      <td>...</td>\n",
       "      <td>0.000000</td>\n",
       "      <td>0.000000</td>\n",
       "      <td>0.0</td>\n",
       "      <td>0.000000</td>\n",
       "      <td>0.000000</td>\n",
       "      <td>0.000000</td>\n",
       "      <td>0.000000</td>\n",
       "      <td>0.000000</td>\n",
       "      <td>0.000000</td>\n",
       "      <td>0.000000</td>\n",
       "    </tr>\n",
       "    <tr>\n",
       "      <th>4</th>\n",
       "      <td>0.0</td>\n",
       "      <td>0.0</td>\n",
       "      <td>0.0</td>\n",
       "      <td>0.0</td>\n",
       "      <td>0.0</td>\n",
       "      <td>1.0</td>\n",
       "      <td>0.0</td>\n",
       "      <td>0.5</td>\n",
       "      <td>0.5</td>\n",
       "      <td>0.0</td>\n",
       "      <td>...</td>\n",
       "      <td>0.000000</td>\n",
       "      <td>0.000000</td>\n",
       "      <td>0.0</td>\n",
       "      <td>0.000000</td>\n",
       "      <td>0.000000</td>\n",
       "      <td>0.000000</td>\n",
       "      <td>0.000000</td>\n",
       "      <td>0.000000</td>\n",
       "      <td>0.000000</td>\n",
       "      <td>0.000000</td>\n",
       "    </tr>\n",
       "    <tr>\n",
       "      <th>...</th>\n",
       "      <td>...</td>\n",
       "      <td>...</td>\n",
       "      <td>...</td>\n",
       "      <td>...</td>\n",
       "      <td>...</td>\n",
       "      <td>...</td>\n",
       "      <td>...</td>\n",
       "      <td>...</td>\n",
       "      <td>...</td>\n",
       "      <td>...</td>\n",
       "      <td>...</td>\n",
       "      <td>...</td>\n",
       "      <td>...</td>\n",
       "      <td>...</td>\n",
       "      <td>...</td>\n",
       "      <td>...</td>\n",
       "      <td>...</td>\n",
       "      <td>...</td>\n",
       "      <td>...</td>\n",
       "      <td>...</td>\n",
       "      <td>...</td>\n",
       "    </tr>\n",
       "    <tr>\n",
       "      <th>345</th>\n",
       "      <td>0.0</td>\n",
       "      <td>0.0</td>\n",
       "      <td>0.0</td>\n",
       "      <td>0.0</td>\n",
       "      <td>0.0</td>\n",
       "      <td>1.0</td>\n",
       "      <td>1.0</td>\n",
       "      <td>0.5</td>\n",
       "      <td>0.0</td>\n",
       "      <td>0.0</td>\n",
       "      <td>...</td>\n",
       "      <td>0.000000</td>\n",
       "      <td>0.000000</td>\n",
       "      <td>0.0</td>\n",
       "      <td>0.000000</td>\n",
       "      <td>0.000000</td>\n",
       "      <td>0.000000</td>\n",
       "      <td>0.000000</td>\n",
       "      <td>0.000000</td>\n",
       "      <td>0.000000</td>\n",
       "      <td>0.000000</td>\n",
       "    </tr>\n",
       "    <tr>\n",
       "      <th>346</th>\n",
       "      <td>0.0</td>\n",
       "      <td>0.0</td>\n",
       "      <td>0.0</td>\n",
       "      <td>0.0</td>\n",
       "      <td>0.0</td>\n",
       "      <td>0.0</td>\n",
       "      <td>0.0</td>\n",
       "      <td>0.0</td>\n",
       "      <td>0.0</td>\n",
       "      <td>0.0</td>\n",
       "      <td>...</td>\n",
       "      <td>0.000000</td>\n",
       "      <td>0.000000</td>\n",
       "      <td>0.0</td>\n",
       "      <td>0.000000</td>\n",
       "      <td>0.000000</td>\n",
       "      <td>0.000000</td>\n",
       "      <td>0.000000</td>\n",
       "      <td>0.000000</td>\n",
       "      <td>0.000000</td>\n",
       "      <td>0.000000</td>\n",
       "    </tr>\n",
       "    <tr>\n",
       "      <th>347</th>\n",
       "      <td>0.0</td>\n",
       "      <td>0.0</td>\n",
       "      <td>0.0</td>\n",
       "      <td>0.0</td>\n",
       "      <td>0.0</td>\n",
       "      <td>0.0</td>\n",
       "      <td>0.0</td>\n",
       "      <td>0.0</td>\n",
       "      <td>0.0</td>\n",
       "      <td>0.0</td>\n",
       "      <td>...</td>\n",
       "      <td>0.081922</td>\n",
       "      <td>0.085093</td>\n",
       "      <td>0.0</td>\n",
       "      <td>0.118914</td>\n",
       "      <td>0.082514</td>\n",
       "      <td>0.130013</td>\n",
       "      <td>0.070532</td>\n",
       "      <td>0.111742</td>\n",
       "      <td>0.082937</td>\n",
       "      <td>0.104465</td>\n",
       "    </tr>\n",
       "    <tr>\n",
       "      <th>348</th>\n",
       "      <td>0.0</td>\n",
       "      <td>0.0</td>\n",
       "      <td>0.0</td>\n",
       "      <td>0.0</td>\n",
       "      <td>0.0</td>\n",
       "      <td>0.0</td>\n",
       "      <td>0.0</td>\n",
       "      <td>0.0</td>\n",
       "      <td>0.0</td>\n",
       "      <td>0.0</td>\n",
       "      <td>...</td>\n",
       "      <td>0.000000</td>\n",
       "      <td>0.000000</td>\n",
       "      <td>0.0</td>\n",
       "      <td>0.000000</td>\n",
       "      <td>0.000000</td>\n",
       "      <td>0.000000</td>\n",
       "      <td>0.000000</td>\n",
       "      <td>0.000000</td>\n",
       "      <td>0.000000</td>\n",
       "      <td>0.000000</td>\n",
       "    </tr>\n",
       "    <tr>\n",
       "      <th>349</th>\n",
       "      <td>0.0</td>\n",
       "      <td>0.0</td>\n",
       "      <td>0.0</td>\n",
       "      <td>0.0</td>\n",
       "      <td>0.0</td>\n",
       "      <td>0.0</td>\n",
       "      <td>0.0</td>\n",
       "      <td>0.0</td>\n",
       "      <td>0.0</td>\n",
       "      <td>0.0</td>\n",
       "      <td>...</td>\n",
       "      <td>0.000000</td>\n",
       "      <td>0.000000</td>\n",
       "      <td>0.0</td>\n",
       "      <td>0.000000</td>\n",
       "      <td>0.000000</td>\n",
       "      <td>0.000000</td>\n",
       "      <td>0.000000</td>\n",
       "      <td>0.000000</td>\n",
       "      <td>0.000000</td>\n",
       "      <td>0.000000</td>\n",
       "    </tr>\n",
       "  </tbody>\n",
       "</table>\n",
       "<p>350 rows × 125 columns</p>\n",
       "</div>"
      ],
      "text/plain": [
       "     mirror  sink  toilet seat  bath tub  towel  bed  dresser cabinet  \\\n",
       "0       0.0   0.0          0.0       0.0    0.0  0.0              0.0   \n",
       "1       0.0   0.0          0.0       0.0    0.0  1.0              0.0   \n",
       "2       0.0   0.0          0.0       0.0    0.0  1.0              0.0   \n",
       "3       0.0   0.0          0.0       0.0    0.0  0.0              0.0   \n",
       "4       0.0   0.0          0.0       0.0    0.0  1.0              0.0   \n",
       "..      ...   ...          ...       ...    ...  ...              ...   \n",
       "345     0.0   0.0          0.0       0.0    0.0  1.0              1.0   \n",
       "346     0.0   0.0          0.0       0.0    0.0  0.0              0.0   \n",
       "347     0.0   0.0          0.0       0.0    0.0  0.0              0.0   \n",
       "348     0.0   0.0          0.0       0.0    0.0  0.0              0.0   \n",
       "349     0.0   0.0          0.0       0.0    0.0  0.0              0.0   \n",
       "\n",
       "     night table  table lamp  Tv screen  ...    val_90    val_91  val_92  \\\n",
       "0            0.0         0.0        0.0  ...  0.000000  0.000000     0.0   \n",
       "1            0.0         0.0        0.0  ...  0.000000  0.000000     0.0   \n",
       "2            0.0         1.0        0.0  ...  0.000000  0.000000     0.0   \n",
       "3            0.0         0.0        0.0  ...  0.000000  0.000000     0.0   \n",
       "4            0.5         0.5        0.0  ...  0.000000  0.000000     0.0   \n",
       "..           ...         ...        ...  ...       ...       ...     ...   \n",
       "345          0.5         0.0        0.0  ...  0.000000  0.000000     0.0   \n",
       "346          0.0         0.0        0.0  ...  0.000000  0.000000     0.0   \n",
       "347          0.0         0.0        0.0  ...  0.081922  0.085093     0.0   \n",
       "348          0.0         0.0        0.0  ...  0.000000  0.000000     0.0   \n",
       "349          0.0         0.0        0.0  ...  0.000000  0.000000     0.0   \n",
       "\n",
       "       val_93    val_94    val_95    val_96    val_97    val_98    val_99  \n",
       "0    0.000000  0.000000  0.000000  0.000000  0.000000  0.000000  0.000000  \n",
       "1    0.000000  0.000000  0.000000  0.000000  0.000000  0.000000  0.000000  \n",
       "2    0.000000  0.000000  0.000000  0.000000  0.000000  0.000000  0.000000  \n",
       "3    0.000000  0.000000  0.000000  0.000000  0.000000  0.000000  0.000000  \n",
       "4    0.000000  0.000000  0.000000  0.000000  0.000000  0.000000  0.000000  \n",
       "..        ...       ...       ...       ...       ...       ...       ...  \n",
       "345  0.000000  0.000000  0.000000  0.000000  0.000000  0.000000  0.000000  \n",
       "346  0.000000  0.000000  0.000000  0.000000  0.000000  0.000000  0.000000  \n",
       "347  0.118914  0.082514  0.130013  0.070532  0.111742  0.082937  0.104465  \n",
       "348  0.000000  0.000000  0.000000  0.000000  0.000000  0.000000  0.000000  \n",
       "349  0.000000  0.000000  0.000000  0.000000  0.000000  0.000000  0.000000  \n",
       "\n",
       "[350 rows x 125 columns]"
      ]
     },
     "execution_count": 103,
     "metadata": {},
     "output_type": "execute_result"
    }
   ],
   "source": [
    "ip_test_Nor_2"
   ]
  },
  {
   "cell_type": "markdown",
   "metadata": {
    "colab_type": "text",
    "id": "SfVmxozyXfqy"
   },
   "source": [
    "## Grid searching to tune the Hyper-parameters of the neural network to choose the optimum values"
   ]
  },
  {
   "cell_type": "markdown",
   "metadata": {
    "colab_type": "text",
    "id": "whsPnmLoXfqy"
   },
   "source": [
    "### Tuning batch size and epochs"
   ]
  },
  {
   "cell_type": "code",
   "execution_count": null,
   "metadata": {
    "colab": {},
    "colab_type": "code",
    "id": "nkd9IlApXfqz"
   },
   "outputs": [],
   "source": [
    "\n",
    "model = KerasClassifier(build_fn=model_1, verbose=0)\n",
    "# define the grid search parameters\n",
    "batch_size = [10, 20, 40, 60, 80, 100 ]\n",
    "epochs = [ 10,50, 100, 200]\n",
    "param_grid = dict(batch_size=batch_size, epochs=epochs)\n",
    "grid = GridSearchCV(estimator=model, param_grid=param_grid, n_jobs=-1, cv=3, verbose=150)\n",
    "grid_result = grid.fit(ip_train_Nor, op_train_1_samp)\n",
    "# summarize results\n",
    "print(\"Best: %f using %s\" % (grid_result.best_score_, grid_result.best_params_))\n",
    "means = grid_result.cv_results_['mean_test_score']\n",
    "stds = grid_result.cv_results_['std_test_score']\n",
    "params = grid_result.cv_results_['params']\n",
    "for mean, stdev, param in zip(means, stds, params):\n",
    "    print(\"%f (%f) with: %r\" % (mean, stdev, param))"
   ]
  },
  {
   "cell_type": "markdown",
   "metadata": {
    "colab_type": "text",
    "id": "avbuHWxJXfq1"
   },
   "source": [
    "### Tuning optimizer"
   ]
  },
  {
   "cell_type": "code",
   "execution_count": null,
   "metadata": {
    "colab": {},
    "colab_type": "code",
    "id": "Jh0JfTjyXfq1",
    "scrolled": true
   },
   "outputs": [],
   "source": [
    "\n",
    "model = KerasClassifier(build_fn=model_2, epochs=100, batch_size=10, verbose=0)\n",
    "# define the grid search parameters\n",
    "optimizer = [ 'SGD', 'RMSprop', 'Adagrad', 'Adadelta','Adam', 'Adamax', 'Nadam']\n",
    "param_grid = dict(optimizer=optimizer)\n",
    "grid = GridSearchCV(estimator=model, param_grid=param_grid, n_jobs=-1, cv=3, verbose=150)\n",
    "grid_result = grid.fit(ip_train_Nor, op_train_1_samp)\n",
    "# summarize results\n",
    "print(\"Best: %f using %s\" % (grid_result.best_score_, grid_result.best_params_))\n",
    "means = grid_result.cv_results_['mean_test_score']\n",
    "stds = grid_result.cv_results_['std_test_score']\n",
    "params = grid_result.cv_results_['params']\n",
    "for mean, stdev, param in zip(means, stds, params):\n",
    "    print(\"%f (%f) with: %r\" % (mean, stdev, param))"
   ]
  },
  {
   "cell_type": "markdown",
   "metadata": {
    "colab_type": "text",
    "id": "Fv8v6FBWXfq4"
   },
   "source": [
    "### Tuning network weights initialization  "
   ]
  },
  {
   "cell_type": "code",
   "execution_count": null,
   "metadata": {
    "colab": {},
    "colab_type": "code",
    "id": "srpFPHzfXfq4"
   },
   "outputs": [],
   "source": [
    "\n",
    "model = KerasClassifier(build_fn=model_3, epochs=100, batch_size=10, verbose=0)\n",
    "# define the grid search parameters\n",
    "init_mode = ['uniform', 'lecun_uniform', 'normal', 'zero', 'glorot_normal', 'glorot_uniform', 'he_normal', 'he_uniform']\n",
    "param_grid = dict(init_mode=init_mode)\n",
    "grid = GridSearchCV(estimator=model, param_grid=param_grid, n_jobs=-1, cv=3, verbose=150)\n",
    "grid_result = grid.fit(ip_train_Nor, op_train_1_samp)\n",
    "# summarize results\n",
    "print(\"Best: %f using %s\" % (grid_result.best_score_, grid_result.best_params_))\n",
    "means = grid_result.cv_results_['mean_test_score']\n",
    "stds = grid_result.cv_results_['std_test_score']\n",
    "params = grid_result.cv_results_['params']\n",
    "for mean, stdev, param in zip(means, stds, params):\n",
    "    print(\"%f (%f) with: %r\" % (mean, stdev, param))"
   ]
  },
  {
   "cell_type": "markdown",
   "metadata": {
    "colab_type": "text",
    "id": "4Ld7T1_fXfq8"
   },
   "source": [
    "### Tuning activation"
   ]
  },
  {
   "cell_type": "code",
   "execution_count": null,
   "metadata": {
    "colab": {},
    "colab_type": "code",
    "id": "wBjBckAqXfq8"
   },
   "outputs": [],
   "source": [
    "\n",
    "model = KerasClassifier(build_fn=model_4, epochs=150, batch_size=10, verbose=0)\n",
    "# define the grid search parameters\n",
    "activation = ['softmax', 'softplus', 'softsign', 'relu', 'tanh', 'sigmoid', 'hard_sigmoid', 'linear']\n",
    "param_grid = dict(activation=activation)\n",
    "grid = GridSearchCV(estimator=model, param_grid=param_grid, n_jobs=-1, cv=3, verbose=150)\n",
    "grid_result = grid.fit(ip_train_Nor, op_train_1_samp)\n",
    "# summarize results\n",
    "print(\"Best: %f using %s\" % (grid_result.best_score_, grid_result.best_params_))\n",
    "means = grid_result.cv_results_['mean_test_score']\n",
    "stds = grid_result.cv_results_['std_test_score']\n",
    "params = grid_result.cv_results_['params']\n",
    "for mean, stdev, param in zip(means, stds, params):\n",
    "    print(\"%f (%f) with: %r\" % (mean, stdev, param))"
   ]
  },
  {
   "cell_type": "markdown",
   "metadata": {
    "colab_type": "text",
    "id": "n8y0eEwjXfq_"
   },
   "source": [
    "### Tuning number of neurons"
   ]
  },
  {
   "cell_type": "code",
   "execution_count": null,
   "metadata": {
    "colab": {},
    "colab_type": "code",
    "id": "xm6pJ4H5XfrA"
   },
   "outputs": [],
   "source": [
    "\n",
    "model = KerasClassifier(build_fn=model_5, epochs=150, batch_size=10, verbose=0)\n",
    "# define the grid search parameters\n",
    "neurons1 = [5, 10, 20,  30, 50]\n",
    "neurons2 = [5, 10, 20,  30, 50]\n",
    "neurons3 = [5, 10, 20,  30, 50]\n",
    "param_grid = dict(neurons1=neurons1,neurons2=neurons2 )\n",
    "grid = GridSearchCV(estimator=model, param_grid=param_grid, n_jobs=-1, cv=3, verbose=150)\n",
    "grid_result = grid.fit(ip_train_Nor, op_train_1_samp)\n",
    "# summarize results\n",
    "print(\"Best: %f using %s\" % (grid_result.best_score_, grid_result.best_params_))\n",
    "means = grid_result.cv_results_['mean_test_score']\n",
    "stds = grid_result.cv_results_['std_test_score']\n",
    "params = grid_result.cv_results_['params']\n",
    "for mean, stdev, param in zip(means, stds, params):\n",
    "    print(\"%f (%f) with: %r\" % (mean, stdev, param))"
   ]
  },
  {
   "cell_type": "markdown",
   "metadata": {
    "colab_type": "text",
    "id": "EJZBv53yd3_f"
   },
   "source": [
    "### Tuning the Dropout_rate and weight constraint"
   ]
  },
  {
   "cell_type": "code",
   "execution_count": null,
   "metadata": {
    "colab": {},
    "colab_type": "code",
    "id": "u4ZHLXyGvR7k"
   },
   "outputs": [],
   "source": [
    "model = KerasClassifier(build_fn=model_6, epochs=150, batch_size=10, verbose=0)\n",
    "# define the grid search parameters\n",
    "weight_constraint = [1, 2, 3]\n",
    "dropout_rate = [0.0, 0.2, 0.4, 0.6,0.8]\n",
    "param_grid = dict(weight_constraint = weight_constraint ,dropout_rate=dropout_rate )\n",
    "grid = GridSearchCV(estimator=model, param_grid=param_grid, n_jobs=-1, cv=3, verbose=150)\n",
    "grid_result = grid.fit(ip_train_Nor, op_train_1_samp)\n",
    "# summarize results\n",
    "print(\"Best: %f using %s\" % (grid_result.best_score_, grid_result.best_params_))\n",
    "means = grid_result.cv_results_['mean_test_score']\n",
    "stds = grid_result.cv_results_['std_test_score']\n",
    "params = grid_result.cv_results_['params']\n",
    "for mean, stdev, param in zip(means, stds, params):\n",
    "    print(\"%f (%f) with: %r\" % (mean, stdev, param))"
   ]
  },
  {
   "cell_type": "markdown",
   "metadata": {
    "colab_type": "text",
    "id": "drM_kaJ2XfrD"
   },
   "source": [
    "## Final models"
   ]
  },
  {
   "cell_type": "markdown",
   "metadata": {
    "colab_type": "text",
    "id": "1IgYN9ohXfrD"
   },
   "source": [
    "### Neural Network model for **Dataset_1**"
   ]
  },
  {
   "cell_type": "code",
   "execution_count": null,
   "metadata": {
    "colab": {
     "base_uri": "https://localhost:8080/",
     "height": 454
    },
    "colab_type": "code",
    "executionInfo": {
     "elapsed": 1273,
     "status": "ok",
     "timestamp": 1594930329675,
     "user": {
      "displayName": "technical tasks",
      "photoUrl": "",
      "userId": "05927116453551536656"
     },
     "user_tz": 240
    },
    "id": "1Bs1E0Nb8qbf",
    "outputId": "583d99b1-2b29-4a35-c001-ae0a80254863"
   },
   "outputs": [
    {
     "name": "stdout",
     "output_type": "stream",
     "text": [
      "Model: \"Model_final\"\n",
      "_________________________________________________________________\n",
      "Layer (type)                 Output Shape              Param #   \n",
      "=================================================================\n",
      "input_3 (InputLayer)         [(None, 25)]              0         \n",
      "_________________________________________________________________\n",
      "dense_10 (Dense)             (None, 64)                1664      \n",
      "_________________________________________________________________\n",
      "dense_11 (Dense)             (None, 64)                4160      \n",
      "_________________________________________________________________\n",
      "dropout_6 (Dropout)          (None, 64)                0         \n",
      "_________________________________________________________________\n",
      "dense_12 (Dense)             (None, 32)                2080      \n",
      "_________________________________________________________________\n",
      "dropout_7 (Dropout)          (None, 32)                0         \n",
      "_________________________________________________________________\n",
      "dense_13 (Dense)             (None, 16)                528       \n",
      "_________________________________________________________________\n",
      "dropout_8 (Dropout)          (None, 16)                0         \n",
      "_________________________________________________________________\n",
      "dense_14 (Dense)             (None, 6)                 102       \n",
      "=================================================================\n",
      "Total params: 8,534\n",
      "Trainable params: 8,534\n",
      "Non-trainable params: 0\n",
      "_________________________________________________________________\n"
     ]
    }
   ],
   "source": [
    "inputs = keras.Input(shape=(25,))\n",
    "dense = layers.Dense(64, activation='relu')\n",
    "x=dense(inputs)\n",
    "x = layers.Dense(64, kernel_initializer='uniform', activation='softsign', kernel_constraint=maxnorm(2))(x)\n",
    "x = layers.Dropout(0.2)(x)\n",
    "x = layers.Dense(32, kernel_initializer='uniform', activation='softsign', kernel_constraint=maxnorm(2))(x)\n",
    "x = layers.Dropout(0.2)(x)\n",
    "x = layers.Dense(16, kernel_initializer='uniform', activation='softsign', kernel_constraint=maxnorm(2))(x)\n",
    "x = layers.Dropout(0.2)(x)\n",
    "outputs = layers.Dense(6, activation='softmax')(x)\n",
    "    \n",
    "model = keras.Model(inputs=inputs,outputs=outputs,name=\"Model_final\")\n",
    "model.summary()\n",
    "model.compile(loss='categorical_crossentropy' ,optimizer='adam' ,metrics=['accuracy'])"
   ]
  },
  {
   "cell_type": "code",
   "execution_count": null,
   "metadata": {
    "colab": {
     "base_uri": "https://localhost:8080/",
     "height": 976
    },
    "colab_type": "code",
    "executionInfo": {
     "elapsed": 2900,
     "status": "ok",
     "timestamp": 1594929981431,
     "user": {
      "displayName": "technical tasks",
      "photoUrl": "",
      "userId": "05927116453551536656"
     },
     "user_tz": 240
    },
    "id": "rmtShWQHXfrH",
    "outputId": "195fd876-29c3-4cbd-8d9b-2dea502275f5"
   },
   "outputs": [
    {
     "data": {
      "image/png": "[encoded data removed]",
      "text/plain": [
       "<IPython.core.display.Image object>"
      ]
     },
     "execution_count": 83,
     "metadata": {
      "tags": []
     },
     "output_type": "execute_result"
    }
   ],
   "source": [
    "keras.utils.plot_model(model, \"my_first_model_with_shape_info.png\", show_shapes=True)"
   ]
  },
  {
   "cell_type": "code",
   "execution_count": null,
   "metadata": {
    "colab": {
     "base_uri": "https://localhost:8080/",
     "height": 856
    },
    "colab_type": "code",
    "executionInfo": {
     "elapsed": 2199,
     "status": "ok",
     "timestamp": 1594929983822,
     "user": {
      "displayName": "technical tasks",
      "photoUrl": "",
      "userId": "05927116453551536656"
     },
     "user_tz": 240
    },
    "id": "FIkbtE10XfrK",
    "outputId": "981e42ff-5c40-4308-9c44-0a75abb50eb1"
   },
   "outputs": [
    {
     "data": {
      "image/png": "[encoded data removed]",
      "text/plain": [
       "<IPython.core.display.Image object>"
      ]
     },
     "execution_count": 84,
     "metadata": {
      "tags": []
     },
     "output_type": "execute_result"
    }
   ],
   "source": [
    "keras.utils.plot_model(model, \"my_first_model.png\")"
   ]
  },
  {
   "cell_type": "code",
   "execution_count": null,
   "metadata": {
    "colab": {},
    "colab_type": "code",
    "id": "IWuh-QJOXfrL"
   },
   "outputs": [],
   "source": [
    "model.fit(ip_train_Nor,op_train_1_samp,epochs= 150, batch_size= 10, verbose=150)"
   ]
  },
  {
   "cell_type": "markdown",
   "metadata": {
    "colab_type": "text",
    "id": "WWJOxlLseqMv"
   },
   "source": [
    "**Accuracy of Train**"
   ]
  },
  {
   "cell_type": "code",
   "execution_count": null,
   "metadata": {
    "colab": {
     "base_uri": "https://localhost:8080/",
     "height": 50
    },
    "colab_type": "code",
    "executionInfo": {
     "elapsed": 131078,
     "status": "ok",
     "timestamp": 1594930472479,
     "user": {
      "displayName": "technical tasks",
      "photoUrl": "",
      "userId": "05927116453551536656"
     },
     "user_tz": 240
    },
    "id": "ie7BKQONgmGQ",
    "outputId": "6ebdb068-23df-493e-b793-247644431632"
   },
   "outputs": [
    {
     "name": "stdout",
     "output_type": "stream",
     "text": [
      "3408/3408 [==============================] - 0s 64us/sample - loss: 0.0188 - acc: 0.9944\n",
      "Accuracy: 99.44\n"
     ]
    }
   ],
   "source": [
    "_,train_acc = model.evaluate(ip_train_Nor,op_train_1_samp)\n",
    "print('Accuracy: %.2f' % (train_acc*100))   "
   ]
  },
  {
   "cell_type": "markdown",
   "metadata": {
    "colab_type": "text",
    "id": "WC3TuWCUewd9"
   },
   "source": [
    "**Accuracy of Test**"
   ]
  },
  {
   "cell_type": "code",
   "execution_count": null,
   "metadata": {
    "colab": {
     "base_uri": "https://localhost:8080/",
     "height": 50
    },
    "colab_type": "code",
    "executionInfo": {
     "elapsed": 1226,
     "status": "ok",
     "timestamp": 1594930704181,
     "user": {
      "displayName": "technical tasks",
      "photoUrl": "",
      "userId": "05927116453551536656"
     },
     "user_tz": 240
    },
    "id": "Zkejzzy9go6q",
    "outputId": "2b0e1e92-01d1-4a4d-e2cd-b5d2fc3094d4"
   },
   "outputs": [
    {
     "name": "stdout",
     "output_type": "stream",
     "text": [
      "350/350 [==============================] - 0s 86us/sample - loss: 0.0414 - acc: 0.9829\n",
      "Accuracy: 98.29\n"
     ]
    }
   ],
   "source": [
    "_,test_acc = model.evaluate(ip_test_Nor,op_test_1_cat)\n",
    "print('Accuracy: %.2f' % (test_acc*100))"
   ]
  },
  {
   "cell_type": "code",
   "execution_count": null,
   "metadata": {
    "colab": {
     "base_uri": "https://localhost:8080/",
     "height": 34
    },
    "colab_type": "code",
    "executionInfo": {
     "elapsed": 1277,
     "status": "ok",
     "timestamp": 1594930712181,
     "user": {
      "displayName": "technical tasks",
      "photoUrl": "",
      "userId": "05927116453551536656"
     },
     "user_tz": 240
    },
    "id": "F0qVmPmhgqo2",
    "outputId": "7e593a9a-4ec3-4e1e-e3ba-088cef65a405"
   },
   "outputs": [
    {
     "name": "stdout",
     "output_type": "stream",
     "text": [
      "Train: 0.994, Test: 0.983\n"
     ]
    }
   ],
   "source": [
    "print('Train: %.3f, Test: %.3f' % (train_acc, test_acc))\n",
    "predictions = model.predict(ip_test_1)"
   ]
  },
  {
   "cell_type": "code",
   "execution_count": null,
   "metadata": {
    "colab": {},
    "colab_type": "code",
    "id": "6tyUjQd0gsRv"
   },
   "outputs": [],
   "source": [
    "#predictions = model.predict_classes(ip_test_1)\n",
    "predictions = model.predict(ip_test_1)\n",
    "predictions.shape\n",
    "predictions = np.argmax(predictions, axis=-1)\n",
    "op_test_1_cat= to_categorical(op_test_1)\n",
    "op_test_1_cat.shape\n",
    "op_test_1_cat = np.argmax(op_test_1_cat, axis=-1)"
   ]
  },
  {
   "cell_type": "markdown",
   "metadata": {
    "colab_type": "text",
    "id": "c7iOVjHxe1jh"
   },
   "source": [
    "**Sample prediction**"
   ]
  },
  {
   "cell_type": "code",
   "execution_count": null,
   "metadata": {
    "colab": {
     "base_uri": "https://localhost:8080/",
     "height": 185
    },
    "colab_type": "code",
    "executionInfo": {
     "elapsed": 1265,
     "status": "ok",
     "timestamp": 1594930725684,
     "user": {
      "displayName": "technical tasks",
      "photoUrl": "",
      "userId": "05927116453551536656"
     },
     "user_tz": 240
    },
    "id": "d14PBCxGguAp",
    "outputId": "f625fa26-735e-42f7-f5f8-8d214fde4f88"
   },
   "outputs": [
    {
     "name": "stdout",
     "output_type": "stream",
     "text": [
      "predicted = 2 ,(expected = 2)\n",
      "predicted = 1 ,(expected = 1)\n",
      "predicted = 1 ,(expected = 1)\n",
      "predicted = 4 ,(expected = 4)\n",
      "predicted = 1 ,(expected = 1)\n",
      "predicted = 1 ,(expected = 1)\n",
      "predicted = 4 ,(expected = 4)\n",
      "predicted = 2 ,(expected = 2)\n",
      "predicted = 0 ,(expected = 0)\n",
      "predicted = 3 ,(expected = 3)\n"
     ]
    }
   ],
   "source": [
    "for i in range(10):\n",
    "    print('predicted = %d ,(expected = %d)' %(predictions[i], op_test_1_cat[i]))"
   ]
  },
  {
   "cell_type": "markdown",
   "metadata": {
    "colab_type": "text",
    "id": "4eFGBGRae6ku"
   },
   "source": [
    "**Confusion Matrix for Dataset_1**"
   ]
  },
  {
   "cell_type": "code",
   "execution_count": null,
   "metadata": {
    "colab": {
     "base_uri": "https://localhost:8080/",
     "height": 566
    },
    "colab_type": "code",
    "executionInfo": {
     "elapsed": 1341,
     "status": "ok",
     "timestamp": 1594930730063,
     "user": {
      "displayName": "technical tasks",
      "photoUrl": "",
      "userId": "05927116453551536656"
     },
     "user_tz": 240
    },
    "id": "5P67dqBaXfrP",
    "outputId": "da01f5e8-19c6-4ba2-81dc-20aada3967ca"
   },
   "outputs": [
    {
     "data": {
      "image/png": "[encoded data removed]",
      "text/plain": [
       "<Figure size 648x648 with 2 Axes>"
      ]
     },
     "metadata": {
      "needs_background": "light",
      "tags": []
     },
     "output_type": "display_data"
    }
   ],
   "source": [
    "# creating a confusion matrix\n",
    "cm = confusion_matrix(predictions, op_test_1_cat)\n",
    "\n",
    "# printing the confusion matrix\n",
    "plt.rcParams['figure.figsize'] = (9, 9)\n",
    "sns.heatmap(cm, annot = True, cmap = 'Reds')\n",
    "plt.title('Confusion Matrix', fontweight = 20, fontsize = 30)\n",
    "# fix for mpl bug that cuts off top/bottom of seaborn viz\n",
    "b, t = plt.ylim() # discover the values for bottom and top\n",
    "b += 0.5 # Add 0.5 to the bottom\n",
    "t -= 0.5 # Subtract 0.5 from the top\n",
    "plt.ylim(b, t) # update the ylim(bottom, top) values\n",
    "plt.show() # ta-da!\n",
    "plt.show()"
   ]
  },
  {
   "cell_type": "markdown",
   "metadata": {
    "colab_type": "text",
    "id": "8fH73innfBKj"
   },
   "source": [
    "**Precision, Recall, F1-score for Dataset_1**"
   ]
  },
  {
   "cell_type": "code",
   "execution_count": null,
   "metadata": {
    "colab": {
     "base_uri": "https://localhost:8080/",
     "height": 269
    },
    "colab_type": "code",
    "executionInfo": {
     "elapsed": 1255,
     "status": "ok",
     "timestamp": 1594930733810,
     "user": {
      "displayName": "technical tasks",
      "photoUrl": "",
      "userId": "05927116453551536656"
     },
     "user_tz": 240
    },
    "id": "DLcEW3cDXfrR",
    "outputId": "b7b5f871-a41f-4dbb-9d6e-f15b9dbb9a8e"
   },
   "outputs": [
    {
     "name": "stdout",
     "output_type": "stream",
     "text": [
      "Accuracy Score : 0.94\n",
      "Report : \n",
      "              precision    recall  f1-score   support\n",
      "\n",
      "           0       0.74      1.00      0.85        60\n",
      "           1       1.00      1.00      1.00        59\n",
      "           2       1.00      1.00      1.00        65\n",
      "           3       1.00      1.00      1.00        56\n",
      "           4       1.00      0.63      0.77        57\n",
      "           5       1.00      1.00      1.00        53\n",
      "\n",
      "    accuracy                           0.94       350\n",
      "   macro avg       0.96      0.94      0.94       350\n",
      "weighted avg       0.96      0.94      0.94       350\n",
      "\n"
     ]
    }
   ],
   "source": [
    "\n",
    "results = confusion_matrix(op_test_1_cat, predictions) \n",
    "print('Accuracy Score :',accuracy_score(op_test_1_cat, predictions)) \n",
    "print ('Report : ')\n",
    "print (classification_report(op_test_1_cat, predictions)) "
   ]
  },
  {
   "cell_type": "markdown",
   "metadata": {
    "colab_type": "text",
    "id": "6-xNZNTEQHNs"
   },
   "source": [
    "**Save model**"
   ]
  },
  {
   "cell_type": "code",
   "execution_count": null,
   "metadata": {
    "colab": {},
    "colab_type": "code",
    "id": "u9myNK6mQGyP"
   },
   "outputs": [],
   "source": [
    "model.save(\"Model_1\")"
   ]
  },
  {
   "cell_type": "markdown",
   "metadata": {
    "colab_type": "text",
    "id": "ZvszGw26XfrT"
   },
   "source": [
    "### Neural Network model for **Dataset_2**"
   ]
  },
  {
   "cell_type": "code",
   "execution_count": null,
   "metadata": {
    "colab": {
     "base_uri": "https://localhost:8080/",
     "height": 454
    },
    "colab_type": "code",
    "executionInfo": {
     "elapsed": 106308,
     "status": "ok",
     "timestamp": 1594930128252,
     "user": {
      "displayName": "technical tasks",
      "photoUrl": "",
      "userId": "05927116453551536656"
     },
     "user_tz": 240
    },
    "id": "GOxmf6BuXfrU",
    "outputId": "79faa1b0-4447-412f-cc9e-d314fe73bcb4"
   },
   "outputs": [
    {
     "name": "stdout",
     "output_type": "stream",
     "text": [
      "Model: \"Model_final\"\n",
      "_________________________________________________________________\n",
      "Layer (type)                 Output Shape              Param #   \n",
      "=================================================================\n",
      "input_2 (InputLayer)         [(None, 125)]             0         \n",
      "_________________________________________________________________\n",
      "dense_5 (Dense)              (None, 128)               16128     \n",
      "_________________________________________________________________\n",
      "dense_6 (Dense)              (None, 64)                8256      \n",
      "_________________________________________________________________\n",
      "dropout_3 (Dropout)          (None, 64)                0         \n",
      "_________________________________________________________________\n",
      "dense_7 (Dense)              (None, 32)                2080      \n",
      "_________________________________________________________________\n",
      "dropout_4 (Dropout)          (None, 32)                0         \n",
      "_________________________________________________________________\n",
      "dense_8 (Dense)              (None, 16)                528       \n",
      "_________________________________________________________________\n",
      "dropout_5 (Dropout)          (None, 16)                0         \n",
      "_________________________________________________________________\n",
      "dense_9 (Dense)              (None, 6)                 102       \n",
      "=================================================================\n",
      "Total params: 27,094\n",
      "Trainable params: 27,094\n",
      "Non-trainable params: 0\n",
      "_________________________________________________________________\n"
     ]
    }
   ],
   "source": [
    "inputs = keras.Input(shape=(125,))\n",
    "dense = layers.Dense(128, activation='relu')\n",
    "x=dense(inputs)\n",
    "x = layers.Dense(64, kernel_initializer='uniform', activation='softsign', kernel_constraint=maxnorm(2))(x)\n",
    "x = layers.Dropout(0.2)(x)\n",
    "x = layers.Dense(32, kernel_initializer='uniform', activation='softsign', kernel_constraint=maxnorm(2))(x)\n",
    "x = layers.Dropout(0.2)(x)\n",
    "x = layers.Dense(16, kernel_initializer='uniform', activation='softsign', kernel_constraint=maxnorm(2))(x)\n",
    "x = layers.Dropout(0.2)(x)\n",
    "outputs = layers.Dense(6, activation='softmax')(x)\n",
    "    \n",
    "model = keras.Model(inputs=inputs,outputs=outputs,name=\"Model_final\")\n",
    "model.summary()\n",
    "model.compile(loss='categorical_crossentropy' ,optimizer='adam' ,metrics=['accuracy'])"
   ]
  },
  {
   "cell_type": "code",
   "execution_count": null,
   "metadata": {
    "colab": {
     "base_uri": "https://localhost:8080/",
     "height": 976
    },
    "colab_type": "code",
    "executionInfo": {
     "elapsed": 105837,
     "status": "ok",
     "timestamp": 1594930129460,
     "user": {
      "displayName": "technical tasks",
      "photoUrl": "",
      "userId": "05927116453551536656"
     },
     "user_tz": 240
    },
    "id": "xZAspQudsAUq",
    "outputId": "6dc1e3d7-09ef-4b7d-8ad2-bb298ec4988b"
   },
   "outputs": [
    {
     "data": {
      "image/png": "[encoded data removed]",
      "text/plain": [
       "<IPython.core.display.Image object>"
      ]
     },
     "execution_count": 94,
     "metadata": {
      "tags": []
     },
     "output_type": "execute_result"
    }
   ],
   "source": [
    "keras.utils.plot_model(model, \"my_second_model_with_shape_info.png\", show_shapes=True)"
   ]
  },
  {
   "cell_type": "code",
   "execution_count": null,
   "metadata": {
    "colab": {
     "base_uri": "https://localhost:8080/",
     "height": 856
    },
    "colab_type": "code",
    "executionInfo": {
     "elapsed": 106289,
     "status": "ok",
     "timestamp": 1594930130512,
     "user": {
      "displayName": "technical tasks",
      "photoUrl": "",
      "userId": "05927116453551536656"
     },
     "user_tz": 240
    },
    "id": "wvW8F1a6sAC9",
    "outputId": "8e87d66e-8a08-4c8e-d192-ec5601ba8245"
   },
   "outputs": [
    {
     "data": {
      "image/png": "[encoded data removed]",
      "text/plain": [
       "<IPython.core.display.Image object>"
      ]
     },
     "execution_count": 95,
     "metadata": {
      "tags": []
     },
     "output_type": "execute_result"
    }
   ],
   "source": [
    "keras.utils.plot_model(model, \"my_second_model.png\")"
   ]
  },
  {
   "cell_type": "code",
   "execution_count": null,
   "metadata": {
    "colab": {},
    "colab_type": "code",
    "id": "q27Uv2gFsOw_"
   },
   "outputs": [],
   "source": [
    "model.fit(ip_train_Nor_2,op_train_2_samp,epochs= 150, batch_size= 10, verbose=150)"
   ]
  },
  {
   "cell_type": "markdown",
   "metadata": {
    "colab_type": "text",
    "id": "CBfxUkICsvUB"
   },
   "source": [
    "**Accuracy of train and test**"
   ]
  },
  {
   "cell_type": "code",
   "execution_count": null,
   "metadata": {
    "colab": {
     "base_uri": "https://localhost:8080/",
     "height": 101
    },
    "colab_type": "code",
    "executionInfo": {
     "elapsed": 236161,
     "status": "ok",
     "timestamp": 1594930266228,
     "user": {
      "displayName": "technical tasks",
      "photoUrl": "",
      "userId": "05927116453551536656"
     },
     "user_tz": 240
    },
    "id": "jksLoU3csOhq",
    "outputId": "b5a31c11-da80-4980-c997-46c5118406d7"
   },
   "outputs": [
    {
     "name": "stdout",
     "output_type": "stream",
     "text": [
      "3408/3408 [==============================] - 0s 62us/sample - loss: 0.0000e+00 - acc: 1.0000\n",
      "Accuracy of train: 100.00\n",
      "350/350 [==============================] - 0s 56us/sample - loss: 0.0000e+00 - acc: 1.0000\n",
      "Accuracy of test: 100.00\n",
      "Train: 1.000, Test: 1.000\n"
     ]
    }
   ],
   "source": [
    "_,train_acc = model.evaluate(ip_train_Nor_2,op_train_2_samp)\n",
    "print('Accuracy of train: %.2f' % (train_acc*100))   \n",
    "\n",
    "_,test_acc = model.evaluate(ip_test_Nor_2,op_test_2_cat)\n",
    "print('Accuracy of test: %.2f' % (test_acc*100))\n",
    "\n",
    "print('Train: %.3f, Test: %.3f' % (train_acc, test_acc))\n",
    "predictions = model.predict(ip_test_2)"
   ]
  },
  {
   "cell_type": "markdown",
   "metadata": {
    "colab_type": "text",
    "id": "HcAnwzFAtAHe"
   },
   "source": [
    "**Sample Prediction**"
   ]
  },
  {
   "cell_type": "code",
   "execution_count": null,
   "metadata": {
    "colab": {
     "base_uri": "https://localhost:8080/",
     "height": 185
    },
    "colab_type": "code",
    "executionInfo": {
     "elapsed": 232436,
     "status": "ok",
     "timestamp": 1594930266228,
     "user": {
      "displayName": "technical tasks",
      "photoUrl": "",
      "userId": "05927116453551536656"
     },
     "user_tz": 240
    },
    "id": "bkdUOZvzsOWY",
    "outputId": "b3df9bd3-4841-4336-d156-fd0dce91abc3"
   },
   "outputs": [
    {
     "name": "stdout",
     "output_type": "stream",
     "text": [
      "predicted = 2 ,(expected = 2)\n",
      "predicted = 1 ,(expected = 1)\n",
      "predicted = 1 ,(expected = 1)\n",
      "predicted = 4 ,(expected = 4)\n",
      "predicted = 1 ,(expected = 1)\n",
      "predicted = 1 ,(expected = 1)\n",
      "predicted = 4 ,(expected = 4)\n",
      "predicted = 2 ,(expected = 2)\n",
      "predicted = 0 ,(expected = 0)\n",
      "predicted = 3 ,(expected = 3)\n"
     ]
    }
   ],
   "source": [
    "predictions_2 = model.predict(ip_test_2)\n",
    "predictions_2.shape\n",
    "predictions_2 = np.argmax(predictions_2, axis=-1)\n",
    "op_test_2_cat= to_categorical(op_test_2)\n",
    "op_test_2_cat.shape\n",
    "op_test_2_cat = np.argmax(op_test_2_cat, axis=-1)\n",
    "\n",
    "for i in range(10):\n",
    "    print('predicted = %d ,(expected = %d)' %(predictions_2[i], op_test_2_cat[i]))"
   ]
  },
  {
   "cell_type": "markdown",
   "metadata": {
    "colab_type": "text",
    "id": "seJ08iPWtY1f"
   },
   "source": [
    "**Confusion Matrix for Dataset_2**"
   ]
  },
  {
   "cell_type": "code",
   "execution_count": null,
   "metadata": {
    "colab": {
     "base_uri": "https://localhost:8080/",
     "height": 566
    },
    "colab_type": "code",
    "executionInfo": {
     "elapsed": 228435,
     "status": "ok",
     "timestamp": 1594930266230,
     "user": {
      "displayName": "technical tasks",
      "photoUrl": "",
      "userId": "05927116453551536656"
     },
     "user_tz": 240
    },
    "id": "QO47bW9OsavU",
    "outputId": "9f2ae28b-efcc-429b-8150-4a5c39743f2a"
   },
   "outputs": [
    {
     "data": {
      "image/png": "[encoded data removed]",
      "text/plain": [
       "<Figure size 648x648 with 2 Axes>"
      ]
     },
     "metadata": {
      "needs_background": "light",
      "tags": []
     },
     "output_type": "display_data"
    }
   ],
   "source": [
    "# creating a confusion matrix\n",
    "cm = confusion_matrix(predictions_2, op_test_2_cat)\n",
    "\n",
    "# printing the confusion matrix\n",
    "plt.rcParams['figure.figsize'] = (9, 9)\n",
    "sns.heatmap(cm, annot = True, cmap = 'Reds')\n",
    "plt.title('Confusion Matrix', fontweight = 20, fontsize = 30)\n",
    "# fix for mpl bug that cuts off top/bottom of seaborn viz\n",
    "b, t = plt.ylim() # discover the values for bottom and top\n",
    "b += 0.5 # Add 0.5 to the bottom\n",
    "t -= 0.5 # Subtract 0.5 from the top\n",
    "plt.ylim(b, t) # update the ylim(bottom, top) values\n",
    "plt.show() # ta-da!\n",
    "plt.show()"
   ]
  },
  {
   "cell_type": "markdown",
   "metadata": {
    "colab_type": "text",
    "id": "yXiCFW9xtMbC"
   },
   "source": [
    "**Precision, Recall, F1-score for Dataset_2**"
   ]
  },
  {
   "cell_type": "code",
   "execution_count": null,
   "metadata": {
    "colab": {
     "base_uri": "https://localhost:8080/",
     "height": 269
    },
    "colab_type": "code",
    "executionInfo": {
     "elapsed": 224733,
     "status": "ok",
     "timestamp": 1594930266231,
     "user": {
      "displayName": "technical tasks",
      "photoUrl": "",
      "userId": "05927116453551536656"
     },
     "user_tz": 240
    },
    "id": "cYmsICz8sadV",
    "outputId": "0531682f-0557-4775-bf75-59fc088aae62"
   },
   "outputs": [
    {
     "name": "stdout",
     "output_type": "stream",
     "text": [
      "Accuracy Score : 0.9371428571428572\n",
      "Report : \n",
      "              precision    recall  f1-score   support\n",
      "\n",
      "           0       0.73      1.00      0.85        60\n",
      "           1       1.00      1.00      1.00        59\n",
      "           2       1.00      1.00      1.00        65\n",
      "           3       1.00      1.00      1.00        56\n",
      "           4       1.00      0.61      0.76        57\n",
      "           5       1.00      1.00      1.00        53\n",
      "\n",
      "    accuracy                           0.94       350\n",
      "   macro avg       0.96      0.94      0.93       350\n",
      "weighted avg       0.95      0.94      0.93       350\n",
      "\n"
     ]
    }
   ],
   "source": [
    "results = confusion_matrix(op_test_2_cat, predictions_2) \n",
    "print('Accuracy Score :',accuracy_score(op_test_2_cat, predictions_2)) \n",
    "print ('Report : ')\n",
    "print (classification_report(op_test_2_cat, predictions_2)) "
   ]
  },
  {
   "cell_type": "markdown",
   "metadata": {
    "colab_type": "text",
    "id": "CkGttGbsPUbc"
   },
   "source": [
    "**Save models**"
   ]
  },
  {
   "cell_type": "code",
   "execution_count": null,
   "metadata": {
    "colab": {},
    "colab_type": "code",
    "id": "_dujRpUAPSGb"
   },
   "outputs": [],
   "source": [
    "model.save(\"Model_2\")"
   ]
  },
  {
   "cell_type": "markdown",
   "metadata": {
    "colab_type": "text",
    "id": "_PwKyyOMKZic"
   },
   "source": [
    "# **Other Algorithm models**"
   ]
  },
  {
   "cell_type": "code",
   "execution_count": 104,
   "metadata": {
    "colab": {},
    "colab_type": "code",
    "id": "gq8jZY1y_y2P"
   },
   "outputs": [],
   "source": [
    "seed = 7\n",
    "np.random.seed(seed)"
   ]
  },
  {
   "cell_type": "code",
   "execution_count": 105,
   "metadata": {
    "colab": {},
    "colab_type": "code",
    "id": "b4KdjMBn_9OG"
   },
   "outputs": [
    {
     "name": "stdout",
     "output_type": "stream",
     "text": [
      "KNN: 0.993545 (0.002196)\n",
      "CART: 0.994425 (0.001496)\n"
     ]
    }
   ],
   "source": [
    "# Spot Check Algorithms\n",
    "models = []\n",
    "models.append(('KNN', KNeighborsClassifier()))\n",
    "models.append(('CART', DecisionTreeClassifier()))\n",
    "results = []\n",
    "names = []\n",
    "for name, model in models:\n",
    "\tkfold = model_selection.KFold(n_splits=3, random_state=seed)\n",
    "\tcv_results = model_selection.cross_val_score(model, ip_train_Nor, op_train_1_samp, cv=kfold, scoring='accuracy')\n",
    "\tresults.append(cv_results)\n",
    "\tnames.append(name)\n",
    "\tmsg = \"%s: %f (%f)\" % (name, cv_results.mean(), cv_results.std())\n",
    "\tprint(msg)"
   ]
  },
  {
   "cell_type": "markdown",
   "metadata": {
    "colab_type": "text",
    "id": "Pu_r2DHsAYK2"
   },
   "source": [
    "### KNN"
   ]
  },
  {
   "cell_type": "code",
   "execution_count": 113,
   "metadata": {
    "colab": {},
    "colab_type": "code",
    "id": "mV0LdqAK__gs"
   },
   "outputs": [
    {
     "name": "stdout",
     "output_type": "stream",
     "text": [
      "0.94\n"
     ]
    }
   ],
   "source": [
    "\n",
    "#result    \n",
    "knn = KNeighborsClassifier()\n",
    "model_knn=knn.fit(ip_train_Nor, op_train_1_samp)\n",
    "predictions_knn = knn.predict(ip_test_1)\n",
    "predictions_knn = np.argmax(predictions_knn, axis=-1)\n",
    "print(accuracy_score(op_test_1, predictions_knn))"
   ]
  },
  {
   "cell_type": "code",
   "execution_count": null,
   "metadata": {
    "colab": {},
    "colab_type": "code",
    "id": "rIKA29AyKrYm"
   },
   "outputs": [],
   "source": [
    "filename = 'model_knn.sav'\n",
    "pickle.dump(model_cart, open(filename, 'wb'))"
   ]
  },
  {
   "cell_type": "code",
   "execution_count": 114,
   "metadata": {
    "colab": {},
    "colab_type": "code",
    "id": "y6OPct2KBcYE"
   },
   "outputs": [
    {
     "name": "stdout",
     "output_type": "stream",
     "text": [
      "0.9228571428571428\n"
     ]
    }
   ],
   "source": [
    "model_knn_2=knn.fit(ip_train_Nor_2, op_train_2_samp)\n",
    "predictions_knn_2 = knn.predict(ip_test_2)\n",
    "predictions_knn_2 = np.argmax(predictions_knn_2, axis=-1)\n",
    "print(accuracy_score(op_test_2, predictions_knn_2))"
   ]
  },
  {
   "cell_type": "code",
   "execution_count": null,
   "metadata": {
    "colab": {},
    "colab_type": "code",
    "id": "rIKA29AyKrYm"
   },
   "outputs": [],
   "source": [
    "filename = 'model_knn_2.sav'\n",
    "pickle.dump(model_cart, open(filename, 'wb'))"
   ]
  },
  {
   "cell_type": "code",
   "execution_count": 115,
   "metadata": {
    "colab": {},
    "colab_type": "code",
    "id": "YqsBsKdYAFkp"
   },
   "outputs": [
    {
     "data": {
      "image/png": "[encoded data removed]",
      "text/plain": [
       "<Figure size 648x648 with 2 Axes>"
      ]
     },
     "metadata": {
      "needs_background": "light"
     },
     "output_type": "display_data"
    },
    {
     "data": {
      "image/png": "[encoded data removed]",
      "text/plain": [
       "<Figure size 648x648 with 2 Axes>"
      ]
     },
     "metadata": {
      "needs_background": "light"
     },
     "output_type": "display_data"
    }
   ],
   "source": [
    "# creating a confusion matrix\n",
    "cm = confusion_matrix(op_test_1, predictions_knn)\n",
    "cm_2 = confusion_matrix(op_test_2, predictions_knn_2)\n",
    "# printing the confusion matrix\n",
    "plt.rcParams['figure.figsize'] = (9, 9)\n",
    "sns.heatmap(cm, annot = True, cmap = 'Reds')\n",
    "plt.title('Confusion Matrix for KNN', fontweight = 20, fontsize = 30)\n",
    "# fix for mpl bug that cuts off top/bottom of seaborn viz\n",
    "b, t = plt.ylim() # discover the values for bottom and top\n",
    "b += 0.5 # Add 0.5 to the bottom\n",
    "t -= 0.5 # Subtract 0.5 from the top\n",
    "plt.ylim(b, t) # update the ylim(bottom, top) values\n",
    "plt.show() # ta-da!\n",
    "plt.show()\n",
    "\n",
    "sns.heatmap(cm_2, annot = True, cmap = 'Reds')\n",
    "plt.title('Confusion Matrix for KNN', fontweight = 20, fontsize = 30)\n",
    "# fix for mpl bug that cuts off top/bottom of seaborn viz\n",
    "b, t = plt.ylim() # discover the values for bottom and top\n",
    "b += 0.5 # Add 0.5 to the bottom\n",
    "t -= 0.5 # Subtract 0.5 from the top\n",
    "plt.ylim(b, t) # update the ylim(bottom, top) values\n",
    "plt.show() # ta-da!\n",
    "plt.show()"
   ]
  },
  {
   "cell_type": "code",
   "execution_count": 116,
   "metadata": {
    "colab": {},
    "colab_type": "code",
    "id": "0ArFHvToAIU1"
   },
   "outputs": [
    {
     "name": "stdout",
     "output_type": "stream",
     "text": [
      "Accuracy Score : 0.94\n",
      "Report : \n",
      "              precision    recall  f1-score   support\n",
      "\n",
      "           0       0.74      1.00      0.85        60\n",
      "           1       1.00      1.00      1.00        59\n",
      "           2       1.00      1.00      1.00        65\n",
      "           3       1.00      1.00      1.00        56\n",
      "           4       1.00      0.63      0.77        57\n",
      "           5       1.00      1.00      1.00        53\n",
      "\n",
      "    accuracy                           0.94       350\n",
      "   macro avg       0.96      0.94      0.94       350\n",
      "weighted avg       0.96      0.94      0.94       350\n",
      "\n"
     ]
    }
   ],
   "source": [
    "results = confusion_matrix(op_test_1, predictions_knn)\n",
    "print ('Accuracy Score :', accuracy_score(op_test_1, predictions_knn))\n",
    "print ('Report : ')\n",
    "print (classification_report(op_test_1, predictions_knn))"
   ]
  },
  {
   "cell_type": "code",
   "execution_count": 117,
   "metadata": {
    "colab": {},
    "colab_type": "code",
    "id": "hTL229RMBwBR"
   },
   "outputs": [
    {
     "name": "stdout",
     "output_type": "stream",
     "text": [
      "Accuracy Score : 0.9228571428571428\n",
      "Report : \n",
      "              precision    recall  f1-score   support\n",
      "\n",
      "           0       0.69      1.00      0.82        60\n",
      "           1       1.00      1.00      1.00        59\n",
      "           2       1.00      1.00      1.00        65\n",
      "           3       1.00      1.00      1.00        56\n",
      "           4       1.00      0.53      0.69        57\n",
      "           5       1.00      1.00      1.00        53\n",
      "\n",
      "    accuracy                           0.92       350\n",
      "   macro avg       0.95      0.92      0.92       350\n",
      "weighted avg       0.95      0.92      0.92       350\n",
      "\n"
     ]
    }
   ],
   "source": [
    "results = confusion_matrix(op_test_2, predictions_knn_2)\n",
    "print ('Accuracy Score :', accuracy_score(op_test_2, predictions_knn_2))\n",
    "print ('Report : ')\n",
    "print (classification_report(op_test_2, predictions_knn_2))"
   ]
  },
  {
   "cell_type": "markdown",
   "metadata": {
    "colab_type": "text",
    "id": "Zx3or_F2AfRd"
   },
   "source": [
    "### CART"
   ]
  },
  {
   "cell_type": "code",
   "execution_count": 120,
   "metadata": {
    "colab": {},
    "colab_type": "code",
    "id": "AYf-PxR9AL0V"
   },
   "outputs": [
    {
     "name": "stdout",
     "output_type": "stream",
     "text": [
      "0.9371428571428572\n"
     ]
    }
   ],
   "source": [
    "#result    \n",
    "Cart = DecisionTreeClassifier()\n",
    "model_cart=Cart.fit(ip_train_Nor, op_train_1_samp)\n",
    "predictions_cart = Cart.predict(ip_test_1)\n",
    "predictions_cart = np.argmax(predictions_cart, axis=-1)\n",
    "print(accuracy_score(op_test_1, predictions_cart))"
   ]
  },
  {
   "cell_type": "code",
   "execution_count": null,
   "metadata": {
    "colab": {},
    "colab_type": "code",
    "id": "rIKA29AyKrYm"
   },
   "outputs": [],
   "source": [
    "filename = 'model_knn_1.sav'\n",
    "pickle.dump(model_cart, open(filename, 'wb'))"
   ]
  },
  {
   "cell_type": "code",
   "execution_count": 121,
   "metadata": {
    "colab": {},
    "colab_type": "code",
    "id": "UFdk-LnbAzlW"
   },
   "outputs": [
    {
     "name": "stdout",
     "output_type": "stream",
     "text": [
      "0.9371428571428572\n"
     ]
    }
   ],
   "source": [
    "#result    \n",
    "#Cart = DecisionTreeClassifier()\n",
    "model_cart_1=Cart.fit(ip_train_Nor_2, op_train_2_samp)\n",
    "predictions_cart_2 = Cart.predict(ip_test_2)\n",
    "predictions_cart_2 = np.argmax(predictions_cart_2, axis=-1)\n",
    "print(accuracy_score(op_test_2, predictions_cart_2))"
   ]
  },
  {
   "cell_type": "code",
   "execution_count": null,
   "metadata": {
    "colab": {},
    "colab_type": "code",
    "id": "rIKA29AyKrYm"
   },
   "outputs": [],
   "source": [
    "filename = 'model_knn_1.sav'\n",
    "pickle.dump(model_cart_1, open(filename, 'wb'))"
   ]
  },
  {
   "cell_type": "code",
   "execution_count": 123,
   "metadata": {
    "colab": {},
    "colab_type": "code",
    "id": "50z24RdIAMHG"
   },
   "outputs": [
    {
     "data": {
      "image/png": "[encoded data removed]",
      "text/plain": [
       "<Figure size 648x648 with 2 Axes>"
      ]
     },
     "metadata": {
      "needs_background": "light"
     },
     "output_type": "display_data"
    },
    {
     "data": {
      "image/png": "[encoded data removed]",
      "text/plain": [
       "<Figure size 648x648 with 2 Axes>"
      ]
     },
     "metadata": {
      "needs_background": "light"
     },
     "output_type": "display_data"
    }
   ],
   "source": [
    "# creating a confusion matrix\n",
    "cm = confusion_matrix(op_test_1, predictions_cart)\n",
    "cm_2 = confusion_matrix(op_test_2, predictions_cart_2)\n",
    "\n",
    "# printing the confusion matrix\n",
    "plt.rcParams['figure.figsize'] = (9, 9)\n",
    "sns.heatmap(cm, annot = True, cmap = 'Reds')\n",
    "plt.title('Confusion Matrix for CART ', fontweight = 20, fontsize = 30)\n",
    "# fix for mpl bug that cuts off top/bottom of seaborn viz\n",
    "b, t = plt.ylim() # discover the values for bottom and top\n",
    "b += 0.5 # Add 0.5 to the bottom\n",
    "t -= 0.5 # Subtract 0.5 from the top\n",
    "plt.ylim(b, t) # update the ylim(bottom, top) values\n",
    "plt.show() # ta-da!\n",
    "plt.show()\n",
    "\n",
    "sns.heatmap(cm_2, annot = True, cmap = 'Reds')\n",
    "plt.title('Confusion Matrix for CART ', fontweight = 20, fontsize = 30)\n",
    "# fix for mpl bug that cuts off top/bottom of seaborn viz\n",
    "b, t = plt.ylim() # discover the values for bottom and top\n",
    "b += 0.5 # Add 0.5 to the bottom\n",
    "t -= 0.5 # Subtract 0.5 from the top\n",
    "plt.ylim(b, t) # update the ylim(bottom, top) values\n",
    "plt.show() # ta-da!\n",
    "plt.show()"
   ]
  },
  {
   "cell_type": "code",
   "execution_count": 124,
   "metadata": {
    "colab": {},
    "colab_type": "code",
    "id": "a1akera9AMWJ"
   },
   "outputs": [
    {
     "name": "stdout",
     "output_type": "stream",
     "text": [
      "Accuracy Score : 0.9371428571428572\n",
      "Report : \n",
      "              precision    recall  f1-score   support\n",
      "\n",
      "           0       0.73      1.00      0.85        60\n",
      "           1       1.00      1.00      1.00        59\n",
      "           2       1.00      1.00      1.00        65\n",
      "           3       1.00      1.00      1.00        56\n",
      "           4       1.00      0.61      0.76        57\n",
      "           5       1.00      1.00      1.00        53\n",
      "\n",
      "    accuracy                           0.94       350\n",
      "   macro avg       0.96      0.94      0.93       350\n",
      "weighted avg       0.95      0.94      0.93       350\n",
      "\n"
     ]
    }
   ],
   "source": [
    "results = confusion_matrix(op_test_1, predictions_cart)\n",
    "print ('Accuracy Score :', accuracy_score(op_test_1, predictions_cart))\n",
    "print ('Report : ')\n",
    "print (classification_report(op_test_1, predictions_cart))"
   ]
  },
  {
   "cell_type": "code",
   "execution_count": 125,
   "metadata": {
    "colab": {},
    "colab_type": "code",
    "id": "GCvN6_3ZAMmc"
   },
   "outputs": [
    {
     "name": "stdout",
     "output_type": "stream",
     "text": [
      "Accuracy Score : 0.9371428571428572\n",
      "Report : \n",
      "              precision    recall  f1-score   support\n",
      "\n",
      "           0       0.73      1.00      0.85        60\n",
      "           1       1.00      1.00      1.00        59\n",
      "           2       1.00      1.00      1.00        65\n",
      "           3       1.00      1.00      1.00        56\n",
      "           4       1.00      0.61      0.76        57\n",
      "           5       1.00      1.00      1.00        53\n",
      "\n",
      "    accuracy                           0.94       350\n",
      "   macro avg       0.96      0.94      0.93       350\n",
      "weighted avg       0.95      0.94      0.93       350\n",
      "\n"
     ]
    }
   ],
   "source": [
    "results = confusion_matrix(op_test_2, predictions_cart_2)\n",
    "print ('Accuracy Score :', accuracy_score(op_test_2, predictions_cart_2))\n",
    "print ('Report : ')\n",
    "print (classification_report(op_test_2, predictions_cart_2))"
   ]
  }
 ],
 "metadata": {
  "accelerator": "GPU",
  "colab": {
   "collapsed_sections": [
    "whsPnmLoXfqy",
    "avbuHWxJXfq1",
    "Fv8v6FBWXfq4",
    "4Ld7T1_fXfq8",
    "drM_kaJ2XfrD",
    "ZvszGw26XfrT",
    "pzNCLoRdXfrV",
    "klRIQeY7Xfrl"
   ],
   "name": "Classification_data_preprocessing.ipynb",
   "provenance": []
  },
  "kernelspec": {
   "display_name": "Python 3",
   "language": "python",
   "name": "python3"
  },
  "language_info": {
   "codemirror_mode": {
    "name": "ipython",
    "version": 3
   },
   "file_extension": ".py",
   "mimetype": "text/x-python",
   "name": "python",
   "nbconvert_exporter": "python",
   "pygments_lexer": "ipython3",
   "version": "3.7.3"
  }
 },
 "nbformat": 4,
 "nbformat_minor": 1
}
